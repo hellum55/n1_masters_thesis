{
 "cells": [
  {
   "cell_type": "code",
   "execution_count": 1,
   "id": "8cebe249",
   "metadata": {},
   "outputs": [],
   "source": [
    "import zipfile\n",
    "\n",
    "# Unzipping the file\n",
    "with zipfile.ZipFile('image_data.zip', 'r') as zip_ref:\n",
    "    zip_ref.extractall('image_data')  # Extract to a folder named 'image_data'"
   ]
  }
 ],
 "metadata": {
  "kernelspec": {
   "display_name": ".venv",
   "language": "python",
   "name": "python3"
  },
  "language_info": {
   "codemirror_mode": {
    "name": "ipython",
    "version": 3
   },
   "file_extension": ".py",
   "mimetype": "text/x-python",
   "name": "python",
   "nbconvert_exporter": "python",
   "pygments_lexer": "ipython3",
   "version": "3.10.12"
  }
 },
 "nbformat": 4,
 "nbformat_minor": 5
}
