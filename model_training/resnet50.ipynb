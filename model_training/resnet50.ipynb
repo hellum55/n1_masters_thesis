{
 "cells": [
  {
   "cell_type": "code",
   "execution_count": 1,
   "id": "444c4488",
   "metadata": {},
   "outputs": [
    {
     "name": "stdout",
     "output_type": "stream",
     "text": [
      "c:\\Users\\Christian\\Documents\\Cand_merc\\n1_masters_thesis\\model_training\n",
      "c:\\Users\\Christian\\Documents\\Cand_merc\\n1_masters_thesis\n"
     ]
    }
   ],
   "source": [
    "import os\n",
    "print(os.getcwd())  # this is where Jupyter is looking from\n",
    "#one folder back\n",
    "os.chdir('..')\n",
    "print(os.getcwd())"
   ]
  },
  {
   "cell_type": "code",
   "execution_count": 13,
   "id": "e4677025",
   "metadata": {},
   "outputs": [],
   "source": [
    "import pandas as pd\n",
    "import numpy as np\n",
    "from load_data import load_dataset, ImageDataset\n",
    "\n",
    "from split import get_dataloaders\n",
    "from custom_data_aug import get_transforms\n",
    "\n",
    "import torch\n",
    "import torch.nn as nn\n",
    "import torchvision\n",
    "from config import CFG\n",
    "\n",
    "from torchinfo import summary\n",
    "\n",
    "from torch.utils.tensorboard import SummaryWriter\n",
    "from training import train  # or wherever your updated function lives\n",
    "\n",
    "from acc_loss_plot import plot_training_curves"
   ]
  },
  {
   "cell_type": "code",
   "execution_count": 3,
   "id": "c5d7b3e3",
   "metadata": {},
   "outputs": [],
   "source": [
    "# Load the dataframe\n",
    "csv_path = \"C:/Users/Christian/Desktop/N1_data/filtered_df.csv\"\n",
    "image_dir = \"C:/Users/Christian/Desktop/N1_data/image_data/\"\n",
    "df, idx_to_label = load_dataset(csv_path, image_dir)"
   ]
  },
  {
   "cell_type": "code",
   "execution_count": 4,
   "id": "b35f7105",
   "metadata": {},
   "outputs": [
    {
     "name": "stdout",
     "output_type": "stream",
     "text": [
      "                                           file_name label  label_idx\n",
      "0  C:/Users/Christian/Desktop/N1_data/image_data/...    BC          0\n",
      "1  C:/Users/Christian/Desktop/N1_data/image_data/...    BC          0\n",
      "2  C:/Users/Christian/Desktop/N1_data/image_data/...    BC          0\n",
      "3  C:/Users/Christian/Desktop/N1_data/image_data/...    BC          0\n",
      "4  C:/Users/Christian/Desktop/N1_data/image_data/...    BC          0\n"
     ]
    }
   ],
   "source": [
    "print(df.head())"
   ]
  },
  {
   "cell_type": "code",
   "execution_count": 4,
   "id": "a82b6514",
   "metadata": {},
   "outputs": [],
   "source": [
    "train_transforms, val_transforms = get_transforms()\n",
    "\n",
    "train_dataset, val_dataset, train_loader, val_loader = get_dataloaders(\n",
    "    df, train_transforms, val_transforms\n",
    ")"
   ]
  },
  {
   "cell_type": "code",
   "execution_count": 5,
   "id": "a48d7949",
   "metadata": {},
   "outputs": [],
   "source": [
    "def build_model(device: torch.device, num_classes: int = CFG.NUM_CLASSES) -> nn.Module:\n",
    "    # Set seeds\n",
    "    torch.manual_seed(CFG.SEED)\n",
    "    torch.cuda.manual_seed(CFG.SEED)\n",
    "\n",
    "    weights = torchvision.models.ResNet50_Weights.DEFAULT\n",
    "    model = torchvision.models.resnet50(weights=weights).to(device)\n",
    "\n",
    "    for param in model.parameters():\n",
    "        param.requires_grad = False\n",
    "\n",
    "    for param in model.layer4.parameters():\n",
    "        param.requires_grad = True\n",
    "    \n",
    "    model.avgpool = nn.AdaptiveAvgPool2d(output_size=(1,1))\n",
    "    model.fc = nn.Sequential(nn.Flatten(),\n",
    "        nn.Linear(2048, 512),\n",
    "        nn.ReLU(inplace=True),\n",
    "        nn.Dropout(0.5),\n",
    "        nn.Linear(512, num_classes)\n",
    "    ).to(device)\n",
    "\n",
    "    return model"
   ]
  },
  {
   "cell_type": "code",
   "execution_count": 6,
   "id": "599fea3e",
   "metadata": {},
   "outputs": [
    {
     "data": {
      "text/plain": [
       "========================================================================================================================\n",
       "Layer (type (var_name))                  Input Shape          Output Shape         Param #              Trainable\n",
       "========================================================================================================================\n",
       "ResNet (ResNet)                          [64, 3, 224, 224]    [64, 34]             --                   Partial\n",
       "├─Conv2d (conv1)                         [64, 3, 224, 224]    [64, 64, 112, 112]   (9,408)              False\n",
       "├─BatchNorm2d (bn1)                      [64, 64, 112, 112]   [64, 64, 112, 112]   (128)                False\n",
       "├─ReLU (relu)                            [64, 64, 112, 112]   [64, 64, 112, 112]   --                   --\n",
       "├─MaxPool2d (maxpool)                    [64, 64, 112, 112]   [64, 64, 56, 56]     --                   --\n",
       "├─Sequential (layer1)                    [64, 64, 56, 56]     [64, 256, 56, 56]    --                   False\n",
       "│    └─Bottleneck (0)                    [64, 64, 56, 56]     [64, 256, 56, 56]    --                   False\n",
       "│    │    └─Conv2d (conv1)               [64, 64, 56, 56]     [64, 64, 56, 56]     (4,096)              False\n",
       "│    │    └─BatchNorm2d (bn1)            [64, 64, 56, 56]     [64, 64, 56, 56]     (128)                False\n",
       "│    │    └─ReLU (relu)                  [64, 64, 56, 56]     [64, 64, 56, 56]     --                   --\n",
       "│    │    └─Conv2d (conv2)               [64, 64, 56, 56]     [64, 64, 56, 56]     (36,864)             False\n",
       "│    │    └─BatchNorm2d (bn2)            [64, 64, 56, 56]     [64, 64, 56, 56]     (128)                False\n",
       "│    │    └─ReLU (relu)                  [64, 64, 56, 56]     [64, 64, 56, 56]     --                   --\n",
       "│    │    └─Conv2d (conv3)               [64, 64, 56, 56]     [64, 256, 56, 56]    (16,384)             False\n",
       "│    │    └─BatchNorm2d (bn3)            [64, 256, 56, 56]    [64, 256, 56, 56]    (512)                False\n",
       "│    │    └─Sequential (downsample)      [64, 64, 56, 56]     [64, 256, 56, 56]    (16,896)             False\n",
       "│    │    └─ReLU (relu)                  [64, 256, 56, 56]    [64, 256, 56, 56]    --                   --\n",
       "│    └─Bottleneck (1)                    [64, 256, 56, 56]    [64, 256, 56, 56]    --                   False\n",
       "│    │    └─Conv2d (conv1)               [64, 256, 56, 56]    [64, 64, 56, 56]     (16,384)             False\n",
       "│    │    └─BatchNorm2d (bn1)            [64, 64, 56, 56]     [64, 64, 56, 56]     (128)                False\n",
       "│    │    └─ReLU (relu)                  [64, 64, 56, 56]     [64, 64, 56, 56]     --                   --\n",
       "│    │    └─Conv2d (conv2)               [64, 64, 56, 56]     [64, 64, 56, 56]     (36,864)             False\n",
       "│    │    └─BatchNorm2d (bn2)            [64, 64, 56, 56]     [64, 64, 56, 56]     (128)                False\n",
       "│    │    └─ReLU (relu)                  [64, 64, 56, 56]     [64, 64, 56, 56]     --                   --\n",
       "│    │    └─Conv2d (conv3)               [64, 64, 56, 56]     [64, 256, 56, 56]    (16,384)             False\n",
       "│    │    └─BatchNorm2d (bn3)            [64, 256, 56, 56]    [64, 256, 56, 56]    (512)                False\n",
       "│    │    └─ReLU (relu)                  [64, 256, 56, 56]    [64, 256, 56, 56]    --                   --\n",
       "│    └─Bottleneck (2)                    [64, 256, 56, 56]    [64, 256, 56, 56]    --                   False\n",
       "│    │    └─Conv2d (conv1)               [64, 256, 56, 56]    [64, 64, 56, 56]     (16,384)             False\n",
       "│    │    └─BatchNorm2d (bn1)            [64, 64, 56, 56]     [64, 64, 56, 56]     (128)                False\n",
       "│    │    └─ReLU (relu)                  [64, 64, 56, 56]     [64, 64, 56, 56]     --                   --\n",
       "│    │    └─Conv2d (conv2)               [64, 64, 56, 56]     [64, 64, 56, 56]     (36,864)             False\n",
       "│    │    └─BatchNorm2d (bn2)            [64, 64, 56, 56]     [64, 64, 56, 56]     (128)                False\n",
       "│    │    └─ReLU (relu)                  [64, 64, 56, 56]     [64, 64, 56, 56]     --                   --\n",
       "│    │    └─Conv2d (conv3)               [64, 64, 56, 56]     [64, 256, 56, 56]    (16,384)             False\n",
       "│    │    └─BatchNorm2d (bn3)            [64, 256, 56, 56]    [64, 256, 56, 56]    (512)                False\n",
       "│    │    └─ReLU (relu)                  [64, 256, 56, 56]    [64, 256, 56, 56]    --                   --\n",
       "├─Sequential (layer2)                    [64, 256, 56, 56]    [64, 512, 28, 28]    --                   False\n",
       "│    └─Bottleneck (0)                    [64, 256, 56, 56]    [64, 512, 28, 28]    --                   False\n",
       "│    │    └─Conv2d (conv1)               [64, 256, 56, 56]    [64, 128, 56, 56]    (32,768)             False\n",
       "│    │    └─BatchNorm2d (bn1)            [64, 128, 56, 56]    [64, 128, 56, 56]    (256)                False\n",
       "│    │    └─ReLU (relu)                  [64, 128, 56, 56]    [64, 128, 56, 56]    --                   --\n",
       "│    │    └─Conv2d (conv2)               [64, 128, 56, 56]    [64, 128, 28, 28]    (147,456)            False\n",
       "│    │    └─BatchNorm2d (bn2)            [64, 128, 28, 28]    [64, 128, 28, 28]    (256)                False\n",
       "│    │    └─ReLU (relu)                  [64, 128, 28, 28]    [64, 128, 28, 28]    --                   --\n",
       "│    │    └─Conv2d (conv3)               [64, 128, 28, 28]    [64, 512, 28, 28]    (65,536)             False\n",
       "│    │    └─BatchNorm2d (bn3)            [64, 512, 28, 28]    [64, 512, 28, 28]    (1,024)              False\n",
       "│    │    └─Sequential (downsample)      [64, 256, 56, 56]    [64, 512, 28, 28]    (132,096)            False\n",
       "│    │    └─ReLU (relu)                  [64, 512, 28, 28]    [64, 512, 28, 28]    --                   --\n",
       "│    └─Bottleneck (1)                    [64, 512, 28, 28]    [64, 512, 28, 28]    --                   False\n",
       "│    │    └─Conv2d (conv1)               [64, 512, 28, 28]    [64, 128, 28, 28]    (65,536)             False\n",
       "│    │    └─BatchNorm2d (bn1)            [64, 128, 28, 28]    [64, 128, 28, 28]    (256)                False\n",
       "│    │    └─ReLU (relu)                  [64, 128, 28, 28]    [64, 128, 28, 28]    --                   --\n",
       "│    │    └─Conv2d (conv2)               [64, 128, 28, 28]    [64, 128, 28, 28]    (147,456)            False\n",
       "│    │    └─BatchNorm2d (bn2)            [64, 128, 28, 28]    [64, 128, 28, 28]    (256)                False\n",
       "│    │    └─ReLU (relu)                  [64, 128, 28, 28]    [64, 128, 28, 28]    --                   --\n",
       "│    │    └─Conv2d (conv3)               [64, 128, 28, 28]    [64, 512, 28, 28]    (65,536)             False\n",
       "│    │    └─BatchNorm2d (bn3)            [64, 512, 28, 28]    [64, 512, 28, 28]    (1,024)              False\n",
       "│    │    └─ReLU (relu)                  [64, 512, 28, 28]    [64, 512, 28, 28]    --                   --\n",
       "│    └─Bottleneck (2)                    [64, 512, 28, 28]    [64, 512, 28, 28]    --                   False\n",
       "│    │    └─Conv2d (conv1)               [64, 512, 28, 28]    [64, 128, 28, 28]    (65,536)             False\n",
       "│    │    └─BatchNorm2d (bn1)            [64, 128, 28, 28]    [64, 128, 28, 28]    (256)                False\n",
       "│    │    └─ReLU (relu)                  [64, 128, 28, 28]    [64, 128, 28, 28]    --                   --\n",
       "│    │    └─Conv2d (conv2)               [64, 128, 28, 28]    [64, 128, 28, 28]    (147,456)            False\n",
       "│    │    └─BatchNorm2d (bn2)            [64, 128, 28, 28]    [64, 128, 28, 28]    (256)                False\n",
       "│    │    └─ReLU (relu)                  [64, 128, 28, 28]    [64, 128, 28, 28]    --                   --\n",
       "│    │    └─Conv2d (conv3)               [64, 128, 28, 28]    [64, 512, 28, 28]    (65,536)             False\n",
       "│    │    └─BatchNorm2d (bn3)            [64, 512, 28, 28]    [64, 512, 28, 28]    (1,024)              False\n",
       "│    │    └─ReLU (relu)                  [64, 512, 28, 28]    [64, 512, 28, 28]    --                   --\n",
       "│    └─Bottleneck (3)                    [64, 512, 28, 28]    [64, 512, 28, 28]    --                   False\n",
       "│    │    └─Conv2d (conv1)               [64, 512, 28, 28]    [64, 128, 28, 28]    (65,536)             False\n",
       "│    │    └─BatchNorm2d (bn1)            [64, 128, 28, 28]    [64, 128, 28, 28]    (256)                False\n",
       "│    │    └─ReLU (relu)                  [64, 128, 28, 28]    [64, 128, 28, 28]    --                   --\n",
       "│    │    └─Conv2d (conv2)               [64, 128, 28, 28]    [64, 128, 28, 28]    (147,456)            False\n",
       "│    │    └─BatchNorm2d (bn2)            [64, 128, 28, 28]    [64, 128, 28, 28]    (256)                False\n",
       "│    │    └─ReLU (relu)                  [64, 128, 28, 28]    [64, 128, 28, 28]    --                   --\n",
       "│    │    └─Conv2d (conv3)               [64, 128, 28, 28]    [64, 512, 28, 28]    (65,536)             False\n",
       "│    │    └─BatchNorm2d (bn3)            [64, 512, 28, 28]    [64, 512, 28, 28]    (1,024)              False\n",
       "│    │    └─ReLU (relu)                  [64, 512, 28, 28]    [64, 512, 28, 28]    --                   --\n",
       "├─Sequential (layer3)                    [64, 512, 28, 28]    [64, 1024, 14, 14]   --                   False\n",
       "│    └─Bottleneck (0)                    [64, 512, 28, 28]    [64, 1024, 14, 14]   --                   False\n",
       "│    │    └─Conv2d (conv1)               [64, 512, 28, 28]    [64, 256, 28, 28]    (131,072)            False\n",
       "│    │    └─BatchNorm2d (bn1)            [64, 256, 28, 28]    [64, 256, 28, 28]    (512)                False\n",
       "│    │    └─ReLU (relu)                  [64, 256, 28, 28]    [64, 256, 28, 28]    --                   --\n",
       "│    │    └─Conv2d (conv2)               [64, 256, 28, 28]    [64, 256, 14, 14]    (589,824)            False\n",
       "│    │    └─BatchNorm2d (bn2)            [64, 256, 14, 14]    [64, 256, 14, 14]    (512)                False\n",
       "│    │    └─ReLU (relu)                  [64, 256, 14, 14]    [64, 256, 14, 14]    --                   --\n",
       "│    │    └─Conv2d (conv3)               [64, 256, 14, 14]    [64, 1024, 14, 14]   (262,144)            False\n",
       "│    │    └─BatchNorm2d (bn3)            [64, 1024, 14, 14]   [64, 1024, 14, 14]   (2,048)              False\n",
       "│    │    └─Sequential (downsample)      [64, 512, 28, 28]    [64, 1024, 14, 14]   (526,336)            False\n",
       "│    │    └─ReLU (relu)                  [64, 1024, 14, 14]   [64, 1024, 14, 14]   --                   --\n",
       "│    └─Bottleneck (1)                    [64, 1024, 14, 14]   [64, 1024, 14, 14]   --                   False\n",
       "│    │    └─Conv2d (conv1)               [64, 1024, 14, 14]   [64, 256, 14, 14]    (262,144)            False\n",
       "│    │    └─BatchNorm2d (bn1)            [64, 256, 14, 14]    [64, 256, 14, 14]    (512)                False\n",
       "│    │    └─ReLU (relu)                  [64, 256, 14, 14]    [64, 256, 14, 14]    --                   --\n",
       "│    │    └─Conv2d (conv2)               [64, 256, 14, 14]    [64, 256, 14, 14]    (589,824)            False\n",
       "│    │    └─BatchNorm2d (bn2)            [64, 256, 14, 14]    [64, 256, 14, 14]    (512)                False\n",
       "│    │    └─ReLU (relu)                  [64, 256, 14, 14]    [64, 256, 14, 14]    --                   --\n",
       "│    │    └─Conv2d (conv3)               [64, 256, 14, 14]    [64, 1024, 14, 14]   (262,144)            False\n",
       "│    │    └─BatchNorm2d (bn3)            [64, 1024, 14, 14]   [64, 1024, 14, 14]   (2,048)              False\n",
       "│    │    └─ReLU (relu)                  [64, 1024, 14, 14]   [64, 1024, 14, 14]   --                   --\n",
       "│    └─Bottleneck (2)                    [64, 1024, 14, 14]   [64, 1024, 14, 14]   --                   False\n",
       "│    │    └─Conv2d (conv1)               [64, 1024, 14, 14]   [64, 256, 14, 14]    (262,144)            False\n",
       "│    │    └─BatchNorm2d (bn1)            [64, 256, 14, 14]    [64, 256, 14, 14]    (512)                False\n",
       "│    │    └─ReLU (relu)                  [64, 256, 14, 14]    [64, 256, 14, 14]    --                   --\n",
       "│    │    └─Conv2d (conv2)               [64, 256, 14, 14]    [64, 256, 14, 14]    (589,824)            False\n",
       "│    │    └─BatchNorm2d (bn2)            [64, 256, 14, 14]    [64, 256, 14, 14]    (512)                False\n",
       "│    │    └─ReLU (relu)                  [64, 256, 14, 14]    [64, 256, 14, 14]    --                   --\n",
       "│    │    └─Conv2d (conv3)               [64, 256, 14, 14]    [64, 1024, 14, 14]   (262,144)            False\n",
       "│    │    └─BatchNorm2d (bn3)            [64, 1024, 14, 14]   [64, 1024, 14, 14]   (2,048)              False\n",
       "│    │    └─ReLU (relu)                  [64, 1024, 14, 14]   [64, 1024, 14, 14]   --                   --\n",
       "│    └─Bottleneck (3)                    [64, 1024, 14, 14]   [64, 1024, 14, 14]   --                   False\n",
       "│    │    └─Conv2d (conv1)               [64, 1024, 14, 14]   [64, 256, 14, 14]    (262,144)            False\n",
       "│    │    └─BatchNorm2d (bn1)            [64, 256, 14, 14]    [64, 256, 14, 14]    (512)                False\n",
       "│    │    └─ReLU (relu)                  [64, 256, 14, 14]    [64, 256, 14, 14]    --                   --\n",
       "│    │    └─Conv2d (conv2)               [64, 256, 14, 14]    [64, 256, 14, 14]    (589,824)            False\n",
       "│    │    └─BatchNorm2d (bn2)            [64, 256, 14, 14]    [64, 256, 14, 14]    (512)                False\n",
       "│    │    └─ReLU (relu)                  [64, 256, 14, 14]    [64, 256, 14, 14]    --                   --\n",
       "│    │    └─Conv2d (conv3)               [64, 256, 14, 14]    [64, 1024, 14, 14]   (262,144)            False\n",
       "│    │    └─BatchNorm2d (bn3)            [64, 1024, 14, 14]   [64, 1024, 14, 14]   (2,048)              False\n",
       "│    │    └─ReLU (relu)                  [64, 1024, 14, 14]   [64, 1024, 14, 14]   --                   --\n",
       "│    └─Bottleneck (4)                    [64, 1024, 14, 14]   [64, 1024, 14, 14]   --                   False\n",
       "│    │    └─Conv2d (conv1)               [64, 1024, 14, 14]   [64, 256, 14, 14]    (262,144)            False\n",
       "│    │    └─BatchNorm2d (bn1)            [64, 256, 14, 14]    [64, 256, 14, 14]    (512)                False\n",
       "│    │    └─ReLU (relu)                  [64, 256, 14, 14]    [64, 256, 14, 14]    --                   --\n",
       "│    │    └─Conv2d (conv2)               [64, 256, 14, 14]    [64, 256, 14, 14]    (589,824)            False\n",
       "│    │    └─BatchNorm2d (bn2)            [64, 256, 14, 14]    [64, 256, 14, 14]    (512)                False\n",
       "│    │    └─ReLU (relu)                  [64, 256, 14, 14]    [64, 256, 14, 14]    --                   --\n",
       "│    │    └─Conv2d (conv3)               [64, 256, 14, 14]    [64, 1024, 14, 14]   (262,144)            False\n",
       "│    │    └─BatchNorm2d (bn3)            [64, 1024, 14, 14]   [64, 1024, 14, 14]   (2,048)              False\n",
       "│    │    └─ReLU (relu)                  [64, 1024, 14, 14]   [64, 1024, 14, 14]   --                   --\n",
       "│    └─Bottleneck (5)                    [64, 1024, 14, 14]   [64, 1024, 14, 14]   --                   False\n",
       "│    │    └─Conv2d (conv1)               [64, 1024, 14, 14]   [64, 256, 14, 14]    (262,144)            False\n",
       "│    │    └─BatchNorm2d (bn1)            [64, 256, 14, 14]    [64, 256, 14, 14]    (512)                False\n",
       "│    │    └─ReLU (relu)                  [64, 256, 14, 14]    [64, 256, 14, 14]    --                   --\n",
       "│    │    └─Conv2d (conv2)               [64, 256, 14, 14]    [64, 256, 14, 14]    (589,824)            False\n",
       "│    │    └─BatchNorm2d (bn2)            [64, 256, 14, 14]    [64, 256, 14, 14]    (512)                False\n",
       "│    │    └─ReLU (relu)                  [64, 256, 14, 14]    [64, 256, 14, 14]    --                   --\n",
       "│    │    └─Conv2d (conv3)               [64, 256, 14, 14]    [64, 1024, 14, 14]   (262,144)            False\n",
       "│    │    └─BatchNorm2d (bn3)            [64, 1024, 14, 14]   [64, 1024, 14, 14]   (2,048)              False\n",
       "│    │    └─ReLU (relu)                  [64, 1024, 14, 14]   [64, 1024, 14, 14]   --                   --\n",
       "├─Sequential (layer4)                    [64, 1024, 14, 14]   [64, 2048, 7, 7]     --                   True\n",
       "│    └─Bottleneck (0)                    [64, 1024, 14, 14]   [64, 2048, 7, 7]     --                   True\n",
       "│    │    └─Conv2d (conv1)               [64, 1024, 14, 14]   [64, 512, 14, 14]    524,288              True\n",
       "│    │    └─BatchNorm2d (bn1)            [64, 512, 14, 14]    [64, 512, 14, 14]    1,024                True\n",
       "│    │    └─ReLU (relu)                  [64, 512, 14, 14]    [64, 512, 14, 14]    --                   --\n",
       "│    │    └─Conv2d (conv2)               [64, 512, 14, 14]    [64, 512, 7, 7]      2,359,296            True\n",
       "│    │    └─BatchNorm2d (bn2)            [64, 512, 7, 7]      [64, 512, 7, 7]      1,024                True\n",
       "│    │    └─ReLU (relu)                  [64, 512, 7, 7]      [64, 512, 7, 7]      --                   --\n",
       "│    │    └─Conv2d (conv3)               [64, 512, 7, 7]      [64, 2048, 7, 7]     1,048,576            True\n",
       "│    │    └─BatchNorm2d (bn3)            [64, 2048, 7, 7]     [64, 2048, 7, 7]     4,096                True\n",
       "│    │    └─Sequential (downsample)      [64, 1024, 14, 14]   [64, 2048, 7, 7]     2,101,248            True\n",
       "│    │    └─ReLU (relu)                  [64, 2048, 7, 7]     [64, 2048, 7, 7]     --                   --\n",
       "│    └─Bottleneck (1)                    [64, 2048, 7, 7]     [64, 2048, 7, 7]     --                   True\n",
       "│    │    └─Conv2d (conv1)               [64, 2048, 7, 7]     [64, 512, 7, 7]      1,048,576            True\n",
       "│    │    └─BatchNorm2d (bn1)            [64, 512, 7, 7]      [64, 512, 7, 7]      1,024                True\n",
       "│    │    └─ReLU (relu)                  [64, 512, 7, 7]      [64, 512, 7, 7]      --                   --\n",
       "│    │    └─Conv2d (conv2)               [64, 512, 7, 7]      [64, 512, 7, 7]      2,359,296            True\n",
       "│    │    └─BatchNorm2d (bn2)            [64, 512, 7, 7]      [64, 512, 7, 7]      1,024                True\n",
       "│    │    └─ReLU (relu)                  [64, 512, 7, 7]      [64, 512, 7, 7]      --                   --\n",
       "│    │    └─Conv2d (conv3)               [64, 512, 7, 7]      [64, 2048, 7, 7]     1,048,576            True\n",
       "│    │    └─BatchNorm2d (bn3)            [64, 2048, 7, 7]     [64, 2048, 7, 7]     4,096                True\n",
       "│    │    └─ReLU (relu)                  [64, 2048, 7, 7]     [64, 2048, 7, 7]     --                   --\n",
       "│    └─Bottleneck (2)                    [64, 2048, 7, 7]     [64, 2048, 7, 7]     --                   True\n",
       "│    │    └─Conv2d (conv1)               [64, 2048, 7, 7]     [64, 512, 7, 7]      1,048,576            True\n",
       "│    │    └─BatchNorm2d (bn1)            [64, 512, 7, 7]      [64, 512, 7, 7]      1,024                True\n",
       "│    │    └─ReLU (relu)                  [64, 512, 7, 7]      [64, 512, 7, 7]      --                   --\n",
       "│    │    └─Conv2d (conv2)               [64, 512, 7, 7]      [64, 512, 7, 7]      2,359,296            True\n",
       "│    │    └─BatchNorm2d (bn2)            [64, 512, 7, 7]      [64, 512, 7, 7]      1,024                True\n",
       "│    │    └─ReLU (relu)                  [64, 512, 7, 7]      [64, 512, 7, 7]      --                   --\n",
       "│    │    └─Conv2d (conv3)               [64, 512, 7, 7]      [64, 2048, 7, 7]     1,048,576            True\n",
       "│    │    └─BatchNorm2d (bn3)            [64, 2048, 7, 7]     [64, 2048, 7, 7]     4,096                True\n",
       "│    │    └─ReLU (relu)                  [64, 2048, 7, 7]     [64, 2048, 7, 7]     --                   --\n",
       "├─AdaptiveAvgPool2d (avgpool)            [64, 2048, 7, 7]     [64, 2048, 1, 1]     --                   --\n",
       "├─Sequential (fc)                        [64, 2048]           [64, 34]             --                   True\n",
       "│    └─Flatten (0)                       [64, 2048]           [64, 2048]           --                   --\n",
       "│    └─Linear (1)                        [64, 2048]           [64, 512]            1,049,088            True\n",
       "│    └─ReLU (2)                          [64, 512]            [64, 512]            --                   --\n",
       "│    └─Dropout (3)                       [64, 512]            [64, 512]            --                   --\n",
       "│    └─Linear (4)                        [64, 512]            [64, 34]             17,442               True\n",
       "========================================================================================================================\n",
       "Total params: 24,574,562\n",
       "Trainable params: 16,031,266\n",
       "Non-trainable params: 8,543,296\n",
       "Total mult-adds (Units.GIGABYTES): 261.65\n",
       "========================================================================================================================\n",
       "Input size (MB): 38.54\n",
       "Forward/backward pass size (MB): 11381.00\n",
       "Params size (MB): 98.30\n",
       "Estimated Total Size (MB): 11517.83\n",
       "========================================================================================================================"
      ]
     },
     "execution_count": 6,
     "metadata": {},
     "output_type": "execute_result"
    }
   ],
   "source": [
    "cnn = build_model(device=CFG.DEVICE)\n",
    "\n",
    "# View model summary\n",
    "summary(\n",
    "    model=cnn, \n",
    "    input_size=(CFG.BATCH_SIZE, CFG.CHANNELS, CFG.WIDTH, CFG.HEIGHT),\n",
    "    col_names=[\"input_size\", \"output_size\", \"num_params\", \"trainable\"],\n",
    "    col_width=20,\n",
    "    row_settings=[\"var_names\"]\n",
    ")"
   ]
  },
  {
   "cell_type": "code",
   "execution_count": 7,
   "id": "0e015d81",
   "metadata": {},
   "outputs": [],
   "source": [
    "# Define Loss Function\n",
    "loss_fn = nn.CrossEntropyLoss(\n",
    "    label_smoothing=0.1\n",
    ")\n",
    "\n",
    "# Define Optimizer\n",
    "optimizer = torch.optim.Adam(\n",
    "    cnn.parameters(),\n",
    "    lr=CFG.LR\n",
    ")"
   ]
  },
  {
   "cell_type": "code",
   "execution_count": 8,
   "id": "a08a866c",
   "metadata": {},
   "outputs": [
    {
     "name": "stdout",
     "output_type": "stream",
     "text": [
      "\n",
      "Epoch 1/3\n"
     ]
    },
    {
     "data": {
      "application/vnd.jupyter.widget-view+json": {
       "model_id": "74bdc5333dc743ae914be64beac6c200",
       "version_major": 2,
       "version_minor": 0
      },
      "text/plain": [
       "  0%|          | 0/117 [00:00<?, ?it/s]"
      ]
     },
     "metadata": {},
     "output_type": "display_data"
    },
    {
     "name": "stdout",
     "output_type": "stream",
     "text": [
      "loss: 2.4578 - top1: 0.3168 - top5: 0.7202 - eval_loss: 1.7321 - eval_top1: 0.5445 - eval_top5: 0.9506\n",
      "\n",
      "Epoch 2/3\n"
     ]
    },
    {
     "data": {
      "application/vnd.jupyter.widget-view+json": {
       "model_id": "1a3f045977484bef88ddd4a9c0a4c0ae",
       "version_major": 2,
       "version_minor": 0
      },
      "text/plain": [
       "  0%|          | 0/117 [00:00<?, ?it/s]"
      ]
     },
     "metadata": {},
     "output_type": "display_data"
    },
    {
     "name": "stdout",
     "output_type": "stream",
     "text": [
      "loss: 1.7955 - top1: 0.5240 - top5: 0.9253 - eval_loss: 1.5766 - eval_top1: 0.5878 - eval_top5: 0.9688\n",
      "\n",
      "Epoch 3/3\n"
     ]
    },
    {
     "data": {
      "application/vnd.jupyter.widget-view+json": {
       "model_id": "7a60bc1ef2ba4b06b243afa81861791a",
       "version_major": 2,
       "version_minor": 0
      },
      "text/plain": [
       "  0%|          | 0/117 [00:00<?, ?it/s]"
      ]
     },
     "metadata": {},
     "output_type": "display_data"
    },
    {
     "name": "stdout",
     "output_type": "stream",
     "text": [
      "loss: 1.6457 - top1: 0.5845 - top5: 0.9492 - eval_loss: 1.5316 - eval_top1: 0.6538 - eval_top5: 0.9688\n"
     ]
    }
   ],
   "source": [
    "writer = SummaryWriter(log_dir=\"runs/exp1_efficientnet\")\n",
    "\n",
    "session = train(\n",
    "    model=cnn,\n",
    "    train_dataloader=train_loader,\n",
    "    eval_dataloader=val_loader,\n",
    "    optimizer=optimizer,\n",
    "    loss_fn=loss_fn,\n",
    "    epochs=CFG.EPOCHS,\n",
    "    device=CFG.DEVICE,\n",
    "    writer=writer\n",
    ")\n",
    "\n",
    "writer.close()"
   ]
  },
  {
   "cell_type": "code",
   "execution_count": 10,
   "id": "b6ee8121",
   "metadata": {},
   "outputs": [
    {
     "data": {
      "text/html": [
       "<div>\n",
       "<style scoped>\n",
       "    .dataframe tbody tr th:only-of-type {\n",
       "        vertical-align: middle;\n",
       "    }\n",
       "\n",
       "    .dataframe tbody tr th {\n",
       "        vertical-align: top;\n",
       "    }\n",
       "\n",
       "    .dataframe thead th {\n",
       "        text-align: right;\n",
       "    }\n",
       "</style>\n",
       "<table border=\"1\" class=\"dataframe\">\n",
       "  <thead>\n",
       "    <tr style=\"text-align: right;\">\n",
       "      <th></th>\n",
       "      <th>loss</th>\n",
       "      <th>accuracy</th>\n",
       "      <th>top5_accuracy</th>\n",
       "      <th>eval_loss</th>\n",
       "      <th>eval_accuracy</th>\n",
       "      <th>eval_top5_accuracy</th>\n",
       "    </tr>\n",
       "  </thead>\n",
       "  <tbody>\n",
       "    <tr>\n",
       "      <th>0</th>\n",
       "      <td>2.457811</td>\n",
       "      <td>0.316850</td>\n",
       "      <td>0.720200</td>\n",
       "      <td>1.732096</td>\n",
       "      <td>0.544471</td>\n",
       "      <td>0.950641</td>\n",
       "    </tr>\n",
       "    <tr>\n",
       "      <th>1</th>\n",
       "      <td>1.795486</td>\n",
       "      <td>0.523956</td>\n",
       "      <td>0.925335</td>\n",
       "      <td>1.576558</td>\n",
       "      <td>0.587821</td>\n",
       "      <td>0.968750</td>\n",
       "    </tr>\n",
       "    <tr>\n",
       "      <th>2</th>\n",
       "      <td>1.645655</td>\n",
       "      <td>0.584478</td>\n",
       "      <td>0.949233</td>\n",
       "      <td>1.531643</td>\n",
       "      <td>0.653766</td>\n",
       "      <td>0.968750</td>\n",
       "    </tr>\n",
       "  </tbody>\n",
       "</table>\n",
       "</div>"
      ],
      "text/plain": [
       "       loss  accuracy  top5_accuracy  eval_loss  eval_accuracy  \\\n",
       "0  2.457811  0.316850       0.720200   1.732096       0.544471   \n",
       "1  1.795486  0.523956       0.925335   1.576558       0.587821   \n",
       "2  1.645655  0.584478       0.949233   1.531643       0.653766   \n",
       "\n",
       "   eval_top5_accuracy  \n",
       "0            0.950641  \n",
       "1            0.968750  \n",
       "2            0.968750  "
      ]
     },
     "execution_count": 10,
     "metadata": {},
     "output_type": "execute_result"
    }
   ],
   "source": [
    "# Convert history dict to DataFrame\n",
    "session_history_df = pd.DataFrame(session)\n",
    "session_history_df"
   ]
  },
  {
   "cell_type": "code",
   "execution_count": 14,
   "id": "00a5eda1",
   "metadata": {},
   "outputs": [
    {
     "ename": "KeyError",
     "evalue": "'eval_accuaracy'",
     "output_type": "error",
     "traceback": [
      "\u001b[31m---------------------------------------------------------------------------\u001b[39m",
      "\u001b[31mKeyError\u001b[39m                                  Traceback (most recent call last)",
      "\u001b[36mCell\u001b[39m\u001b[36m \u001b[39m\u001b[32mIn[14]\u001b[39m\u001b[32m, line 3\u001b[39m\n\u001b[32m      1\u001b[39m \u001b[38;5;28;01mfrom\u001b[39;00m\u001b[38;5;250m \u001b[39m\u001b[34;01macc_loss_plot\u001b[39;00m\u001b[38;5;250m \u001b[39m\u001b[38;5;28;01mimport\u001b[39;00m plot_training_curves\n\u001b[32m      2\u001b[39m \u001b[38;5;66;03m# Plot EfficientNet session training history \u001b[39;00m\n\u001b[32m----> \u001b[39m\u001b[32m3\u001b[39m \u001b[43mplot_training_curves\u001b[49m\u001b[43m(\u001b[49m\u001b[43msession\u001b[49m\u001b[43m)\u001b[49m\n",
      "\u001b[36mFile \u001b[39m\u001b[32mc:\\Users\\Christian\\Documents\\Cand_merc\\n1_masters_thesis\\acc_loss_plot.py:11\u001b[39m, in \u001b[36mplot_training_curves\u001b[39m\u001b[34m(history)\u001b[39m\n\u001b[32m      8\u001b[39m val_loss = np.array(history[\u001b[33m'\u001b[39m\u001b[33meval_loss\u001b[39m\u001b[33m'\u001b[39m])\n\u001b[32m     10\u001b[39m accuracy = np.array(history[\u001b[33m'\u001b[39m\u001b[33maccuracy\u001b[39m\u001b[33m'\u001b[39m])\n\u001b[32m---> \u001b[39m\u001b[32m11\u001b[39m val_accuracy = np.array(\u001b[43mhistory\u001b[49m\u001b[43m[\u001b[49m\u001b[33;43m'\u001b[39;49m\u001b[33;43meval_accuaracy\u001b[39;49m\u001b[33;43m'\u001b[39;49m\u001b[43m]\u001b[49m)\n\u001b[32m     13\u001b[39m epochs = \u001b[38;5;28mrange\u001b[39m(\u001b[38;5;28mlen\u001b[39m(history[\u001b[33m'\u001b[39m\u001b[33mloss\u001b[39m\u001b[33m'\u001b[39m]))\n\u001b[32m     15\u001b[39m fig, (ax1, ax2) = plt.subplots(\u001b[32m1\u001b[39m, \u001b[32m2\u001b[39m, figsize=(\u001b[32m20\u001b[39m, \u001b[32m8\u001b[39m))\n",
      "\u001b[31mKeyError\u001b[39m: 'eval_accuaracy'"
     ]
    }
   ],
   "source": [
    "from acc_loss_plot import plot_training_curves\n",
    "# Plot EfficientNet session training history \n",
    "plot_training_curves(session)"
   ]
  }
 ],
 "metadata": {
  "kernelspec": {
   "display_name": ".venv",
   "language": "python",
   "name": "python3"
  },
  "language_info": {
   "codemirror_mode": {
    "name": "ipython",
    "version": 3
   },
   "file_extension": ".py",
   "mimetype": "text/x-python",
   "name": "python",
   "nbconvert_exporter": "python",
   "pygments_lexer": "ipython3",
   "version": "3.12.0"
  }
 },
 "nbformat": 4,
 "nbformat_minor": 5
}
