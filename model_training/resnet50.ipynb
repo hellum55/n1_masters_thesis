{
 "cells": [
  {
   "cell_type": "code",
   "execution_count": 1,
   "id": "444c4488",
   "metadata": {},
   "outputs": [
    {
     "name": "stdout",
     "output_type": "stream",
     "text": [
      "/root/n1_masters_thesis/model_training\n",
      "/root/n1_masters_thesis\n"
     ]
    }
   ],
   "source": [
    "import os\n",
    "print(os.getcwd())  # this is where Jupyter is looking from\n",
    "#one folder back\n",
    "os.chdir('..')\n",
    "print(os.getcwd())"
   ]
  },
  {
   "cell_type": "code",
   "execution_count": 2,
   "id": "e4677025",
   "metadata": {},
   "outputs": [],
   "source": [
    "import pandas as pd\n",
    "import numpy as np\n",
    "from load_data import load_dataset, ImageDataset\n",
    "\n",
    "from split import get_dataloaders\n",
    "from custom_data_aug import get_transforms\n",
    "from auto_aug import get_autoaugment_transforms\n",
    "\n",
    "import torch\n",
    "import torch.nn as nn\n",
    "import torchvision\n",
    "from config import CFG\n",
    "\n",
    "from torchinfo import summary\n",
    "\n",
    "from torch.utils.tensorboard import SummaryWriter\n",
    "from training import train  # or wherever your updated function lives\n",
    "\n",
    "from acc_loss_plot import plot_training_curves"
   ]
  },
  {
   "cell_type": "code",
   "execution_count": 3,
   "id": "c5d7b3e3",
   "metadata": {},
   "outputs": [],
   "source": [
    "# Load the dataframe\n",
    "csv_path = \"/root/n1_masters_thesis/filtered_df.csv\"\n",
    "image_dir = \"/root/n1_masters_thesis/image_data/image_data\"\n",
    "df, idx_to_label = load_dataset(csv_path, image_dir)"
   ]
  },
  {
   "cell_type": "code",
   "execution_count": 4,
   "id": "b35f7105",
   "metadata": {},
   "outputs": [
    {
     "name": "stdout",
     "output_type": "stream",
     "text": [
      "                                           file_name label  label_idx\n",
      "0  /root/n1_masters_thesis/image_data/image_data/...    BC          0\n",
      "1  /root/n1_masters_thesis/image_data/image_data/...    BC          0\n",
      "2  /root/n1_masters_thesis/image_data/image_data/...    BC          0\n",
      "3  /root/n1_masters_thesis/image_data/image_data/...    BC          0\n",
      "4  /root/n1_masters_thesis/image_data/image_data/...    BC          0\n"
     ]
    }
   ],
   "source": [
    "print(df.head())"
   ]
  },
  {
   "cell_type": "code",
   "execution_count": 5,
   "id": "a82b6514",
   "metadata": {},
   "outputs": [],
   "source": [
    "train_transforms, val_transforms = get_transforms()\n",
    "\n",
    "train_dataset, val_dataset, train_loader, val_loader = get_dataloaders(\n",
    "    df, train_transforms, val_transforms\n",
    ")"
   ]
  },
  {
   "cell_type": "code",
   "execution_count": 6,
   "id": "a48d7949",
   "metadata": {},
   "outputs": [],
   "source": [
    "def build_model(device: torch.device, num_classes: int = CFG.NUM_CLASSES) -> nn.Module:\n",
    "    # Set seeds\n",
    "    torch.manual_seed(CFG.SEED)\n",
    "    torch.cuda.manual_seed(CFG.SEED)\n",
    "\n",
    "    weights = torchvision.models.ResNet50_Weights.DEFAULT\n",
    "    model = torchvision.models.resnet50(weights=weights).to(device)\n",
    "\n",
    "    for param in model.parameters():\n",
    "        param.requires_grad = False\n",
    "\n",
    "    for param in model.layer3.parameters():\n",
    "        param.requires_grad = True\n",
    "    \n",
    "    model.avgpool = nn.AdaptiveAvgPool2d(output_size=(1,1))\n",
    "    model.fc = nn.Sequential(nn.Flatten(),\n",
    "        nn.Linear(2048, 512),\n",
    "        nn.ReLU(inplace=True),\n",
    "        nn.Dropout(0.5),\n",
    "        nn.Linear(512, 128),\n",
    "        nn.ReLU(inplace=True),\n",
    "        nn.Linear(128, num_classes)\n",
    "    ).to(device)\n",
    "\n",
    "    return model"
   ]
  },
  {
   "cell_type": "code",
   "execution_count": 7,
   "id": "599fea3e",
   "metadata": {},
   "outputs": [
    {
     "data": {
      "text/plain": [
       "========================================================================================================================\n",
       "Layer (type (var_name))                  Input Shape          Output Shape         Param #              Trainable\n",
       "========================================================================================================================\n",
       "ResNet (ResNet)                          [32, 3, 224, 224]    [32, 34]             --                   Partial\n",
       "├─Conv2d (conv1)                         [32, 3, 224, 224]    [32, 64, 112, 112]   (9,408)              False\n",
       "├─BatchNorm2d (bn1)                      [32, 64, 112, 112]   [32, 64, 112, 112]   (128)                False\n",
       "├─ReLU (relu)                            [32, 64, 112, 112]   [32, 64, 112, 112]   --                   --\n",
       "├─MaxPool2d (maxpool)                    [32, 64, 112, 112]   [32, 64, 56, 56]     --                   --\n",
       "├─Sequential (layer1)                    [32, 64, 56, 56]     [32, 256, 56, 56]    --                   False\n",
       "│    └─Bottleneck (0)                    [32, 64, 56, 56]     [32, 256, 56, 56]    --                   False\n",
       "│    │    └─Conv2d (conv1)               [32, 64, 56, 56]     [32, 64, 56, 56]     (4,096)              False\n",
       "│    │    └─BatchNorm2d (bn1)            [32, 64, 56, 56]     [32, 64, 56, 56]     (128)                False\n",
       "│    │    └─ReLU (relu)                  [32, 64, 56, 56]     [32, 64, 56, 56]     --                   --\n",
       "│    │    └─Conv2d (conv2)               [32, 64, 56, 56]     [32, 64, 56, 56]     (36,864)             False\n",
       "│    │    └─BatchNorm2d (bn2)            [32, 64, 56, 56]     [32, 64, 56, 56]     (128)                False\n",
       "│    │    └─ReLU (relu)                  [32, 64, 56, 56]     [32, 64, 56, 56]     --                   --\n",
       "│    │    └─Conv2d (conv3)               [32, 64, 56, 56]     [32, 256, 56, 56]    (16,384)             False\n",
       "│    │    └─BatchNorm2d (bn3)            [32, 256, 56, 56]    [32, 256, 56, 56]    (512)                False\n",
       "│    │    └─Sequential (downsample)      [32, 64, 56, 56]     [32, 256, 56, 56]    (16,896)             False\n",
       "│    │    └─ReLU (relu)                  [32, 256, 56, 56]    [32, 256, 56, 56]    --                   --\n",
       "│    └─Bottleneck (1)                    [32, 256, 56, 56]    [32, 256, 56, 56]    --                   False\n",
       "│    │    └─Conv2d (conv1)               [32, 256, 56, 56]    [32, 64, 56, 56]     (16,384)             False\n",
       "│    │    └─BatchNorm2d (bn1)            [32, 64, 56, 56]     [32, 64, 56, 56]     (128)                False\n",
       "│    │    └─ReLU (relu)                  [32, 64, 56, 56]     [32, 64, 56, 56]     --                   --\n",
       "│    │    └─Conv2d (conv2)               [32, 64, 56, 56]     [32, 64, 56, 56]     (36,864)             False\n",
       "│    │    └─BatchNorm2d (bn2)            [32, 64, 56, 56]     [32, 64, 56, 56]     (128)                False\n",
       "│    │    └─ReLU (relu)                  [32, 64, 56, 56]     [32, 64, 56, 56]     --                   --\n",
       "│    │    └─Conv2d (conv3)               [32, 64, 56, 56]     [32, 256, 56, 56]    (16,384)             False\n",
       "│    │    └─BatchNorm2d (bn3)            [32, 256, 56, 56]    [32, 256, 56, 56]    (512)                False\n",
       "│    │    └─ReLU (relu)                  [32, 256, 56, 56]    [32, 256, 56, 56]    --                   --\n",
       "│    └─Bottleneck (2)                    [32, 256, 56, 56]    [32, 256, 56, 56]    --                   False\n",
       "│    │    └─Conv2d (conv1)               [32, 256, 56, 56]    [32, 64, 56, 56]     (16,384)             False\n",
       "│    │    └─BatchNorm2d (bn1)            [32, 64, 56, 56]     [32, 64, 56, 56]     (128)                False\n",
       "│    │    └─ReLU (relu)                  [32, 64, 56, 56]     [32, 64, 56, 56]     --                   --\n",
       "│    │    └─Conv2d (conv2)               [32, 64, 56, 56]     [32, 64, 56, 56]     (36,864)             False\n",
       "│    │    └─BatchNorm2d (bn2)            [32, 64, 56, 56]     [32, 64, 56, 56]     (128)                False\n",
       "│    │    └─ReLU (relu)                  [32, 64, 56, 56]     [32, 64, 56, 56]     --                   --\n",
       "│    │    └─Conv2d (conv3)               [32, 64, 56, 56]     [32, 256, 56, 56]    (16,384)             False\n",
       "│    │    └─BatchNorm2d (bn3)            [32, 256, 56, 56]    [32, 256, 56, 56]    (512)                False\n",
       "│    │    └─ReLU (relu)                  [32, 256, 56, 56]    [32, 256, 56, 56]    --                   --\n",
       "├─Sequential (layer2)                    [32, 256, 56, 56]    [32, 512, 28, 28]    --                   False\n",
       "│    └─Bottleneck (0)                    [32, 256, 56, 56]    [32, 512, 28, 28]    --                   False\n",
       "│    │    └─Conv2d (conv1)               [32, 256, 56, 56]    [32, 128, 56, 56]    (32,768)             False\n",
       "│    │    └─BatchNorm2d (bn1)            [32, 128, 56, 56]    [32, 128, 56, 56]    (256)                False\n",
       "│    │    └─ReLU (relu)                  [32, 128, 56, 56]    [32, 128, 56, 56]    --                   --\n",
       "│    │    └─Conv2d (conv2)               [32, 128, 56, 56]    [32, 128, 28, 28]    (147,456)            False\n",
       "│    │    └─BatchNorm2d (bn2)            [32, 128, 28, 28]    [32, 128, 28, 28]    (256)                False\n",
       "│    │    └─ReLU (relu)                  [32, 128, 28, 28]    [32, 128, 28, 28]    --                   --\n",
       "│    │    └─Conv2d (conv3)               [32, 128, 28, 28]    [32, 512, 28, 28]    (65,536)             False\n",
       "│    │    └─BatchNorm2d (bn3)            [32, 512, 28, 28]    [32, 512, 28, 28]    (1,024)              False\n",
       "│    │    └─Sequential (downsample)      [32, 256, 56, 56]    [32, 512, 28, 28]    (132,096)            False\n",
       "│    │    └─ReLU (relu)                  [32, 512, 28, 28]    [32, 512, 28, 28]    --                   --\n",
       "│    └─Bottleneck (1)                    [32, 512, 28, 28]    [32, 512, 28, 28]    --                   False\n",
       "│    │    └─Conv2d (conv1)               [32, 512, 28, 28]    [32, 128, 28, 28]    (65,536)             False\n",
       "│    │    └─BatchNorm2d (bn1)            [32, 128, 28, 28]    [32, 128, 28, 28]    (256)                False\n",
       "│    │    └─ReLU (relu)                  [32, 128, 28, 28]    [32, 128, 28, 28]    --                   --\n",
       "│    │    └─Conv2d (conv2)               [32, 128, 28, 28]    [32, 128, 28, 28]    (147,456)            False\n",
       "│    │    └─BatchNorm2d (bn2)            [32, 128, 28, 28]    [32, 128, 28, 28]    (256)                False\n",
       "│    │    └─ReLU (relu)                  [32, 128, 28, 28]    [32, 128, 28, 28]    --                   --\n",
       "│    │    └─Conv2d (conv3)               [32, 128, 28, 28]    [32, 512, 28, 28]    (65,536)             False\n",
       "│    │    └─BatchNorm2d (bn3)            [32, 512, 28, 28]    [32, 512, 28, 28]    (1,024)              False\n",
       "│    │    └─ReLU (relu)                  [32, 512, 28, 28]    [32, 512, 28, 28]    --                   --\n",
       "│    └─Bottleneck (2)                    [32, 512, 28, 28]    [32, 512, 28, 28]    --                   False\n",
       "│    │    └─Conv2d (conv1)               [32, 512, 28, 28]    [32, 128, 28, 28]    (65,536)             False\n",
       "│    │    └─BatchNorm2d (bn1)            [32, 128, 28, 28]    [32, 128, 28, 28]    (256)                False\n",
       "│    │    └─ReLU (relu)                  [32, 128, 28, 28]    [32, 128, 28, 28]    --                   --\n",
       "│    │    └─Conv2d (conv2)               [32, 128, 28, 28]    [32, 128, 28, 28]    (147,456)            False\n",
       "│    │    └─BatchNorm2d (bn2)            [32, 128, 28, 28]    [32, 128, 28, 28]    (256)                False\n",
       "│    │    └─ReLU (relu)                  [32, 128, 28, 28]    [32, 128, 28, 28]    --                   --\n",
       "│    │    └─Conv2d (conv3)               [32, 128, 28, 28]    [32, 512, 28, 28]    (65,536)             False\n",
       "│    │    └─BatchNorm2d (bn3)            [32, 512, 28, 28]    [32, 512, 28, 28]    (1,024)              False\n",
       "│    │    └─ReLU (relu)                  [32, 512, 28, 28]    [32, 512, 28, 28]    --                   --\n",
       "│    └─Bottleneck (3)                    [32, 512, 28, 28]    [32, 512, 28, 28]    --                   False\n",
       "│    │    └─Conv2d (conv1)               [32, 512, 28, 28]    [32, 128, 28, 28]    (65,536)             False\n",
       "│    │    └─BatchNorm2d (bn1)            [32, 128, 28, 28]    [32, 128, 28, 28]    (256)                False\n",
       "│    │    └─ReLU (relu)                  [32, 128, 28, 28]    [32, 128, 28, 28]    --                   --\n",
       "│    │    └─Conv2d (conv2)               [32, 128, 28, 28]    [32, 128, 28, 28]    (147,456)            False\n",
       "│    │    └─BatchNorm2d (bn2)            [32, 128, 28, 28]    [32, 128, 28, 28]    (256)                False\n",
       "│    │    └─ReLU (relu)                  [32, 128, 28, 28]    [32, 128, 28, 28]    --                   --\n",
       "│    │    └─Conv2d (conv3)               [32, 128, 28, 28]    [32, 512, 28, 28]    (65,536)             False\n",
       "│    │    └─BatchNorm2d (bn3)            [32, 512, 28, 28]    [32, 512, 28, 28]    (1,024)              False\n",
       "│    │    └─ReLU (relu)                  [32, 512, 28, 28]    [32, 512, 28, 28]    --                   --\n",
       "├─Sequential (layer3)                    [32, 512, 28, 28]    [32, 1024, 14, 14]   --                   True\n",
       "│    └─Bottleneck (0)                    [32, 512, 28, 28]    [32, 1024, 14, 14]   --                   True\n",
       "│    │    └─Conv2d (conv1)               [32, 512, 28, 28]    [32, 256, 28, 28]    131,072              True\n",
       "│    │    └─BatchNorm2d (bn1)            [32, 256, 28, 28]    [32, 256, 28, 28]    512                  True\n",
       "│    │    └─ReLU (relu)                  [32, 256, 28, 28]    [32, 256, 28, 28]    --                   --\n",
       "│    │    └─Conv2d (conv2)               [32, 256, 28, 28]    [32, 256, 14, 14]    589,824              True\n",
       "│    │    └─BatchNorm2d (bn2)            [32, 256, 14, 14]    [32, 256, 14, 14]    512                  True\n",
       "│    │    └─ReLU (relu)                  [32, 256, 14, 14]    [32, 256, 14, 14]    --                   --\n",
       "│    │    └─Conv2d (conv3)               [32, 256, 14, 14]    [32, 1024, 14, 14]   262,144              True\n",
       "│    │    └─BatchNorm2d (bn3)            [32, 1024, 14, 14]   [32, 1024, 14, 14]   2,048                True\n",
       "│    │    └─Sequential (downsample)      [32, 512, 28, 28]    [32, 1024, 14, 14]   526,336              True\n",
       "│    │    └─ReLU (relu)                  [32, 1024, 14, 14]   [32, 1024, 14, 14]   --                   --\n",
       "│    └─Bottleneck (1)                    [32, 1024, 14, 14]   [32, 1024, 14, 14]   --                   True\n",
       "│    │    └─Conv2d (conv1)               [32, 1024, 14, 14]   [32, 256, 14, 14]    262,144              True\n",
       "│    │    └─BatchNorm2d (bn1)            [32, 256, 14, 14]    [32, 256, 14, 14]    512                  True\n",
       "│    │    └─ReLU (relu)                  [32, 256, 14, 14]    [32, 256, 14, 14]    --                   --\n",
       "│    │    └─Conv2d (conv2)               [32, 256, 14, 14]    [32, 256, 14, 14]    589,824              True\n",
       "│    │    └─BatchNorm2d (bn2)            [32, 256, 14, 14]    [32, 256, 14, 14]    512                  True\n",
       "│    │    └─ReLU (relu)                  [32, 256, 14, 14]    [32, 256, 14, 14]    --                   --\n",
       "│    │    └─Conv2d (conv3)               [32, 256, 14, 14]    [32, 1024, 14, 14]   262,144              True\n",
       "│    │    └─BatchNorm2d (bn3)            [32, 1024, 14, 14]   [32, 1024, 14, 14]   2,048                True\n",
       "│    │    └─ReLU (relu)                  [32, 1024, 14, 14]   [32, 1024, 14, 14]   --                   --\n",
       "│    └─Bottleneck (2)                    [32, 1024, 14, 14]   [32, 1024, 14, 14]   --                   True\n",
       "│    │    └─Conv2d (conv1)               [32, 1024, 14, 14]   [32, 256, 14, 14]    262,144              True\n",
       "│    │    └─BatchNorm2d (bn1)            [32, 256, 14, 14]    [32, 256, 14, 14]    512                  True\n",
       "│    │    └─ReLU (relu)                  [32, 256, 14, 14]    [32, 256, 14, 14]    --                   --\n",
       "│    │    └─Conv2d (conv2)               [32, 256, 14, 14]    [32, 256, 14, 14]    589,824              True\n",
       "│    │    └─BatchNorm2d (bn2)            [32, 256, 14, 14]    [32, 256, 14, 14]    512                  True\n",
       "│    │    └─ReLU (relu)                  [32, 256, 14, 14]    [32, 256, 14, 14]    --                   --\n",
       "│    │    └─Conv2d (conv3)               [32, 256, 14, 14]    [32, 1024, 14, 14]   262,144              True\n",
       "│    │    └─BatchNorm2d (bn3)            [32, 1024, 14, 14]   [32, 1024, 14, 14]   2,048                True\n",
       "│    │    └─ReLU (relu)                  [32, 1024, 14, 14]   [32, 1024, 14, 14]   --                   --\n",
       "│    └─Bottleneck (3)                    [32, 1024, 14, 14]   [32, 1024, 14, 14]   --                   True\n",
       "│    │    └─Conv2d (conv1)               [32, 1024, 14, 14]   [32, 256, 14, 14]    262,144              True\n",
       "│    │    └─BatchNorm2d (bn1)            [32, 256, 14, 14]    [32, 256, 14, 14]    512                  True\n",
       "│    │    └─ReLU (relu)                  [32, 256, 14, 14]    [32, 256, 14, 14]    --                   --\n",
       "│    │    └─Conv2d (conv2)               [32, 256, 14, 14]    [32, 256, 14, 14]    589,824              True\n",
       "│    │    └─BatchNorm2d (bn2)            [32, 256, 14, 14]    [32, 256, 14, 14]    512                  True\n",
       "│    │    └─ReLU (relu)                  [32, 256, 14, 14]    [32, 256, 14, 14]    --                   --\n",
       "│    │    └─Conv2d (conv3)               [32, 256, 14, 14]    [32, 1024, 14, 14]   262,144              True\n",
       "│    │    └─BatchNorm2d (bn3)            [32, 1024, 14, 14]   [32, 1024, 14, 14]   2,048                True\n",
       "│    │    └─ReLU (relu)                  [32, 1024, 14, 14]   [32, 1024, 14, 14]   --                   --\n",
       "│    └─Bottleneck (4)                    [32, 1024, 14, 14]   [32, 1024, 14, 14]   --                   True\n",
       "│    │    └─Conv2d (conv1)               [32, 1024, 14, 14]   [32, 256, 14, 14]    262,144              True\n",
       "│    │    └─BatchNorm2d (bn1)            [32, 256, 14, 14]    [32, 256, 14, 14]    512                  True\n",
       "│    │    └─ReLU (relu)                  [32, 256, 14, 14]    [32, 256, 14, 14]    --                   --\n",
       "│    │    └─Conv2d (conv2)               [32, 256, 14, 14]    [32, 256, 14, 14]    589,824              True\n",
       "│    │    └─BatchNorm2d (bn2)            [32, 256, 14, 14]    [32, 256, 14, 14]    512                  True\n",
       "│    │    └─ReLU (relu)                  [32, 256, 14, 14]    [32, 256, 14, 14]    --                   --\n",
       "│    │    └─Conv2d (conv3)               [32, 256, 14, 14]    [32, 1024, 14, 14]   262,144              True\n",
       "│    │    └─BatchNorm2d (bn3)            [32, 1024, 14, 14]   [32, 1024, 14, 14]   2,048                True\n",
       "│    │    └─ReLU (relu)                  [32, 1024, 14, 14]   [32, 1024, 14, 14]   --                   --\n",
       "│    └─Bottleneck (5)                    [32, 1024, 14, 14]   [32, 1024, 14, 14]   --                   True\n",
       "│    │    └─Conv2d (conv1)               [32, 1024, 14, 14]   [32, 256, 14, 14]    262,144              True\n",
       "│    │    └─BatchNorm2d (bn1)            [32, 256, 14, 14]    [32, 256, 14, 14]    512                  True\n",
       "│    │    └─ReLU (relu)                  [32, 256, 14, 14]    [32, 256, 14, 14]    --                   --\n",
       "│    │    └─Conv2d (conv2)               [32, 256, 14, 14]    [32, 256, 14, 14]    589,824              True\n",
       "│    │    └─BatchNorm2d (bn2)            [32, 256, 14, 14]    [32, 256, 14, 14]    512                  True\n",
       "│    │    └─ReLU (relu)                  [32, 256, 14, 14]    [32, 256, 14, 14]    --                   --\n",
       "│    │    └─Conv2d (conv3)               [32, 256, 14, 14]    [32, 1024, 14, 14]   262,144              True\n",
       "│    │    └─BatchNorm2d (bn3)            [32, 1024, 14, 14]   [32, 1024, 14, 14]   2,048                True\n",
       "│    │    └─ReLU (relu)                  [32, 1024, 14, 14]   [32, 1024, 14, 14]   --                   --\n",
       "├─Sequential (layer4)                    [32, 1024, 14, 14]   [32, 2048, 7, 7]     --                   False\n",
       "│    └─Bottleneck (0)                    [32, 1024, 14, 14]   [32, 2048, 7, 7]     --                   False\n",
       "│    │    └─Conv2d (conv1)               [32, 1024, 14, 14]   [32, 512, 14, 14]    (524,288)            False\n",
       "│    │    └─BatchNorm2d (bn1)            [32, 512, 14, 14]    [32, 512, 14, 14]    (1,024)              False\n",
       "│    │    └─ReLU (relu)                  [32, 512, 14, 14]    [32, 512, 14, 14]    --                   --\n",
       "│    │    └─Conv2d (conv2)               [32, 512, 14, 14]    [32, 512, 7, 7]      (2,359,296)          False\n",
       "│    │    └─BatchNorm2d (bn2)            [32, 512, 7, 7]      [32, 512, 7, 7]      (1,024)              False\n",
       "│    │    └─ReLU (relu)                  [32, 512, 7, 7]      [32, 512, 7, 7]      --                   --\n",
       "│    │    └─Conv2d (conv3)               [32, 512, 7, 7]      [32, 2048, 7, 7]     (1,048,576)          False\n",
       "│    │    └─BatchNorm2d (bn3)            [32, 2048, 7, 7]     [32, 2048, 7, 7]     (4,096)              False\n",
       "│    │    └─Sequential (downsample)      [32, 1024, 14, 14]   [32, 2048, 7, 7]     (2,101,248)          False\n",
       "│    │    └─ReLU (relu)                  [32, 2048, 7, 7]     [32, 2048, 7, 7]     --                   --\n",
       "│    └─Bottleneck (1)                    [32, 2048, 7, 7]     [32, 2048, 7, 7]     --                   False\n",
       "│    │    └─Conv2d (conv1)               [32, 2048, 7, 7]     [32, 512, 7, 7]      (1,048,576)          False\n",
       "│    │    └─BatchNorm2d (bn1)            [32, 512, 7, 7]      [32, 512, 7, 7]      (1,024)              False\n",
       "│    │    └─ReLU (relu)                  [32, 512, 7, 7]      [32, 512, 7, 7]      --                   --\n",
       "│    │    └─Conv2d (conv2)               [32, 512, 7, 7]      [32, 512, 7, 7]      (2,359,296)          False\n",
       "│    │    └─BatchNorm2d (bn2)            [32, 512, 7, 7]      [32, 512, 7, 7]      (1,024)              False\n",
       "│    │    └─ReLU (relu)                  [32, 512, 7, 7]      [32, 512, 7, 7]      --                   --\n",
       "│    │    └─Conv2d (conv3)               [32, 512, 7, 7]      [32, 2048, 7, 7]     (1,048,576)          False\n",
       "│    │    └─BatchNorm2d (bn3)            [32, 2048, 7, 7]     [32, 2048, 7, 7]     (4,096)              False\n",
       "│    │    └─ReLU (relu)                  [32, 2048, 7, 7]     [32, 2048, 7, 7]     --                   --\n",
       "│    └─Bottleneck (2)                    [32, 2048, 7, 7]     [32, 2048, 7, 7]     --                   False\n",
       "│    │    └─Conv2d (conv1)               [32, 2048, 7, 7]     [32, 512, 7, 7]      (1,048,576)          False\n",
       "│    │    └─BatchNorm2d (bn1)            [32, 512, 7, 7]      [32, 512, 7, 7]      (1,024)              False\n",
       "│    │    └─ReLU (relu)                  [32, 512, 7, 7]      [32, 512, 7, 7]      --                   --\n",
       "│    │    └─Conv2d (conv2)               [32, 512, 7, 7]      [32, 512, 7, 7]      (2,359,296)          False\n",
       "│    │    └─BatchNorm2d (bn2)            [32, 512, 7, 7]      [32, 512, 7, 7]      (1,024)              False\n",
       "│    │    └─ReLU (relu)                  [32, 512, 7, 7]      [32, 512, 7, 7]      --                   --\n",
       "│    │    └─Conv2d (conv3)               [32, 512, 7, 7]      [32, 2048, 7, 7]     (1,048,576)          False\n",
       "│    │    └─BatchNorm2d (bn3)            [32, 2048, 7, 7]     [32, 2048, 7, 7]     (4,096)              False\n",
       "│    │    └─ReLU (relu)                  [32, 2048, 7, 7]     [32, 2048, 7, 7]     --                   --\n",
       "├─AdaptiveAvgPool2d (avgpool)            [32, 2048, 7, 7]     [32, 2048, 1, 1]     --                   --\n",
       "├─Sequential (fc)                        [32, 2048]           [32, 34]             --                   True\n",
       "│    └─Flatten (0)                       [32, 2048]           [32, 2048]           --                   --\n",
       "│    └─Linear (1)                        [32, 2048]           [32, 512]            1,049,088            True\n",
       "│    └─ReLU (2)                          [32, 512]            [32, 512]            --                   --\n",
       "│    └─Dropout (3)                       [32, 512]            [32, 512]            --                   --\n",
       "│    └─Linear (4)                        [32, 512]            [32, 128]            65,664               True\n",
       "│    └─ReLU (5)                          [32, 128]            [32, 128]            --                   --\n",
       "│    └─Linear (6)                        [32, 128]            [32, 34]             4,386                True\n",
       "========================================================================================================================\n",
       "Total params: 24,627,170\n",
       "Trainable params: 8,217,506\n",
       "Non-trainable params: 16,409,664\n",
       "Total mult-adds (G): 130.83\n",
       "========================================================================================================================\n",
       "Input size (MB): 19.27\n",
       "Forward/backward pass size (MB): 5690.53\n",
       "Params size (MB): 98.51\n",
       "Estimated Total Size (MB): 5808.31\n",
       "========================================================================================================================"
      ]
     },
     "execution_count": 7,
     "metadata": {},
     "output_type": "execute_result"
    }
   ],
   "source": [
    "cnn = build_model(device=CFG.DEVICE)\n",
    "\n",
    "# View model summary\n",
    "summary(\n",
    "    model=cnn, \n",
    "    input_size=(CFG.BATCH_SIZE, CFG.CHANNELS, CFG.WIDTH, CFG.HEIGHT),\n",
    "    col_names=[\"input_size\", \"output_size\", \"num_params\", \"trainable\"],\n",
    "    col_width=20,\n",
    "    row_settings=[\"var_names\"]\n",
    ")"
   ]
  },
  {
   "cell_type": "code",
   "execution_count": 8,
   "id": "0e015d81",
   "metadata": {},
   "outputs": [],
   "source": [
    "# Define Loss Function\n",
    "loss_fn = nn.CrossEntropyLoss(\n",
    "    label_smoothing=0.1\n",
    ")\n",
    "\n",
    "# Define Optimizer\n",
    "optimizer = torch.optim.Adam(\n",
    "    cnn.parameters(),\n",
    "    lr=CFG.LR\n",
    ")"
   ]
  },
  {
   "cell_type": "code",
   "execution_count": 9,
   "id": "a08a866c",
   "metadata": {},
   "outputs": [
    {
     "name": "stdout",
     "output_type": "stream",
     "text": [
      "\n",
      "Epoch 1/60\n"
     ]
    },
    {
     "data": {
      "application/vnd.jupyter.widget-view+json": {
       "model_id": "d5d59debd6af4ce8871bd9e5abdaf89c",
       "version_major": 2,
       "version_minor": 0
      },
      "text/plain": [
       "  0%|          | 0/233 [00:00<?, ?it/s]"
      ]
     },
     "metadata": {},
     "output_type": "display_data"
    },
    {
     "name": "stdout",
     "output_type": "stream",
     "text": [
      "loss: 2.7190 - top1: 0.2430 - top5: 0.6168 - eval_loss: 1.8667 - eval_top1: 0.4926 - eval_top5: 0.9286\n",
      "\n",
      "Epoch 2/60\n"
     ]
    },
    {
     "data": {
      "application/vnd.jupyter.widget-view+json": {
       "model_id": "a0626eeafcb64c2aa462789dd3e88706",
       "version_major": 2,
       "version_minor": 0
      },
      "text/plain": [
       "  0%|          | 0/233 [00:00<?, ?it/s]"
      ]
     },
     "metadata": {},
     "output_type": "display_data"
    },
    {
     "name": "stdout",
     "output_type": "stream",
     "text": [
      "loss: 1.9873 - top1: 0.4713 - top5: 0.8771 - eval_loss: 1.6136 - eval_top1: 0.6183 - eval_top5: 0.9566\n",
      "\n",
      "Epoch 3/60\n"
     ]
    },
    {
     "data": {
      "application/vnd.jupyter.widget-view+json": {
       "model_id": "51f3f7a3c9fd46be8c5e45a3d936b9b7",
       "version_major": 2,
       "version_minor": 0
      },
      "text/plain": [
       "  0%|          | 0/233 [00:00<?, ?it/s]"
      ]
     },
     "metadata": {},
     "output_type": "display_data"
    },
    {
     "name": "stdout",
     "output_type": "stream",
     "text": [
      "loss: 1.7881 - top1: 0.5496 - top5: 0.9088 - eval_loss: 1.4553 - eval_top1: 0.6820 - eval_top5: 0.9638\n",
      "\n",
      "Epoch 4/60\n"
     ]
    },
    {
     "data": {
      "application/vnd.jupyter.widget-view+json": {
       "model_id": "0b919de112934efab101add4c1068873",
       "version_major": 2,
       "version_minor": 0
      },
      "text/plain": [
       "  0%|          | 0/233 [00:00<?, ?it/s]"
      ]
     },
     "metadata": {},
     "output_type": "display_data"
    },
    {
     "name": "stdout",
     "output_type": "stream",
     "text": [
      "loss: 1.6527 - top1: 0.6055 - top5: 0.9260 - eval_loss: 1.3994 - eval_top1: 0.6914 - eval_top5: 0.9688\n",
      "\n",
      "Epoch 5/60\n"
     ]
    },
    {
     "data": {
      "application/vnd.jupyter.widget-view+json": {
       "model_id": "373aaf4115a543c69c213356dc37dbd4",
       "version_major": 2,
       "version_minor": 0
      },
      "text/plain": [
       "  0%|          | 0/233 [00:00<?, ?it/s]"
      ]
     },
     "metadata": {},
     "output_type": "display_data"
    },
    {
     "name": "stdout",
     "output_type": "stream",
     "text": [
      "loss: 1.5886 - top1: 0.6452 - top5: 0.9295 - eval_loss: 1.4446 - eval_top1: 0.6767 - eval_top5: 0.9663\n",
      "\n",
      "Epoch 6/60\n"
     ]
    },
    {
     "data": {
      "application/vnd.jupyter.widget-view+json": {
       "model_id": "88f79370d21a499ba57528f3e3ad6720",
       "version_major": 2,
       "version_minor": 0
      },
      "text/plain": [
       "  0%|          | 0/233 [00:00<?, ?it/s]"
      ]
     },
     "metadata": {},
     "output_type": "display_data"
    },
    {
     "name": "stdout",
     "output_type": "stream",
     "text": [
      "loss: 1.5229 - top1: 0.6723 - top5: 0.9351 - eval_loss: 1.3644 - eval_top1: 0.7138 - eval_top5: 0.9724\n",
      "\n",
      "Epoch 7/60\n"
     ]
    },
    {
     "data": {
      "application/vnd.jupyter.widget-view+json": {
       "model_id": "7d531c903c3f4287ba461bcfb54fe25e",
       "version_major": 2,
       "version_minor": 0
      },
      "text/plain": [
       "  0%|          | 0/233 [00:00<?, ?it/s]"
      ]
     },
     "metadata": {},
     "output_type": "display_data"
    },
    {
     "name": "stdout",
     "output_type": "stream",
     "text": [
      "loss: 1.4815 - top1: 0.6787 - top5: 0.9442 - eval_loss: 1.3140 - eval_top1: 0.7467 - eval_top5: 0.9639\n",
      "\n",
      "Epoch 8/60\n"
     ]
    },
    {
     "data": {
      "application/vnd.jupyter.widget-view+json": {
       "model_id": "c3e3cb053de243fe82d7b6a5dd7e8773",
       "version_major": 2,
       "version_minor": 0
      },
      "text/plain": [
       "  0%|          | 0/233 [00:00<?, ?it/s]"
      ]
     },
     "metadata": {},
     "output_type": "display_data"
    },
    {
     "name": "stdout",
     "output_type": "stream",
     "text": [
      "loss: 1.4519 - top1: 0.6995 - top5: 0.9445 - eval_loss: 1.2981 - eval_top1: 0.7541 - eval_top5: 0.9639\n",
      "\n",
      "Epoch 9/60\n"
     ]
    },
    {
     "data": {
      "application/vnd.jupyter.widget-view+json": {
       "model_id": "e3245260723a4b07a2987a94c44dbceb",
       "version_major": 2,
       "version_minor": 0
      },
      "text/plain": [
       "  0%|          | 0/233 [00:00<?, ?it/s]"
      ]
     },
     "metadata": {},
     "output_type": "display_data"
    },
    {
     "name": "stdout",
     "output_type": "stream",
     "text": [
      "loss: 1.4158 - top1: 0.7094 - top5: 0.9514 - eval_loss: 1.3032 - eval_top1: 0.7368 - eval_top5: 0.9675\n",
      "\n",
      "Epoch 10/60\n"
     ]
    },
    {
     "data": {
      "application/vnd.jupyter.widget-view+json": {
       "model_id": "10a3e5dc8d204ead81917feb5f481823",
       "version_major": 2,
       "version_minor": 0
      },
      "text/plain": [
       "  0%|          | 0/233 [00:00<?, ?it/s]"
      ]
     },
     "metadata": {},
     "output_type": "display_data"
    },
    {
     "name": "stdout",
     "output_type": "stream",
     "text": [
      "loss: 1.3964 - top1: 0.7169 - top5: 0.9525 - eval_loss: 1.2617 - eval_top1: 0.7550 - eval_top5: 0.9748\n",
      "\n",
      "Epoch 11/60\n"
     ]
    },
    {
     "data": {
      "application/vnd.jupyter.widget-view+json": {
       "model_id": "4473c2fb89964f9684aabc91d45e6012",
       "version_major": 2,
       "version_minor": 0
      },
      "text/plain": [
       "  0%|          | 0/233 [00:00<?, ?it/s]"
      ]
     },
     "metadata": {},
     "output_type": "display_data"
    },
    {
     "name": "stdout",
     "output_type": "stream",
     "text": [
      "loss: 1.3643 - top1: 0.7322 - top5: 0.9533 - eval_loss: 1.2766 - eval_top1: 0.7495 - eval_top5: 0.9772\n",
      "\n",
      "Epoch 12/60\n"
     ]
    },
    {
     "data": {
      "application/vnd.jupyter.widget-view+json": {
       "model_id": "ca53318672a045b681026e56cf291971",
       "version_major": 2,
       "version_minor": 0
      },
      "text/plain": [
       "  0%|          | 0/233 [00:00<?, ?it/s]"
      ]
     },
     "metadata": {},
     "output_type": "display_data"
    },
    {
     "name": "stdout",
     "output_type": "stream",
     "text": [
      "loss: 1.3491 - top1: 0.7385 - top5: 0.9551 - eval_loss: 1.2680 - eval_top1: 0.7447 - eval_top5: 0.9736\n",
      "\n",
      "Epoch 13/60\n"
     ]
    },
    {
     "data": {
      "application/vnd.jupyter.widget-view+json": {
       "model_id": "e98ceda2ba224915980c103b4ddbcfdf",
       "version_major": 2,
       "version_minor": 0
      },
      "text/plain": [
       "  0%|          | 0/233 [00:00<?, ?it/s]"
      ]
     },
     "metadata": {},
     "output_type": "display_data"
    },
    {
     "name": "stdout",
     "output_type": "stream",
     "text": [
      "loss: 1.3229 - top1: 0.7460 - top5: 0.9614 - eval_loss: 1.2554 - eval_top1: 0.7515 - eval_top5: 0.9760\n",
      "\n",
      "Epoch 14/60\n"
     ]
    },
    {
     "data": {
      "application/vnd.jupyter.widget-view+json": {
       "model_id": "e9b9a556211f40fcadc9427f27cf95e0",
       "version_major": 2,
       "version_minor": 0
      },
      "text/plain": [
       "  0%|          | 0/233 [00:00<?, ?it/s]"
      ]
     },
     "metadata": {},
     "output_type": "display_data"
    },
    {
     "name": "stdout",
     "output_type": "stream",
     "text": [
      "loss: 1.3274 - top1: 0.7460 - top5: 0.9570 - eval_loss: 1.2515 - eval_top1: 0.7572 - eval_top5: 0.9808\n",
      "\n",
      "Epoch 15/60\n"
     ]
    },
    {
     "data": {
      "application/vnd.jupyter.widget-view+json": {
       "model_id": "33bd1c1055bc4dcaa496c93f1f6ef904",
       "version_major": 2,
       "version_minor": 0
      },
      "text/plain": [
       "  0%|          | 0/233 [00:00<?, ?it/s]"
      ]
     },
     "metadata": {},
     "output_type": "display_data"
    },
    {
     "name": "stdout",
     "output_type": "stream",
     "text": [
      "loss: 1.3116 - top1: 0.7563 - top5: 0.9596 - eval_loss: 1.2091 - eval_top1: 0.7780 - eval_top5: 0.9832\n",
      "\n",
      "Epoch 16/60\n"
     ]
    },
    {
     "data": {
      "application/vnd.jupyter.widget-view+json": {
       "model_id": "70ec437f03174e1b9b189f75f328f58a",
       "version_major": 2,
       "version_minor": 0
      },
      "text/plain": [
       "  0%|          | 0/233 [00:00<?, ?it/s]"
      ]
     },
     "metadata": {},
     "output_type": "display_data"
    },
    {
     "name": "stdout",
     "output_type": "stream",
     "text": [
      "loss: 1.2793 - top1: 0.7645 - top5: 0.9639 - eval_loss: 1.2267 - eval_top1: 0.7624 - eval_top5: 0.9784\n",
      "\n",
      "Epoch 17/60\n"
     ]
    },
    {
     "data": {
      "application/vnd.jupyter.widget-view+json": {
       "model_id": "13067085039d4c22b92888fd2120b6b9",
       "version_major": 2,
       "version_minor": 0
      },
      "text/plain": [
       "  0%|          | 0/233 [00:00<?, ?it/s]"
      ]
     },
     "metadata": {},
     "output_type": "display_data"
    },
    {
     "name": "stdout",
     "output_type": "stream",
     "text": [
      "loss: 1.2895 - top1: 0.7588 - top5: 0.9598 - eval_loss: 1.2496 - eval_top1: 0.7567 - eval_top5: 0.9796\n",
      "\n",
      "Epoch 18/60\n"
     ]
    },
    {
     "data": {
      "application/vnd.jupyter.widget-view+json": {
       "model_id": "e2726cefb7b34b05ae423bfd1d8f07cd",
       "version_major": 2,
       "version_minor": 0
      },
      "text/plain": [
       "  0%|          | 0/233 [00:00<?, ?it/s]"
      ]
     },
     "metadata": {},
     "output_type": "display_data"
    },
    {
     "name": "stdout",
     "output_type": "stream",
     "text": [
      "loss: 1.2592 - top1: 0.7763 - top5: 0.9637 - eval_loss: 1.1758 - eval_top1: 0.7938 - eval_top5: 0.9820\n",
      "\n",
      "Epoch 19/60\n"
     ]
    },
    {
     "data": {
      "application/vnd.jupyter.widget-view+json": {
       "model_id": "bd63f04036e44a18bff0406a8018da3d",
       "version_major": 2,
       "version_minor": 0
      },
      "text/plain": [
       "  0%|          | 0/233 [00:00<?, ?it/s]"
      ]
     },
     "metadata": {},
     "output_type": "display_data"
    },
    {
     "name": "stdout",
     "output_type": "stream",
     "text": [
      "loss: 1.2568 - top1: 0.7765 - top5: 0.9637 - eval_loss: 1.1851 - eval_top1: 0.8000 - eval_top5: 0.9844\n",
      "\n",
      "Epoch 20/60\n"
     ]
    },
    {
     "data": {
      "application/vnd.jupyter.widget-view+json": {
       "model_id": "372d3a09404448338b01614217616269",
       "version_major": 2,
       "version_minor": 0
      },
      "text/plain": [
       "  0%|          | 0/233 [00:00<?, ?it/s]"
      ]
     },
     "metadata": {},
     "output_type": "display_data"
    },
    {
     "name": "stdout",
     "output_type": "stream",
     "text": [
      "loss: 1.2358 - top1: 0.7820 - top5: 0.9679 - eval_loss: 1.2078 - eval_top1: 0.7687 - eval_top5: 0.9820\n",
      "\n",
      "Epoch 21/60\n"
     ]
    },
    {
     "data": {
      "application/vnd.jupyter.widget-view+json": {
       "model_id": "a3fd333e11fb42ba9ee5dd8644073ffa",
       "version_major": 2,
       "version_minor": 0
      },
      "text/plain": [
       "  0%|          | 0/233 [00:00<?, ?it/s]"
      ]
     },
     "metadata": {},
     "output_type": "display_data"
    },
    {
     "name": "stdout",
     "output_type": "stream",
     "text": [
      "loss: 1.2347 - top1: 0.7822 - top5: 0.9677 - eval_loss: 1.1845 - eval_top1: 0.8001 - eval_top5: 0.9808\n",
      "\n",
      "Epoch 22/60\n"
     ]
    },
    {
     "data": {
      "application/vnd.jupyter.widget-view+json": {
       "model_id": "74a072e4f4a64dc587f4e6c065e3511c",
       "version_major": 2,
       "version_minor": 0
      },
      "text/plain": [
       "  0%|          | 0/233 [00:00<?, ?it/s]"
      ]
     },
     "metadata": {},
     "output_type": "display_data"
    },
    {
     "name": "stdout",
     "output_type": "stream",
     "text": [
      "loss: 1.2192 - top1: 0.7942 - top5: 0.9714 - eval_loss: 1.2113 - eval_top1: 0.8010 - eval_top5: 0.9808\n",
      "\n",
      "Epoch 23/60\n"
     ]
    },
    {
     "data": {
      "application/vnd.jupyter.widget-view+json": {
       "model_id": "c4669c69e8f34cdda072a3bfd0e7fe4e",
       "version_major": 2,
       "version_minor": 0
      },
      "text/plain": [
       "  0%|          | 0/233 [00:00<?, ?it/s]"
      ]
     },
     "metadata": {},
     "output_type": "display_data"
    },
    {
     "name": "stdout",
     "output_type": "stream",
     "text": [
      "loss: 1.2086 - top1: 0.7952 - top5: 0.9684 - eval_loss: 1.2281 - eval_top1: 0.7795 - eval_top5: 0.9784\n",
      "\n",
      "Epoch 24/60\n"
     ]
    },
    {
     "data": {
      "application/vnd.jupyter.widget-view+json": {
       "model_id": "8e8fe74d6bfb4aa381b949b236fc87cd",
       "version_major": 2,
       "version_minor": 0
      },
      "text/plain": [
       "  0%|          | 0/233 [00:00<?, ?it/s]"
      ]
     },
     "metadata": {},
     "output_type": "display_data"
    },
    {
     "name": "stdout",
     "output_type": "stream",
     "text": [
      "loss: 1.2003 - top1: 0.7959 - top5: 0.9697 - eval_loss: 1.1578 - eval_top1: 0.8073 - eval_top5: 0.9784\n",
      "\n",
      "Epoch 25/60\n"
     ]
    },
    {
     "data": {
      "application/vnd.jupyter.widget-view+json": {
       "model_id": "e7fda3c5965d4fb6a52ef09cb7a06a62",
       "version_major": 2,
       "version_minor": 0
      },
      "text/plain": [
       "  0%|          | 0/233 [00:00<?, ?it/s]"
      ]
     },
     "metadata": {},
     "output_type": "display_data"
    },
    {
     "name": "stdout",
     "output_type": "stream",
     "text": [
      "loss: 1.1854 - top1: 0.8047 - top5: 0.9707 - eval_loss: 1.2258 - eval_top1: 0.7763 - eval_top5: 0.9760\n",
      "\n",
      "Epoch 26/60\n"
     ]
    },
    {
     "data": {
      "application/vnd.jupyter.widget-view+json": {
       "model_id": "6edea3ae437c4c4c8b82e1b4e7a09ad4",
       "version_major": 2,
       "version_minor": 0
      },
      "text/plain": [
       "  0%|          | 0/233 [00:00<?, ?it/s]"
      ]
     },
     "metadata": {},
     "output_type": "display_data"
    },
    {
     "name": "stdout",
     "output_type": "stream",
     "text": [
      "loss: 1.1736 - top1: 0.8109 - top5: 0.9722 - eval_loss: 1.1641 - eval_top1: 0.8128 - eval_top5: 0.9808\n",
      "\n",
      "Epoch 27/60\n"
     ]
    },
    {
     "data": {
      "application/vnd.jupyter.widget-view+json": {
       "model_id": "fb924d0aafbc4efb97514d5bfec999b0",
       "version_major": 2,
       "version_minor": 0
      },
      "text/plain": [
       "  0%|          | 0/233 [00:00<?, ?it/s]"
      ]
     },
     "metadata": {},
     "output_type": "display_data"
    },
    {
     "name": "stdout",
     "output_type": "stream",
     "text": [
      "loss: 1.1702 - top1: 0.8070 - top5: 0.9716 - eval_loss: 1.1904 - eval_top1: 0.7977 - eval_top5: 0.9796\n",
      "\n",
      "Epoch 28/60\n"
     ]
    },
    {
     "data": {
      "application/vnd.jupyter.widget-view+json": {
       "model_id": "a603d65d33eb443686f11533cbb17510",
       "version_major": 2,
       "version_minor": 0
      },
      "text/plain": [
       "  0%|          | 0/233 [00:00<?, ?it/s]"
      ]
     },
     "metadata": {},
     "output_type": "display_data"
    },
    {
     "name": "stdout",
     "output_type": "stream",
     "text": [
      "loss: 1.1586 - top1: 0.8142 - top5: 0.9736 - eval_loss: 1.1554 - eval_top1: 0.8139 - eval_top5: 0.9784\n",
      "\n",
      "Epoch 29/60\n"
     ]
    },
    {
     "data": {
      "application/vnd.jupyter.widget-view+json": {
       "model_id": "92f05ba2bd1c4345acf9823bca6e241a",
       "version_major": 2,
       "version_minor": 0
      },
      "text/plain": [
       "  0%|          | 0/233 [00:00<?, ?it/s]"
      ]
     },
     "metadata": {},
     "output_type": "display_data"
    },
    {
     "name": "stdout",
     "output_type": "stream",
     "text": [
      "loss: 1.1648 - top1: 0.8134 - top5: 0.9730 - eval_loss: 1.1910 - eval_top1: 0.8142 - eval_top5: 0.9820\n",
      "\n",
      "Epoch 30/60\n"
     ]
    },
    {
     "data": {
      "application/vnd.jupyter.widget-view+json": {
       "model_id": "34c44a0dc4434078ba36f0e995c4c3cf",
       "version_major": 2,
       "version_minor": 0
      },
      "text/plain": [
       "  0%|          | 0/233 [00:00<?, ?it/s]"
      ]
     },
     "metadata": {},
     "output_type": "display_data"
    },
    {
     "name": "stdout",
     "output_type": "stream",
     "text": [
      "loss: 1.1583 - top1: 0.8162 - top5: 0.9745 - eval_loss: 1.1872 - eval_top1: 0.7926 - eval_top5: 0.9868\n",
      "\n",
      "Epoch 31/60\n"
     ]
    },
    {
     "data": {
      "application/vnd.jupyter.widget-view+json": {
       "model_id": "f5e0f2e4ed124c5da67e914889179319",
       "version_major": 2,
       "version_minor": 0
      },
      "text/plain": [
       "  0%|          | 0/233 [00:00<?, ?it/s]"
      ]
     },
     "metadata": {},
     "output_type": "display_data"
    },
    {
     "name": "stdout",
     "output_type": "stream",
     "text": [
      "loss: 1.1467 - top1: 0.8193 - top5: 0.9758 - eval_loss: 1.2510 - eval_top1: 0.7576 - eval_top5: 0.9760\n",
      "\n",
      "Epoch 32/60\n"
     ]
    },
    {
     "data": {
      "application/vnd.jupyter.widget-view+json": {
       "model_id": "d2c5638fec4849ada6d63f4a48f926ec",
       "version_major": 2,
       "version_minor": 0
      },
      "text/plain": [
       "  0%|          | 0/233 [00:00<?, ?it/s]"
      ]
     },
     "metadata": {},
     "output_type": "display_data"
    },
    {
     "name": "stdout",
     "output_type": "stream",
     "text": [
      "loss: 1.1576 - top1: 0.8191 - top5: 0.9734 - eval_loss: 1.1740 - eval_top1: 0.7995 - eval_top5: 0.9868\n",
      "\n",
      "Epoch 33/60\n"
     ]
    },
    {
     "data": {
      "application/vnd.jupyter.widget-view+json": {
       "model_id": "57b11f6bd87d4b158e379ba59bc0c8bf",
       "version_major": 2,
       "version_minor": 0
      },
      "text/plain": [
       "  0%|          | 0/233 [00:00<?, ?it/s]"
      ]
     },
     "metadata": {},
     "output_type": "display_data"
    },
    {
     "name": "stdout",
     "output_type": "stream",
     "text": [
      "loss: 1.1235 - top1: 0.8319 - top5: 0.9761 - eval_loss: 1.1600 - eval_top1: 0.7988 - eval_top5: 0.9832\n",
      "\n",
      "Epoch 34/60\n"
     ]
    },
    {
     "data": {
      "application/vnd.jupyter.widget-view+json": {
       "model_id": "14cefd418a694a67abc327b0fcb7acb6",
       "version_major": 2,
       "version_minor": 0
      },
      "text/plain": [
       "  0%|          | 0/233 [00:00<?, ?it/s]"
      ]
     },
     "metadata": {},
     "output_type": "display_data"
    },
    {
     "name": "stdout",
     "output_type": "stream",
     "text": [
      "loss: 1.1192 - top1: 0.8294 - top5: 0.9777 - eval_loss: 1.2021 - eval_top1: 0.7904 - eval_top5: 0.9772\n",
      "\n",
      "Epoch 35/60\n"
     ]
    },
    {
     "data": {
      "application/vnd.jupyter.widget-view+json": {
       "model_id": "62b0195baa88418a9f927498d6f1f710",
       "version_major": 2,
       "version_minor": 0
      },
      "text/plain": [
       "  0%|          | 0/233 [00:00<?, ?it/s]"
      ]
     },
     "metadata": {},
     "output_type": "display_data"
    },
    {
     "name": "stdout",
     "output_type": "stream",
     "text": [
      "loss: 1.1173 - top1: 0.8401 - top5: 0.9773 - eval_loss: 1.1606 - eval_top1: 0.7950 - eval_top5: 0.9760\n",
      "\n",
      "Epoch 36/60\n"
     ]
    },
    {
     "data": {
      "application/vnd.jupyter.widget-view+json": {
       "model_id": "914cafe8a9e14288942cff095b06f9ba",
       "version_major": 2,
       "version_minor": 0
      },
      "text/plain": [
       "  0%|          | 0/233 [00:00<?, ?it/s]"
      ]
     },
     "metadata": {},
     "output_type": "display_data"
    },
    {
     "name": "stdout",
     "output_type": "stream",
     "text": [
      "loss: 1.1199 - top1: 0.8348 - top5: 0.9748 - eval_loss: 1.1879 - eval_top1: 0.8022 - eval_top5: 0.9796\n",
      "\n",
      "Epoch 37/60\n"
     ]
    },
    {
     "data": {
      "application/vnd.jupyter.widget-view+json": {
       "model_id": "a866308b075c48aba0be56a9808b98c4",
       "version_major": 2,
       "version_minor": 0
      },
      "text/plain": [
       "  0%|          | 0/233 [00:00<?, ?it/s]"
      ]
     },
     "metadata": {},
     "output_type": "display_data"
    },
    {
     "name": "stdout",
     "output_type": "stream",
     "text": [
      "loss: 1.0988 - top1: 0.8407 - top5: 0.9767 - eval_loss: 1.1811 - eval_top1: 0.7989 - eval_top5: 0.9784\n",
      "\n",
      "Epoch 38/60\n"
     ]
    },
    {
     "data": {
      "application/vnd.jupyter.widget-view+json": {
       "model_id": "85b762af84be4cad9df29d4d5786216e",
       "version_major": 2,
       "version_minor": 0
      },
      "text/plain": [
       "  0%|          | 0/233 [00:00<?, ?it/s]"
      ]
     },
     "metadata": {},
     "output_type": "display_data"
    },
    {
     "name": "stdout",
     "output_type": "stream",
     "text": [
      "loss: 1.1022 - top1: 0.8434 - top5: 0.9771 - eval_loss: 1.1585 - eval_top1: 0.8166 - eval_top5: 0.9844\n",
      "\n",
      "Epoch 39/60\n"
     ]
    },
    {
     "data": {
      "application/vnd.jupyter.widget-view+json": {
       "model_id": "26dc5a330f124bbfbafdec1974a38dcf",
       "version_major": 2,
       "version_minor": 0
      },
      "text/plain": [
       "  0%|          | 0/233 [00:00<?, ?it/s]"
      ]
     },
     "metadata": {},
     "output_type": "display_data"
    },
    {
     "name": "stdout",
     "output_type": "stream",
     "text": [
      "loss: 1.1034 - top1: 0.8391 - top5: 0.9771 - eval_loss: 1.2052 - eval_top1: 0.7890 - eval_top5: 0.9760\n",
      "\n",
      "Epoch 40/60\n"
     ]
    },
    {
     "data": {
      "application/vnd.jupyter.widget-view+json": {
       "model_id": "ecffe680c7884bd1a895627a78dafb71",
       "version_major": 2,
       "version_minor": 0
      },
      "text/plain": [
       "  0%|          | 0/233 [00:00<?, ?it/s]"
      ]
     },
     "metadata": {},
     "output_type": "display_data"
    },
    {
     "name": "stdout",
     "output_type": "stream",
     "text": [
      "loss: 1.0895 - top1: 0.8466 - top5: 0.9783 - eval_loss: 1.2167 - eval_top1: 0.7855 - eval_top5: 0.9772\n",
      "\n",
      "Epoch 41/60\n"
     ]
    },
    {
     "data": {
      "application/vnd.jupyter.widget-view+json": {
       "model_id": "4c9d47a78c484747be0202a6a1fa64c1",
       "version_major": 2,
       "version_minor": 0
      },
      "text/plain": [
       "  0%|          | 0/233 [00:00<?, ?it/s]"
      ]
     },
     "metadata": {},
     "output_type": "display_data"
    },
    {
     "name": "stdout",
     "output_type": "stream",
     "text": [
      "loss: 1.0886 - top1: 0.8437 - top5: 0.9775 - eval_loss: 1.2099 - eval_top1: 0.7867 - eval_top5: 0.9760\n",
      "\n",
      "Epoch 42/60\n"
     ]
    },
    {
     "data": {
      "application/vnd.jupyter.widget-view+json": {
       "model_id": "96edaa8b98704d20ab1676c20cfbd9dd",
       "version_major": 2,
       "version_minor": 0
      },
      "text/plain": [
       "  0%|          | 0/233 [00:00<?, ?it/s]"
      ]
     },
     "metadata": {},
     "output_type": "display_data"
    },
    {
     "name": "stdout",
     "output_type": "stream",
     "text": [
      "loss: 1.0847 - top1: 0.8487 - top5: 0.9781 - eval_loss: 1.1747 - eval_top1: 0.8060 - eval_top5: 0.9808\n",
      "\n",
      "Epoch 43/60\n"
     ]
    },
    {
     "data": {
      "application/vnd.jupyter.widget-view+json": {
       "model_id": "7083597462064840910c0ef80d284979",
       "version_major": 2,
       "version_minor": 0
      },
      "text/plain": [
       "  0%|          | 0/233 [00:00<?, ?it/s]"
      ]
     },
     "metadata": {},
     "output_type": "display_data"
    },
    {
     "name": "stdout",
     "output_type": "stream",
     "text": [
      "loss: 1.0780 - top1: 0.8500 - top5: 0.9774 - eval_loss: 1.1454 - eval_top1: 0.8120 - eval_top5: 0.9808\n",
      "\n",
      "Epoch 44/60\n"
     ]
    },
    {
     "data": {
      "application/vnd.jupyter.widget-view+json": {
       "model_id": "ccafc68ab03a48809a3ad756d9f27ce8",
       "version_major": 2,
       "version_minor": 0
      },
      "text/plain": [
       "  0%|          | 0/233 [00:00<?, ?it/s]"
      ]
     },
     "metadata": {},
     "output_type": "display_data"
    },
    {
     "name": "stdout",
     "output_type": "stream",
     "text": [
      "loss: 1.0638 - top1: 0.8578 - top5: 0.9817 - eval_loss: 1.1864 - eval_top1: 0.8036 - eval_top5: 0.9796\n",
      "\n",
      "Epoch 45/60\n"
     ]
    },
    {
     "data": {
      "application/vnd.jupyter.widget-view+json": {
       "model_id": "61924b18325540659720de510938cd22",
       "version_major": 2,
       "version_minor": 0
      },
      "text/plain": [
       "  0%|          | 0/233 [00:00<?, ?it/s]"
      ]
     },
     "metadata": {},
     "output_type": "display_data"
    },
    {
     "name": "stdout",
     "output_type": "stream",
     "text": [
      "loss: 1.0586 - top1: 0.8606 - top5: 0.9795 - eval_loss: 1.1946 - eval_top1: 0.8108 - eval_top5: 0.9772\n",
      "\n",
      "Epoch 46/60\n"
     ]
    },
    {
     "data": {
      "application/vnd.jupyter.widget-view+json": {
       "model_id": "11d9aab16df14c1cab33d624a0239dbe",
       "version_major": 2,
       "version_minor": 0
      },
      "text/plain": [
       "  0%|          | 0/233 [00:00<?, ?it/s]"
      ]
     },
     "metadata": {},
     "output_type": "display_data"
    },
    {
     "name": "stdout",
     "output_type": "stream",
     "text": [
      "loss: 1.0610 - top1: 0.8578 - top5: 0.9804 - eval_loss: 1.1890 - eval_top1: 0.8104 - eval_top5: 0.9700\n",
      "\n",
      "Epoch 47/60\n"
     ]
    },
    {
     "data": {
      "application/vnd.jupyter.widget-view+json": {
       "model_id": "2a08c192ac014597b3ad662811ac097f",
       "version_major": 2,
       "version_minor": 0
      },
      "text/plain": [
       "  0%|          | 0/233 [00:00<?, ?it/s]"
      ]
     },
     "metadata": {},
     "output_type": "display_data"
    },
    {
     "name": "stdout",
     "output_type": "stream",
     "text": [
      "loss: 1.0638 - top1: 0.8612 - top5: 0.9791 - eval_loss: 1.2325 - eval_top1: 0.7905 - eval_top5: 0.9748\n",
      "\n",
      "Epoch 48/60\n"
     ]
    },
    {
     "data": {
      "application/vnd.jupyter.widget-view+json": {
       "model_id": "f5e06764756c4c2c99b934e13a8f0e3e",
       "version_major": 2,
       "version_minor": 0
      },
      "text/plain": [
       "  0%|          | 0/233 [00:00<?, ?it/s]"
      ]
     },
     "metadata": {},
     "output_type": "display_data"
    },
    {
     "name": "stdout",
     "output_type": "stream",
     "text": [
      "loss: 1.0529 - top1: 0.8603 - top5: 0.9815 - eval_loss: 1.1565 - eval_top1: 0.8228 - eval_top5: 0.9748\n",
      "\n",
      "Epoch 49/60\n"
     ]
    },
    {
     "data": {
      "application/vnd.jupyter.widget-view+json": {
       "model_id": "762aac7e0b2546dd8299dea06b7213b8",
       "version_major": 2,
       "version_minor": 0
      },
      "text/plain": [
       "  0%|          | 0/233 [00:00<?, ?it/s]"
      ]
     },
     "metadata": {},
     "output_type": "display_data"
    },
    {
     "name": "stdout",
     "output_type": "stream",
     "text": [
      "loss: 1.0466 - top1: 0.8636 - top5: 0.9808 - eval_loss: 1.1865 - eval_top1: 0.8106 - eval_top5: 0.9712\n",
      "\n",
      "Epoch 50/60\n"
     ]
    },
    {
     "data": {
      "application/vnd.jupyter.widget-view+json": {
       "model_id": "60714666421b44fcbe2263f87dde3cdf",
       "version_major": 2,
       "version_minor": 0
      },
      "text/plain": [
       "  0%|          | 0/233 [00:00<?, ?it/s]"
      ]
     },
     "metadata": {},
     "output_type": "display_data"
    },
    {
     "name": "stdout",
     "output_type": "stream",
     "text": [
      "loss: 1.0405 - top1: 0.8643 - top5: 0.9820 - eval_loss: 1.1958 - eval_top1: 0.8012 - eval_top5: 0.9736\n",
      "\n",
      "Epoch 51/60\n"
     ]
    },
    {
     "data": {
      "application/vnd.jupyter.widget-view+json": {
       "model_id": "b393d669941143daa4a3de420b8395d4",
       "version_major": 2,
       "version_minor": 0
      },
      "text/plain": [
       "  0%|          | 0/233 [00:00<?, ?it/s]"
      ]
     },
     "metadata": {},
     "output_type": "display_data"
    },
    {
     "name": "stdout",
     "output_type": "stream",
     "text": [
      "loss: 1.0286 - top1: 0.8709 - top5: 0.9822 - eval_loss: 1.2037 - eval_top1: 0.8073 - eval_top5: 0.9760\n",
      "\n",
      "Epoch 52/60\n"
     ]
    },
    {
     "data": {
      "application/vnd.jupyter.widget-view+json": {
       "model_id": "8744eacd420f47d199caf7cc133ae61c",
       "version_major": 2,
       "version_minor": 0
      },
      "text/plain": [
       "  0%|          | 0/233 [00:00<?, ?it/s]"
      ]
     },
     "metadata": {},
     "output_type": "display_data"
    },
    {
     "name": "stdout",
     "output_type": "stream",
     "text": [
      "loss: 1.0378 - top1: 0.8662 - top5: 0.9802 - eval_loss: 1.1983 - eval_top1: 0.8072 - eval_top5: 0.9748\n",
      "\n",
      "Epoch 53/60\n"
     ]
    },
    {
     "data": {
      "application/vnd.jupyter.widget-view+json": {
       "model_id": "b2337519e2d944db9158900e243384b8",
       "version_major": 2,
       "version_minor": 0
      },
      "text/plain": [
       "  0%|          | 0/233 [00:00<?, ?it/s]"
      ]
     },
     "metadata": {},
     "output_type": "display_data"
    },
    {
     "name": "stdout",
     "output_type": "stream",
     "text": [
      "loss: 1.0373 - top1: 0.8663 - top5: 0.9803 - eval_loss: 1.2084 - eval_top1: 0.7984 - eval_top5: 0.9748\n",
      "\n",
      "Epoch 54/60\n"
     ]
    },
    {
     "data": {
      "application/vnd.jupyter.widget-view+json": {
       "model_id": "6c6894a0306d41909112d5b6bc266a45",
       "version_major": 2,
       "version_minor": 0
      },
      "text/plain": [
       "  0%|          | 0/233 [00:00<?, ?it/s]"
      ]
     },
     "metadata": {},
     "output_type": "display_data"
    },
    {
     "name": "stdout",
     "output_type": "stream",
     "text": [
      "loss: 1.0296 - top1: 0.8658 - top5: 0.9824 - eval_loss: 1.1916 - eval_top1: 0.7996 - eval_top5: 0.9760\n",
      "\n",
      "Epoch 55/60\n"
     ]
    },
    {
     "data": {
      "application/vnd.jupyter.widget-view+json": {
       "model_id": "a349bfbbea3746169886a38016c4a5ad",
       "version_major": 2,
       "version_minor": 0
      },
      "text/plain": [
       "  0%|          | 0/233 [00:00<?, ?it/s]"
      ]
     },
     "metadata": {},
     "output_type": "display_data"
    },
    {
     "name": "stdout",
     "output_type": "stream",
     "text": [
      "loss: 1.0269 - top1: 0.8713 - top5: 0.9808 - eval_loss: 1.1898 - eval_top1: 0.8170 - eval_top5: 0.9700\n",
      "\n",
      "Epoch 56/60\n"
     ]
    },
    {
     "data": {
      "application/vnd.jupyter.widget-view+json": {
       "model_id": "e8652e6c22e24e77849a3cab39a1049c",
       "version_major": 2,
       "version_minor": 0
      },
      "text/plain": [
       "  0%|          | 0/233 [00:00<?, ?it/s]"
      ]
     },
     "metadata": {},
     "output_type": "display_data"
    },
    {
     "name": "stdout",
     "output_type": "stream",
     "text": [
      "loss: 1.0265 - top1: 0.8773 - top5: 0.9829 - eval_loss: 1.2047 - eval_top1: 0.7976 - eval_top5: 0.9748\n",
      "\n",
      "Epoch 57/60\n"
     ]
    },
    {
     "data": {
      "application/vnd.jupyter.widget-view+json": {
       "model_id": "9e722b426c914cb09c216643c97464e0",
       "version_major": 2,
       "version_minor": 0
      },
      "text/plain": [
       "  0%|          | 0/233 [00:00<?, ?it/s]"
      ]
     },
     "metadata": {},
     "output_type": "display_data"
    },
    {
     "name": "stdout",
     "output_type": "stream",
     "text": [
      "loss: 1.0277 - top1: 0.8671 - top5: 0.9819 - eval_loss: 1.1735 - eval_top1: 0.8012 - eval_top5: 0.9796\n",
      "\n",
      "Epoch 58/60\n"
     ]
    },
    {
     "data": {
      "application/vnd.jupyter.widget-view+json": {
       "model_id": "8fd4555dffac48e7981b2551683164ae",
       "version_major": 2,
       "version_minor": 0
      },
      "text/plain": [
       "  0%|          | 0/233 [00:00<?, ?it/s]"
      ]
     },
     "metadata": {},
     "output_type": "display_data"
    },
    {
     "name": "stdout",
     "output_type": "stream",
     "text": [
      "loss: 1.0042 - top1: 0.8808 - top5: 0.9861 - eval_loss: 1.1949 - eval_top1: 0.8108 - eval_top5: 0.9796\n",
      "\n",
      "Epoch 59/60\n"
     ]
    },
    {
     "data": {
      "application/vnd.jupyter.widget-view+json": {
       "model_id": "a60267e2c9bc4711938e30da531cfdbb",
       "version_major": 2,
       "version_minor": 0
      },
      "text/plain": [
       "  0%|          | 0/233 [00:00<?, ?it/s]"
      ]
     },
     "metadata": {},
     "output_type": "display_data"
    },
    {
     "name": "stdout",
     "output_type": "stream",
     "text": [
      "loss: 1.0119 - top1: 0.8788 - top5: 0.9809 - eval_loss: 1.2034 - eval_top1: 0.7902 - eval_top5: 0.9808\n",
      "\n",
      "Epoch 60/60\n"
     ]
    },
    {
     "data": {
      "application/vnd.jupyter.widget-view+json": {
       "model_id": "e84f1eb8a19f4d34b7c0dde2774c6bf8",
       "version_major": 2,
       "version_minor": 0
      },
      "text/plain": [
       "  0%|          | 0/233 [00:00<?, ?it/s]"
      ]
     },
     "metadata": {},
     "output_type": "display_data"
    },
    {
     "name": "stdout",
     "output_type": "stream",
     "text": [
      "loss: 1.0055 - top1: 0.8802 - top5: 0.9848 - eval_loss: 1.2203 - eval_top1: 0.8032 - eval_top5: 0.9772\n"
     ]
    }
   ],
   "source": [
    "writer = SummaryWriter(log_dir=\"runs/exp1_efficientnet\")\n",
    "\n",
    "session = train(\n",
    "    model=cnn,\n",
    "    train_dataloader=train_loader,\n",
    "    eval_dataloader=val_loader,\n",
    "    optimizer=optimizer,\n",
    "    loss_fn=loss_fn,\n",
    "    epochs=CFG.EPOCHS,\n",
    "    device=CFG.DEVICE,\n",
    "    writer=writer\n",
    ")\n",
    "\n",
    "writer.close()"
   ]
  },
  {
   "cell_type": "code",
   "execution_count": 12,
   "id": "b6ee8121",
   "metadata": {},
   "outputs": [
    {
     "data": {
      "text/html": [
       "<div>\n",
       "<style scoped>\n",
       "    .dataframe tbody tr th:only-of-type {\n",
       "        vertical-align: middle;\n",
       "    }\n",
       "\n",
       "    .dataframe tbody tr th {\n",
       "        vertical-align: top;\n",
       "    }\n",
       "\n",
       "    .dataframe thead th {\n",
       "        text-align: right;\n",
       "    }\n",
       "</style>\n",
       "<table border=\"1\" class=\"dataframe\">\n",
       "  <thead>\n",
       "    <tr style=\"text-align: right;\">\n",
       "      <th></th>\n",
       "      <th>loss</th>\n",
       "      <th>accuracy</th>\n",
       "      <th>top5_accuracy</th>\n",
       "      <th>eval_loss</th>\n",
       "      <th>eval_accuracy</th>\n",
       "      <th>eval_top5_accuracy</th>\n",
       "    </tr>\n",
       "  </thead>\n",
       "  <tbody>\n",
       "    <tr>\n",
       "      <th>0</th>\n",
       "      <td>2.718967</td>\n",
       "      <td>0.243045</td>\n",
       "      <td>0.616800</td>\n",
       "      <td>1.866658</td>\n",
       "      <td>0.492617</td>\n",
       "      <td>0.928571</td>\n",
       "    </tr>\n",
       "    <tr>\n",
       "      <th>1</th>\n",
       "      <td>1.987321</td>\n",
       "      <td>0.471337</td>\n",
       "      <td>0.877140</td>\n",
       "      <td>1.613596</td>\n",
       "      <td>0.618304</td>\n",
       "      <td>0.956559</td>\n",
       "    </tr>\n",
       "    <tr>\n",
       "      <th>2</th>\n",
       "      <td>1.788146</td>\n",
       "      <td>0.549586</td>\n",
       "      <td>0.908792</td>\n",
       "      <td>1.455333</td>\n",
       "      <td>0.682005</td>\n",
       "      <td>0.963771</td>\n",
       "    </tr>\n",
       "    <tr>\n",
       "      <th>3</th>\n",
       "      <td>1.652723</td>\n",
       "      <td>0.605514</td>\n",
       "      <td>0.925959</td>\n",
       "      <td>1.399399</td>\n",
       "      <td>0.691449</td>\n",
       "      <td>0.968750</td>\n",
       "    </tr>\n",
       "    <tr>\n",
       "      <th>4</th>\n",
       "      <td>1.588551</td>\n",
       "      <td>0.645182</td>\n",
       "      <td>0.929453</td>\n",
       "      <td>1.444626</td>\n",
       "      <td>0.676683</td>\n",
       "      <td>0.966346</td>\n",
       "    </tr>\n",
       "    <tr>\n",
       "      <th>5</th>\n",
       "      <td>1.522877</td>\n",
       "      <td>0.672325</td>\n",
       "      <td>0.935073</td>\n",
       "      <td>1.364403</td>\n",
       "      <td>0.713771</td>\n",
       "      <td>0.972356</td>\n",
       "    </tr>\n",
       "    <tr>\n",
       "      <th>6</th>\n",
       "      <td>1.481542</td>\n",
       "      <td>0.678706</td>\n",
       "      <td>0.944206</td>\n",
       "      <td>1.313999</td>\n",
       "      <td>0.746738</td>\n",
       "      <td>0.963942</td>\n",
       "    </tr>\n",
       "    <tr>\n",
       "      <th>7</th>\n",
       "      <td>1.451881</td>\n",
       "      <td>0.699545</td>\n",
       "      <td>0.944468</td>\n",
       "      <td>1.298110</td>\n",
       "      <td>0.754121</td>\n",
       "      <td>0.963942</td>\n",
       "    </tr>\n",
       "    <tr>\n",
       "      <th>8</th>\n",
       "      <td>1.415822</td>\n",
       "      <td>0.709406</td>\n",
       "      <td>0.951378</td>\n",
       "      <td>1.303165</td>\n",
       "      <td>0.736779</td>\n",
       "      <td>0.967548</td>\n",
       "    </tr>\n",
       "    <tr>\n",
       "      <th>9</th>\n",
       "      <td>1.396364</td>\n",
       "      <td>0.716904</td>\n",
       "      <td>0.952451</td>\n",
       "      <td>1.261709</td>\n",
       "      <td>0.754979</td>\n",
       "      <td>0.974760</td>\n",
       "    </tr>\n",
       "    <tr>\n",
       "      <th>10</th>\n",
       "      <td>1.364328</td>\n",
       "      <td>0.732219</td>\n",
       "      <td>0.953326</td>\n",
       "      <td>1.276635</td>\n",
       "      <td>0.749485</td>\n",
       "      <td>0.977163</td>\n",
       "    </tr>\n",
       "    <tr>\n",
       "      <th>11</th>\n",
       "      <td>1.349137</td>\n",
       "      <td>0.738523</td>\n",
       "      <td>0.955070</td>\n",
       "      <td>1.267984</td>\n",
       "      <td>0.744677</td>\n",
       "      <td>0.973558</td>\n",
       "    </tr>\n",
       "    <tr>\n",
       "      <th>12</th>\n",
       "      <td>1.322875</td>\n",
       "      <td>0.746034</td>\n",
       "      <td>0.961373</td>\n",
       "      <td>1.255394</td>\n",
       "      <td>0.751545</td>\n",
       "      <td>0.975962</td>\n",
       "    </tr>\n",
       "    <tr>\n",
       "      <th>13</th>\n",
       "      <td>1.327394</td>\n",
       "      <td>0.745957</td>\n",
       "      <td>0.957011</td>\n",
       "      <td>1.251504</td>\n",
       "      <td>0.757212</td>\n",
       "      <td>0.980769</td>\n",
       "    </tr>\n",
       "    <tr>\n",
       "      <th>14</th>\n",
       "      <td>1.311556</td>\n",
       "      <td>0.756284</td>\n",
       "      <td>0.959560</td>\n",
       "      <td>1.209096</td>\n",
       "      <td>0.777988</td>\n",
       "      <td>0.983173</td>\n",
       "    </tr>\n",
       "    <tr>\n",
       "      <th>15</th>\n",
       "      <td>1.279288</td>\n",
       "      <td>0.764466</td>\n",
       "      <td>0.963922</td>\n",
       "      <td>1.226656</td>\n",
       "      <td>0.762363</td>\n",
       "      <td>0.978365</td>\n",
       "    </tr>\n",
       "    <tr>\n",
       "      <th>16</th>\n",
       "      <td>1.289522</td>\n",
       "      <td>0.758833</td>\n",
       "      <td>0.959758</td>\n",
       "      <td>1.249568</td>\n",
       "      <td>0.756696</td>\n",
       "      <td>0.979567</td>\n",
       "    </tr>\n",
       "    <tr>\n",
       "      <th>17</th>\n",
       "      <td>1.259204</td>\n",
       "      <td>0.776275</td>\n",
       "      <td>0.963717</td>\n",
       "      <td>1.175760</td>\n",
       "      <td>0.793784</td>\n",
       "      <td>0.981971</td>\n",
       "    </tr>\n",
       "    <tr>\n",
       "      <th>18</th>\n",
       "      <td>1.256750</td>\n",
       "      <td>0.776543</td>\n",
       "      <td>0.963653</td>\n",
       "      <td>1.185120</td>\n",
       "      <td>0.799966</td>\n",
       "      <td>0.984375</td>\n",
       "    </tr>\n",
       "    <tr>\n",
       "      <th>19</th>\n",
       "      <td>1.235839</td>\n",
       "      <td>0.782036</td>\n",
       "      <td>0.967945</td>\n",
       "      <td>1.207840</td>\n",
       "      <td>0.768716</td>\n",
       "      <td>0.981971</td>\n",
       "    </tr>\n",
       "    <tr>\n",
       "      <th>20</th>\n",
       "      <td>1.234658</td>\n",
       "      <td>0.782240</td>\n",
       "      <td>0.967677</td>\n",
       "      <td>1.184459</td>\n",
       "      <td>0.800137</td>\n",
       "      <td>0.980769</td>\n",
       "    </tr>\n",
       "    <tr>\n",
       "      <th>21</th>\n",
       "      <td>1.219168</td>\n",
       "      <td>0.794247</td>\n",
       "      <td>0.971432</td>\n",
       "      <td>1.211273</td>\n",
       "      <td>0.800996</td>\n",
       "      <td>0.980769</td>\n",
       "    </tr>\n",
       "    <tr>\n",
       "      <th>22</th>\n",
       "      <td>1.208617</td>\n",
       "      <td>0.795179</td>\n",
       "      <td>0.968412</td>\n",
       "      <td>1.228088</td>\n",
       "      <td>0.779533</td>\n",
       "      <td>0.978365</td>\n",
       "    </tr>\n",
       "    <tr>\n",
       "      <th>23</th>\n",
       "      <td>1.200339</td>\n",
       "      <td>0.795920</td>\n",
       "      <td>0.969689</td>\n",
       "      <td>1.157754</td>\n",
       "      <td>0.807349</td>\n",
       "      <td>0.978365</td>\n",
       "    </tr>\n",
       "    <tr>\n",
       "      <th>24</th>\n",
       "      <td>1.185398</td>\n",
       "      <td>0.804702</td>\n",
       "      <td>0.970749</td>\n",
       "      <td>1.225757</td>\n",
       "      <td>0.776271</td>\n",
       "      <td>0.975962</td>\n",
       "    </tr>\n",
       "    <tr>\n",
       "      <th>25</th>\n",
       "      <td>1.173573</td>\n",
       "      <td>0.810942</td>\n",
       "      <td>0.972237</td>\n",
       "      <td>1.164111</td>\n",
       "      <td>0.812843</td>\n",
       "      <td>0.980769</td>\n",
       "    </tr>\n",
       "    <tr>\n",
       "      <th>26</th>\n",
       "      <td>1.170159</td>\n",
       "      <td>0.807039</td>\n",
       "      <td>0.971567</td>\n",
       "      <td>1.190378</td>\n",
       "      <td>0.797734</td>\n",
       "      <td>0.979567</td>\n",
       "    </tr>\n",
       "    <tr>\n",
       "      <th>27</th>\n",
       "      <td>1.158641</td>\n",
       "      <td>0.814231</td>\n",
       "      <td>0.973578</td>\n",
       "      <td>1.155446</td>\n",
       "      <td>0.813874</td>\n",
       "      <td>0.978365</td>\n",
       "    </tr>\n",
       "    <tr>\n",
       "      <th>28</th>\n",
       "      <td>1.164751</td>\n",
       "      <td>0.813426</td>\n",
       "      <td>0.973042</td>\n",
       "      <td>1.190976</td>\n",
       "      <td>0.814217</td>\n",
       "      <td>0.981971</td>\n",
       "    </tr>\n",
       "    <tr>\n",
       "      <th>29</th>\n",
       "      <td>1.158298</td>\n",
       "      <td>0.816179</td>\n",
       "      <td>0.974517</td>\n",
       "      <td>1.187188</td>\n",
       "      <td>0.792582</td>\n",
       "      <td>0.986779</td>\n",
       "    </tr>\n",
       "    <tr>\n",
       "      <th>30</th>\n",
       "      <td>1.146671</td>\n",
       "      <td>0.819257</td>\n",
       "      <td>0.975788</td>\n",
       "      <td>1.250957</td>\n",
       "      <td>0.757555</td>\n",
       "      <td>0.975962</td>\n",
       "    </tr>\n",
       "    <tr>\n",
       "      <th>31</th>\n",
       "      <td>1.157634</td>\n",
       "      <td>0.819123</td>\n",
       "      <td>0.973374</td>\n",
       "      <td>1.173966</td>\n",
       "      <td>0.799451</td>\n",
       "      <td>0.986779</td>\n",
       "    </tr>\n",
       "    <tr>\n",
       "      <th>32</th>\n",
       "      <td>1.123453</td>\n",
       "      <td>0.831935</td>\n",
       "      <td>0.976127</td>\n",
       "      <td>1.160048</td>\n",
       "      <td>0.798764</td>\n",
       "      <td>0.983173</td>\n",
       "    </tr>\n",
       "    <tr>\n",
       "      <th>33</th>\n",
       "      <td>1.119201</td>\n",
       "      <td>0.829380</td>\n",
       "      <td>0.977736</td>\n",
       "      <td>1.202055</td>\n",
       "      <td>0.790350</td>\n",
       "      <td>0.977163</td>\n",
       "    </tr>\n",
       "    <tr>\n",
       "      <th>34</th>\n",
       "      <td>1.117265</td>\n",
       "      <td>0.840116</td>\n",
       "      <td>0.977263</td>\n",
       "      <td>1.160640</td>\n",
       "      <td>0.794986</td>\n",
       "      <td>0.975962</td>\n",
       "    </tr>\n",
       "    <tr>\n",
       "      <th>35</th>\n",
       "      <td>1.119864</td>\n",
       "      <td>0.834821</td>\n",
       "      <td>0.974785</td>\n",
       "      <td>1.187915</td>\n",
       "      <td>0.802198</td>\n",
       "      <td>0.979567</td>\n",
       "    </tr>\n",
       "    <tr>\n",
       "      <th>36</th>\n",
       "      <td>1.098834</td>\n",
       "      <td>0.840659</td>\n",
       "      <td>0.976663</td>\n",
       "      <td>1.181143</td>\n",
       "      <td>0.798935</td>\n",
       "      <td>0.978365</td>\n",
       "    </tr>\n",
       "    <tr>\n",
       "      <th>37</th>\n",
       "      <td>1.102226</td>\n",
       "      <td>0.843405</td>\n",
       "      <td>0.977065</td>\n",
       "      <td>1.158481</td>\n",
       "      <td>0.816621</td>\n",
       "      <td>0.984375</td>\n",
       "    </tr>\n",
       "    <tr>\n",
       "      <th>38</th>\n",
       "      <td>1.103415</td>\n",
       "      <td>0.839107</td>\n",
       "      <td>0.977129</td>\n",
       "      <td>1.205171</td>\n",
       "      <td>0.788977</td>\n",
       "      <td>0.975962</td>\n",
       "    </tr>\n",
       "    <tr>\n",
       "      <th>39</th>\n",
       "      <td>1.089512</td>\n",
       "      <td>0.846624</td>\n",
       "      <td>0.978273</td>\n",
       "      <td>1.216741</td>\n",
       "      <td>0.785543</td>\n",
       "      <td>0.977163</td>\n",
       "    </tr>\n",
       "    <tr>\n",
       "      <th>40</th>\n",
       "      <td>1.088603</td>\n",
       "      <td>0.843737</td>\n",
       "      <td>0.977532</td>\n",
       "      <td>1.209857</td>\n",
       "      <td>0.786745</td>\n",
       "      <td>0.975962</td>\n",
       "    </tr>\n",
       "    <tr>\n",
       "      <th>41</th>\n",
       "      <td>1.084747</td>\n",
       "      <td>0.848700</td>\n",
       "      <td>0.978138</td>\n",
       "      <td>1.174686</td>\n",
       "      <td>0.805975</td>\n",
       "      <td>0.980769</td>\n",
       "    </tr>\n",
       "    <tr>\n",
       "      <th>42</th>\n",
       "      <td>1.077969</td>\n",
       "      <td>0.849977</td>\n",
       "      <td>0.977398</td>\n",
       "      <td>1.145402</td>\n",
       "      <td>0.811985</td>\n",
       "      <td>0.980769</td>\n",
       "    </tr>\n",
       "    <tr>\n",
       "      <th>43</th>\n",
       "      <td>1.063781</td>\n",
       "      <td>0.857820</td>\n",
       "      <td>0.981689</td>\n",
       "      <td>1.186374</td>\n",
       "      <td>0.803571</td>\n",
       "      <td>0.979567</td>\n",
       "    </tr>\n",
       "    <tr>\n",
       "      <th>44</th>\n",
       "      <td>1.058586</td>\n",
       "      <td>0.860643</td>\n",
       "      <td>0.979480</td>\n",
       "      <td>1.194610</td>\n",
       "      <td>0.810783</td>\n",
       "      <td>0.977163</td>\n",
       "    </tr>\n",
       "    <tr>\n",
       "      <th>45</th>\n",
       "      <td>1.060967</td>\n",
       "      <td>0.857826</td>\n",
       "      <td>0.980418</td>\n",
       "      <td>1.189039</td>\n",
       "      <td>0.810440</td>\n",
       "      <td>0.969952</td>\n",
       "    </tr>\n",
       "    <tr>\n",
       "      <th>46</th>\n",
       "      <td>1.063827</td>\n",
       "      <td>0.861179</td>\n",
       "      <td>0.979141</td>\n",
       "      <td>1.232512</td>\n",
       "      <td>0.790522</td>\n",
       "      <td>0.974760</td>\n",
       "    </tr>\n",
       "    <tr>\n",
       "      <th>47</th>\n",
       "      <td>1.052863</td>\n",
       "      <td>0.860304</td>\n",
       "      <td>0.981491</td>\n",
       "      <td>1.156464</td>\n",
       "      <td>0.822802</td>\n",
       "      <td>0.974760</td>\n",
       "    </tr>\n",
       "    <tr>\n",
       "      <th>48</th>\n",
       "      <td>1.046634</td>\n",
       "      <td>0.863587</td>\n",
       "      <td>0.980821</td>\n",
       "      <td>1.186497</td>\n",
       "      <td>0.810611</td>\n",
       "      <td>0.971154</td>\n",
       "    </tr>\n",
       "    <tr>\n",
       "      <th>49</th>\n",
       "      <td>1.040548</td>\n",
       "      <td>0.864321</td>\n",
       "      <td>0.981958</td>\n",
       "      <td>1.195842</td>\n",
       "      <td>0.801168</td>\n",
       "      <td>0.973558</td>\n",
       "    </tr>\n",
       "    <tr>\n",
       "      <th>50</th>\n",
       "      <td>1.028592</td>\n",
       "      <td>0.870900</td>\n",
       "      <td>0.982226</td>\n",
       "      <td>1.203724</td>\n",
       "      <td>0.807349</td>\n",
       "      <td>0.975962</td>\n",
       "    </tr>\n",
       "    <tr>\n",
       "      <th>51</th>\n",
       "      <td>1.037800</td>\n",
       "      <td>0.866206</td>\n",
       "      <td>0.980214</td>\n",
       "      <td>1.198336</td>\n",
       "      <td>0.807177</td>\n",
       "      <td>0.974760</td>\n",
       "    </tr>\n",
       "    <tr>\n",
       "      <th>52</th>\n",
       "      <td>1.037278</td>\n",
       "      <td>0.866340</td>\n",
       "      <td>0.980348</td>\n",
       "      <td>1.208371</td>\n",
       "      <td>0.798420</td>\n",
       "      <td>0.974760</td>\n",
       "    </tr>\n",
       "    <tr>\n",
       "      <th>53</th>\n",
       "      <td>1.029612</td>\n",
       "      <td>0.865803</td>\n",
       "      <td>0.982430</td>\n",
       "      <td>1.191577</td>\n",
       "      <td>0.799622</td>\n",
       "      <td>0.975962</td>\n",
       "    </tr>\n",
       "    <tr>\n",
       "      <th>54</th>\n",
       "      <td>1.026928</td>\n",
       "      <td>0.871289</td>\n",
       "      <td>0.980808</td>\n",
       "      <td>1.189768</td>\n",
       "      <td>0.816964</td>\n",
       "      <td>0.969952</td>\n",
       "    </tr>\n",
       "    <tr>\n",
       "      <th>55</th>\n",
       "      <td>1.026520</td>\n",
       "      <td>0.877338</td>\n",
       "      <td>0.982896</td>\n",
       "      <td>1.204664</td>\n",
       "      <td>0.797562</td>\n",
       "      <td>0.974760</td>\n",
       "    </tr>\n",
       "    <tr>\n",
       "      <th>56</th>\n",
       "      <td>1.027677</td>\n",
       "      <td>0.867138</td>\n",
       "      <td>0.981894</td>\n",
       "      <td>1.173505</td>\n",
       "      <td>0.801168</td>\n",
       "      <td>0.979567</td>\n",
       "    </tr>\n",
       "    <tr>\n",
       "      <th>57</th>\n",
       "      <td>1.004225</td>\n",
       "      <td>0.880818</td>\n",
       "      <td>0.986052</td>\n",
       "      <td>1.194931</td>\n",
       "      <td>0.810783</td>\n",
       "      <td>0.979567</td>\n",
       "    </tr>\n",
       "    <tr>\n",
       "      <th>58</th>\n",
       "      <td>1.011876</td>\n",
       "      <td>0.878813</td>\n",
       "      <td>0.980885</td>\n",
       "      <td>1.203440</td>\n",
       "      <td>0.790179</td>\n",
       "      <td>0.980769</td>\n",
       "    </tr>\n",
       "    <tr>\n",
       "      <th>59</th>\n",
       "      <td>1.005468</td>\n",
       "      <td>0.880154</td>\n",
       "      <td>0.984844</td>\n",
       "      <td>1.220330</td>\n",
       "      <td>0.803228</td>\n",
       "      <td>0.977163</td>\n",
       "    </tr>\n",
       "  </tbody>\n",
       "</table>\n",
       "</div>"
      ],
      "text/plain": [
       "        loss  accuracy  top5_accuracy  eval_loss  eval_accuracy  \\\n",
       "0   2.718967  0.243045       0.616800   1.866658       0.492617   \n",
       "1   1.987321  0.471337       0.877140   1.613596       0.618304   \n",
       "2   1.788146  0.549586       0.908792   1.455333       0.682005   \n",
       "3   1.652723  0.605514       0.925959   1.399399       0.691449   \n",
       "4   1.588551  0.645182       0.929453   1.444626       0.676683   \n",
       "5   1.522877  0.672325       0.935073   1.364403       0.713771   \n",
       "6   1.481542  0.678706       0.944206   1.313999       0.746738   \n",
       "7   1.451881  0.699545       0.944468   1.298110       0.754121   \n",
       "8   1.415822  0.709406       0.951378   1.303165       0.736779   \n",
       "9   1.396364  0.716904       0.952451   1.261709       0.754979   \n",
       "10  1.364328  0.732219       0.953326   1.276635       0.749485   \n",
       "11  1.349137  0.738523       0.955070   1.267984       0.744677   \n",
       "12  1.322875  0.746034       0.961373   1.255394       0.751545   \n",
       "13  1.327394  0.745957       0.957011   1.251504       0.757212   \n",
       "14  1.311556  0.756284       0.959560   1.209096       0.777988   \n",
       "15  1.279288  0.764466       0.963922   1.226656       0.762363   \n",
       "16  1.289522  0.758833       0.959758   1.249568       0.756696   \n",
       "17  1.259204  0.776275       0.963717   1.175760       0.793784   \n",
       "18  1.256750  0.776543       0.963653   1.185120       0.799966   \n",
       "19  1.235839  0.782036       0.967945   1.207840       0.768716   \n",
       "20  1.234658  0.782240       0.967677   1.184459       0.800137   \n",
       "21  1.219168  0.794247       0.971432   1.211273       0.800996   \n",
       "22  1.208617  0.795179       0.968412   1.228088       0.779533   \n",
       "23  1.200339  0.795920       0.969689   1.157754       0.807349   \n",
       "24  1.185398  0.804702       0.970749   1.225757       0.776271   \n",
       "25  1.173573  0.810942       0.972237   1.164111       0.812843   \n",
       "26  1.170159  0.807039       0.971567   1.190378       0.797734   \n",
       "27  1.158641  0.814231       0.973578   1.155446       0.813874   \n",
       "28  1.164751  0.813426       0.973042   1.190976       0.814217   \n",
       "29  1.158298  0.816179       0.974517   1.187188       0.792582   \n",
       "30  1.146671  0.819257       0.975788   1.250957       0.757555   \n",
       "31  1.157634  0.819123       0.973374   1.173966       0.799451   \n",
       "32  1.123453  0.831935       0.976127   1.160048       0.798764   \n",
       "33  1.119201  0.829380       0.977736   1.202055       0.790350   \n",
       "34  1.117265  0.840116       0.977263   1.160640       0.794986   \n",
       "35  1.119864  0.834821       0.974785   1.187915       0.802198   \n",
       "36  1.098834  0.840659       0.976663   1.181143       0.798935   \n",
       "37  1.102226  0.843405       0.977065   1.158481       0.816621   \n",
       "38  1.103415  0.839107       0.977129   1.205171       0.788977   \n",
       "39  1.089512  0.846624       0.978273   1.216741       0.785543   \n",
       "40  1.088603  0.843737       0.977532   1.209857       0.786745   \n",
       "41  1.084747  0.848700       0.978138   1.174686       0.805975   \n",
       "42  1.077969  0.849977       0.977398   1.145402       0.811985   \n",
       "43  1.063781  0.857820       0.981689   1.186374       0.803571   \n",
       "44  1.058586  0.860643       0.979480   1.194610       0.810783   \n",
       "45  1.060967  0.857826       0.980418   1.189039       0.810440   \n",
       "46  1.063827  0.861179       0.979141   1.232512       0.790522   \n",
       "47  1.052863  0.860304       0.981491   1.156464       0.822802   \n",
       "48  1.046634  0.863587       0.980821   1.186497       0.810611   \n",
       "49  1.040548  0.864321       0.981958   1.195842       0.801168   \n",
       "50  1.028592  0.870900       0.982226   1.203724       0.807349   \n",
       "51  1.037800  0.866206       0.980214   1.198336       0.807177   \n",
       "52  1.037278  0.866340       0.980348   1.208371       0.798420   \n",
       "53  1.029612  0.865803       0.982430   1.191577       0.799622   \n",
       "54  1.026928  0.871289       0.980808   1.189768       0.816964   \n",
       "55  1.026520  0.877338       0.982896   1.204664       0.797562   \n",
       "56  1.027677  0.867138       0.981894   1.173505       0.801168   \n",
       "57  1.004225  0.880818       0.986052   1.194931       0.810783   \n",
       "58  1.011876  0.878813       0.980885   1.203440       0.790179   \n",
       "59  1.005468  0.880154       0.984844   1.220330       0.803228   \n",
       "\n",
       "    eval_top5_accuracy  \n",
       "0             0.928571  \n",
       "1             0.956559  \n",
       "2             0.963771  \n",
       "3             0.968750  \n",
       "4             0.966346  \n",
       "5             0.972356  \n",
       "6             0.963942  \n",
       "7             0.963942  \n",
       "8             0.967548  \n",
       "9             0.974760  \n",
       "10            0.977163  \n",
       "11            0.973558  \n",
       "12            0.975962  \n",
       "13            0.980769  \n",
       "14            0.983173  \n",
       "15            0.978365  \n",
       "16            0.979567  \n",
       "17            0.981971  \n",
       "18            0.984375  \n",
       "19            0.981971  \n",
       "20            0.980769  \n",
       "21            0.980769  \n",
       "22            0.978365  \n",
       "23            0.978365  \n",
       "24            0.975962  \n",
       "25            0.980769  \n",
       "26            0.979567  \n",
       "27            0.978365  \n",
       "28            0.981971  \n",
       "29            0.986779  \n",
       "30            0.975962  \n",
       "31            0.986779  \n",
       "32            0.983173  \n",
       "33            0.977163  \n",
       "34            0.975962  \n",
       "35            0.979567  \n",
       "36            0.978365  \n",
       "37            0.984375  \n",
       "38            0.975962  \n",
       "39            0.977163  \n",
       "40            0.975962  \n",
       "41            0.980769  \n",
       "42            0.980769  \n",
       "43            0.979567  \n",
       "44            0.977163  \n",
       "45            0.969952  \n",
       "46            0.974760  \n",
       "47            0.974760  \n",
       "48            0.971154  \n",
       "49            0.973558  \n",
       "50            0.975962  \n",
       "51            0.974760  \n",
       "52            0.974760  \n",
       "53            0.975962  \n",
       "54            0.969952  \n",
       "55            0.974760  \n",
       "56            0.979567  \n",
       "57            0.979567  \n",
       "58            0.980769  \n",
       "59            0.977163  "
      ]
     },
     "execution_count": 12,
     "metadata": {},
     "output_type": "execute_result"
    }
   ],
   "source": [
    "# Convert history dict to DataFrame\n",
    "session_history_df = pd.DataFrame(session)\n",
    "session_history_df"
   ]
  },
  {
   "cell_type": "code",
   "execution_count": 13,
   "id": "00a5eda1",
   "metadata": {},
   "outputs": [
    {
     "data": {
      "image/png": "[encoded data removed]",
      "text/plain": [
       "<Figure size 2000x800 with 2 Axes>"
      ]
     },
     "metadata": {},
     "output_type": "display_data"
    }
   ],
   "source": [
    "from acc_loss_plot import plot_training_curves\n",
    "# Plot EfficientNet session training history \n",
    "plot_training_curves(session)"
   ]
  }
 ],
 "metadata": {
  "kernelspec": {
   "display_name": ".venv",
   "language": "python",
   "name": "python3"
  },
  "language_info": {
   "codemirror_mode": {
    "name": "ipython",
    "version": 3
   },
   "file_extension": ".py",
   "mimetype": "text/x-python",
   "name": "python",
   "nbconvert_exporter": "python",
   "pygments_lexer": "ipython3",
   "version": "3.10.12"
  }
 },
 "nbformat": 4,
 "nbformat_minor": 5
}
