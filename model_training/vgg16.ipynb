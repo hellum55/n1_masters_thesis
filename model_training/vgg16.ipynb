{
 "cells": [
  {
   "cell_type": "code",
   "execution_count": 1,
   "id": "444c4488",
   "metadata": {},
   "outputs": [
    {
     "name": "stdout",
     "output_type": "stream",
     "text": [
      "/Users/christianhellum/cand_merc/n1_masters_thesis/model_training\n",
      "/Users/christianhellum/cand_merc/n1_masters_thesis\n"
     ]
    }
   ],
   "source": [
    "import os\n",
    "print(os.getcwd())  # this is where Jupyter is looking from\n",
    "#one folder back\n",
    "os.chdir('..')\n",
    "print(os.getcwd())"
   ]
  },
  {
   "cell_type": "code",
   "execution_count": 13,
   "id": "e4677025",
   "metadata": {},
   "outputs": [],
   "source": [
    "import pandas as pd\n",
    "import numpy as np\n",
    "from load_data import load_dataset, ImageDataset\n",
    "\n",
    "from split import get_dataloaders\n",
    "from custom_data_aug import get_transforms\n",
    "\n",
    "import torch\n",
    "import torch.nn as nn\n",
    "import torchvision\n",
    "from config import CFG\n",
    "\n",
    "from torchinfo import summary\n",
    "\n",
    "from torch.utils.tensorboard import SummaryWriter\n",
    "from training import train  # or wherever your updated function lives\n",
    "\n",
    "from acc_loss_plot import plot_training_curves\n",
    "\n",
    "from torchvision.models import VGG16_Weights"
   ]
  },
  {
   "cell_type": "code",
   "execution_count": 3,
   "id": "c5d7b3e3",
   "metadata": {},
   "outputs": [],
   "source": [
    "# Load the dataframe\n",
    "csv_path = \"C:/Users/Christian/Desktop/N1_data/filtered_df.csv\"\n",
    "image_dir = \"C:/Users/Christian/Desktop/N1_data/image_data/\"\n",
    "df, idx_to_label = load_dataset(csv_path, image_dir)"
   ]
  },
  {
   "cell_type": "code",
   "execution_count": 4,
   "id": "b35f7105",
   "metadata": {},
   "outputs": [
    {
     "name": "stdout",
     "output_type": "stream",
     "text": [
      "                                           file_name label  label_idx\n",
      "0  C:/Users/Christian/Desktop/N1_data/image_data/...    BC          0\n",
      "1  C:/Users/Christian/Desktop/N1_data/image_data/...    BC          0\n",
      "2  C:/Users/Christian/Desktop/N1_data/image_data/...    BC          0\n",
      "3  C:/Users/Christian/Desktop/N1_data/image_data/...    BC          0\n",
      "4  C:/Users/Christian/Desktop/N1_data/image_data/...    BC          0\n"
     ]
    }
   ],
   "source": [
    "print(df.head())"
   ]
  },
  {
   "cell_type": "code",
   "execution_count": 5,
   "id": "a82b6514",
   "metadata": {},
   "outputs": [],
   "source": [
    "train_transforms, val_transforms = get_transforms()\n",
    "\n",
    "train_dataset, val_dataset, train_loader, val_loader = get_dataloaders(\n",
    "    df, train_transforms, val_transforms\n",
    ")"
   ]
  },
  {
   "cell_type": "code",
   "execution_count": null,
   "id": "a48d7949",
   "metadata": {},
   "outputs": [],
   "source": [
    "def build_model(device: torch.device, num_classes: int = CFG.NUM_CLASSES) -> nn.Module:\n",
    "    # Set seeds\n",
    "    torch.manual_seed(CFG.SEED)\n",
    "    torch.cuda.manual_seed(CFG.SEED)\n",
    "    \n",
    "    model = torchvision.models.vgg16(weights=torchvision.models.VGG16_Weights.DEFAULT).to(device)\n",
    "\n",
    "    for param in model.features.parameters():\n",
    "        param.requires_grad = False\n",
    "\n",
    "    for layer in list(model.features.children())[-4:]:\n",
    "        for param in layer.parameters():\n",
    "            param.requires_grad = True\n",
    "\n",
    "    model.avgpool = nn.AdaptiveAvgPool2d((1, 1))\n",
    "\n",
    "    model.classifier = nn.Sequential(\n",
    "        nn.Flatten(),\n",
    "        nn.Linear(512, 128),\n",
    "        nn.ReLU(inplace=True),\n",
    "        nn.Dropout(0.5),\n",
    "        nn.Linear(128, num_classes)\n",
    "    ).to(device)\n",
    "\n",
    "    return model"
   ]
  },
  {
   "cell_type": "code",
   "execution_count": 25,
   "id": "599fea3e",
   "metadata": {},
   "outputs": [
    {
     "data": {
      "text/plain": [
       "========================================================================================================================\n",
       "Layer (type (var_name))                  Input Shape          Output Shape         Param #              Trainable\n",
       "========================================================================================================================\n",
       "VGG (VGG)                                [64, 3, 224, 224]    [64, 34]             --                   Partial\n",
       "├─Sequential (features)                  [64, 3, 224, 224]    [64, 512, 7, 7]      --                   Partial\n",
       "│    └─Conv2d (0)                        [64, 3, 224, 224]    [64, 64, 224, 224]   (1,792)              False\n",
       "│    └─ReLU (1)                          [64, 64, 224, 224]   [64, 64, 224, 224]   --                   --\n",
       "│    └─Conv2d (2)                        [64, 64, 224, 224]   [64, 64, 224, 224]   (36,928)             False\n",
       "│    └─ReLU (3)                          [64, 64, 224, 224]   [64, 64, 224, 224]   --                   --\n",
       "│    └─MaxPool2d (4)                     [64, 64, 224, 224]   [64, 64, 112, 112]   --                   --\n",
       "│    └─Conv2d (5)                        [64, 64, 112, 112]   [64, 128, 112, 112]  (73,856)             False\n",
       "│    └─ReLU (6)                          [64, 128, 112, 112]  [64, 128, 112, 112]  --                   --\n",
       "│    └─Conv2d (7)                        [64, 128, 112, 112]  [64, 128, 112, 112]  (147,584)            False\n",
       "│    └─ReLU (8)                          [64, 128, 112, 112]  [64, 128, 112, 112]  --                   --\n",
       "│    └─MaxPool2d (9)                     [64, 128, 112, 112]  [64, 128, 56, 56]    --                   --\n",
       "│    └─Conv2d (10)                       [64, 128, 56, 56]    [64, 256, 56, 56]    (295,168)            False\n",
       "│    └─ReLU (11)                         [64, 256, 56, 56]    [64, 256, 56, 56]    --                   --\n",
       "│    └─Conv2d (12)                       [64, 256, 56, 56]    [64, 256, 56, 56]    (590,080)            False\n",
       "│    └─ReLU (13)                         [64, 256, 56, 56]    [64, 256, 56, 56]    --                   --\n",
       "│    └─Conv2d (14)                       [64, 256, 56, 56]    [64, 256, 56, 56]    (590,080)            False\n",
       "│    └─ReLU (15)                         [64, 256, 56, 56]    [64, 256, 56, 56]    --                   --\n",
       "│    └─MaxPool2d (16)                    [64, 256, 56, 56]    [64, 256, 28, 28]    --                   --\n",
       "│    └─Conv2d (17)                       [64, 256, 28, 28]    [64, 512, 28, 28]    (1,180,160)          False\n",
       "│    └─ReLU (18)                         [64, 512, 28, 28]    [64, 512, 28, 28]    --                   --\n",
       "│    └─Conv2d (19)                       [64, 512, 28, 28]    [64, 512, 28, 28]    (2,359,808)          False\n",
       "│    └─ReLU (20)                         [64, 512, 28, 28]    [64, 512, 28, 28]    --                   --\n",
       "│    └─Conv2d (21)                       [64, 512, 28, 28]    [64, 512, 28, 28]    (2,359,808)          False\n",
       "│    └─ReLU (22)                         [64, 512, 28, 28]    [64, 512, 28, 28]    --                   --\n",
       "│    └─MaxPool2d (23)                    [64, 512, 28, 28]    [64, 512, 14, 14]    --                   --\n",
       "│    └─Conv2d (24)                       [64, 512, 14, 14]    [64, 512, 14, 14]    (2,359,808)          False\n",
       "│    └─ReLU (25)                         [64, 512, 14, 14]    [64, 512, 14, 14]    --                   --\n",
       "│    └─Conv2d (26)                       [64, 512, 14, 14]    [64, 512, 14, 14]    (2,359,808)          False\n",
       "│    └─ReLU (27)                         [64, 512, 14, 14]    [64, 512, 14, 14]    --                   --\n",
       "│    └─Conv2d (28)                       [64, 512, 14, 14]    [64, 512, 14, 14]    2,359,808            True\n",
       "│    └─ReLU (29)                         [64, 512, 14, 14]    [64, 512, 14, 14]    --                   --\n",
       "│    └─MaxPool2d (30)                    [64, 512, 14, 14]    [64, 512, 7, 7]      --                   --\n",
       "├─AdaptiveAvgPool2d (avgpool)            [64, 512, 7, 7]      [64, 512, 1, 1]      --                   --\n",
       "├─Sequential (classifier)                [64, 512]            [64, 34]             --                   True\n",
       "│    └─Flatten (0)                       [64, 512]            [64, 512]            --                   --\n",
       "│    └─Linear (1)                        [64, 512]            [64, 128]            65,664               True\n",
       "│    └─ReLU (2)                          [64, 128]            [64, 128]            --                   --\n",
       "│    └─Dropout (3)                       [64, 128]            [64, 128]            --                   --\n",
       "│    └─Linear (4)                        [64, 128]            [64, 34]             4,386                True\n",
       "========================================================================================================================\n",
       "Total params: 14,784,738\n",
       "Trainable params: 2,429,858\n",
       "Non-trainable params: 12,354,880\n",
       "Total mult-adds (Units.GIGABYTES): 983.06\n",
       "========================================================================================================================\n",
       "Input size (MB): 38.54\n",
       "Forward/backward pass size (MB): 6936.41\n",
       "Params size (MB): 59.14\n",
       "Estimated Total Size (MB): 7034.09\n",
       "========================================================================================================================"
      ]
     },
     "execution_count": 25,
     "metadata": {},
     "output_type": "execute_result"
    }
   ],
   "source": [
    "cnn = build_model(device=CFG.DEVICE)\n",
    "\n",
    "# View model summary\n",
    "summary(\n",
    "    model=cnn, \n",
    "    input_size=(CFG.BATCH_SIZE, CFG.CHANNELS, CFG.WIDTH, CFG.HEIGHT),\n",
    "    col_names=[\"input_size\", \"output_size\", \"num_params\", \"trainable\"],\n",
    "    col_width=20,\n",
    "    row_settings=[\"var_names\"]\n",
    ")"
   ]
  },
  {
   "cell_type": "code",
   "execution_count": 12,
   "id": "d148b8e6",
   "metadata": {},
   "outputs": [
    {
     "name": "stdout",
     "output_type": "stream",
     "text": [
      "VGG16_Weights.IMAGENET1K_V1\n",
      "[VGG16_Weights.IMAGENET1K_V1, VGG16_Weights.IMAGENET1K_FEATURES]\n"
     ]
    }
   ],
   "source": [
    "from torchvision.models import VGG16_Weights\n",
    "print(VGG16_Weights.DEFAULT)\n",
    "print(list(VGG16_Weights))\n"
   ]
  },
  {
   "cell_type": "code",
   "execution_count": 8,
   "id": "0e015d81",
   "metadata": {},
   "outputs": [],
   "source": [
    "# Define Loss Function\n",
    "loss_fn = nn.CrossEntropyLoss(\n",
    "    label_smoothing=0.1\n",
    ")\n",
    "\n",
    "# Define Optimizer\n",
    "optimizer = torch.optim.Adam(\n",
    "    cnn.parameters(),\n",
    "    lr=CFG.LR\n",
    ")"
   ]
  },
  {
   "cell_type": "code",
   "execution_count": 9,
   "id": "a08a866c",
   "metadata": {},
   "outputs": [
    {
     "name": "stdout",
     "output_type": "stream",
     "text": [
      "\n",
      "Epoch 1/10\n"
     ]
    },
    {
     "data": {
      "application/vnd.jupyter.widget-view+json": {
       "model_id": "4bcc767b225d4ba590f811715f8a53b7",
       "version_major": 2,
       "version_minor": 0
      },
      "text/plain": [
       "  0%|          | 0/117 [00:00<?, ?it/s]"
      ]
     },
     "metadata": {},
     "output_type": "display_data"
    },
    {
     "ename": "",
     "evalue": "",
     "output_type": "error",
     "traceback": [
      "\u001b[1;31mThe Kernel crashed while executing code in the current cell or a previous cell. \n",
      "\u001b[1;31mPlease review the code in the cell(s) to identify a possible cause of the failure. \n",
      "\u001b[1;31mClick <a href='https://aka.ms/vscodeJupyterKernelCrash'>here</a> for more info. \n",
      "\u001b[1;31mView Jupyter <a href='command:jupyter.viewOutput'>log</a> for further details."
     ]
    }
   ],
   "source": [
    "writer = SummaryWriter(log_dir=\"runs/exp1_efficientnet\")\n",
    "\n",
    "session = train(\n",
    "    model=cnn,\n",
    "    train_dataloader=train_loader,\n",
    "    eval_dataloader=val_loader,\n",
    "    optimizer=optimizer,\n",
    "    loss_fn=loss_fn,\n",
    "    epochs=CFG.EPOCHS,\n",
    "    device=CFG.DEVICE,\n",
    "    writer=writer\n",
    ")\n",
    "\n",
    "writer.close()"
   ]
  },
  {
   "cell_type": "code",
   "execution_count": null,
   "id": "b6ee8121",
   "metadata": {},
   "outputs": [],
   "source": [
    "# Convert history dict to DataFrame\n",
    "session_history_df = pd.DataFrame(session_history)\n",
    "session_history_df"
   ]
  },
  {
   "cell_type": "code",
   "execution_count": null,
   "id": "00a5eda1",
   "metadata": {},
   "outputs": [],
   "source": [
    "from acc_loss_plot import plot_training_curves\n",
    "# Plot EfficientNet session training history \n",
    "plot_training_curves(session_history)"
   ]
  }
 ],
 "metadata": {
  "kernelspec": {
   "display_name": ".venv",
   "language": "python",
   "name": "python3"
  },
  "language_info": {
   "codemirror_mode": {
    "name": "ipython",
    "version": 3
   },
   "file_extension": ".py",
   "mimetype": "text/x-python",
   "name": "python",
   "nbconvert_exporter": "python",
   "pygments_lexer": "ipython3",
   "version": "3.11.2"
  }
 },
 "nbformat": 4,
 "nbformat_minor": 5
}
