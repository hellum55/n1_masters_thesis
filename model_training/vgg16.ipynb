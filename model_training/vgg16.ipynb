{
 "cells": [
  {
   "cell_type": "code",
   "execution_count": 1,
   "id": "444c4488",
   "metadata": {},
   "outputs": [
    {
     "name": "stdout",
     "output_type": "stream",
     "text": [
      "/root/n1_masters_thesis/model_training\n",
      "/root/n1_masters_thesis\n"
     ]
    }
   ],
   "source": [
    "import os\n",
    "print(os.getcwd())  # this is where Jupyter is looking from\n",
    "#one folder back\n",
    "os.chdir('..')\n",
    "print(os.getcwd())"
   ]
  },
  {
   "cell_type": "code",
   "execution_count": 2,
   "id": "e4677025",
   "metadata": {},
   "outputs": [],
   "source": [
    "import pandas as pd\n",
    "import numpy as np\n",
    "from load_data import load_dataset, ImageDataset\n",
    "\n",
    "from split import get_dataloaders\n",
    "from custom_data_aug import get_transforms\n",
    "from auto_aug import get_autoaugment_transforms\n",
    "\n",
    "import torch\n",
    "import torch.nn as nn\n",
    "import torchvision\n",
    "from config import CFG\n",
    "\n",
    "from torchinfo import summary\n",
    "\n",
    "from torch.utils.tensorboard import SummaryWriter\n",
    "from training import train  # or wherever your updated function lives\n",
    "\n",
    "from acc_loss_plot import plot_training_curves\n",
    "\n",
    "from torchvision.models import VGG16_Weights"
   ]
  },
  {
   "cell_type": "code",
   "execution_count": 3,
   "id": "c5d7b3e3",
   "metadata": {},
   "outputs": [],
   "source": [
    "# Load the dataframe\n",
    "csv_path = \"/root/n1_masters_thesis/filtered_df.csv\"\n",
    "image_dir = \"/root/n1_masters_thesis/image_data/image_data\"\n",
    "df, idx_to_label = load_dataset(csv_path, image_dir)"
   ]
  },
  {
   "cell_type": "code",
   "execution_count": 4,
   "id": "b35f7105",
   "metadata": {},
   "outputs": [
    {
     "name": "stdout",
     "output_type": "stream",
     "text": [
      "                                           file_name label  label_idx\n",
      "0  C:/Users/Christian/Desktop/N1_data/image_data/...    BC          0\n",
      "1  C:/Users/Christian/Desktop/N1_data/image_data/...    BC          0\n",
      "2  C:/Users/Christian/Desktop/N1_data/image_data/...    BC          0\n",
      "3  C:/Users/Christian/Desktop/N1_data/image_data/...    BC          0\n",
      "4  C:/Users/Christian/Desktop/N1_data/image_data/...    BC          0\n"
     ]
    }
   ],
   "source": [
    "print(df.head())"
   ]
  },
  {
   "cell_type": "code",
   "execution_count": 4,
   "id": "a82b6514",
   "metadata": {},
   "outputs": [],
   "source": [
    "#train_transforms, val_transforms = get_transforms()\n",
    "\n",
    "#train_dataset, val_dataset, train_loader, val_loader = get_dataloaders(\n",
    "#    df, train_transforms, val_transforms)\n",
    "\n",
    "train_transforms, val_transforms = get_autoaugment_transforms()\n",
    "\n",
    "train_dataset, val_dataset, train_loader, val_loader = get_dataloaders(\n",
    "    df, train_transforms, val_transforms\n",
    ")"
   ]
  },
  {
   "cell_type": "code",
   "execution_count": 6,
   "id": "a48d7949",
   "metadata": {},
   "outputs": [],
   "source": [
    "def build_model(device: torch.device, num_classes: int = CFG.NUM_CLASSES) -> nn.Module:\n",
    "    # Set seeds\n",
    "    torch.manual_seed(CFG.SEED)\n",
    "    torch.cuda.manual_seed(CFG.SEED)\n",
    "    \n",
    "    model = torchvision.models.vgg16(weights=torchvision.models.VGG16_Weights.DEFAULT).to(device)\n",
    "\n",
    "    for param in model.features.parameters():\n",
    "        param.requires_grad = False\n",
    "\n",
    "    for layer in list(model.features.children())[-4:]:\n",
    "        for param in layer.parameters():\n",
    "            param.requires_grad = True\n",
    "\n",
    "    model.avgpool = nn.AdaptiveAvgPool2d((1, 1))\n",
    "\n",
    "    model.classifier = nn.Sequential(\n",
    "        nn.Flatten(),\n",
    "        nn.Linear(512, 128),\n",
    "        nn.ReLU(inplace=True),\n",
    "        nn.Dropout(0.2),\n",
    "        nn.Linear(128, num_classes)\n",
    "    ).to(device)\n",
    "\n",
    "    return model"
   ]
  },
  {
   "cell_type": "code",
   "execution_count": 7,
   "id": "599fea3e",
   "metadata": {},
   "outputs": [
    {
     "data": {
      "text/plain": [
       "========================================================================================================================\n",
       "Layer (type (var_name))                  Input Shape          Output Shape         Param #              Trainable\n",
       "========================================================================================================================\n",
       "VGG (VGG)                                [16, 3, 224, 224]    [16, 34]             --                   Partial\n",
       "├─Sequential (features)                  [16, 3, 224, 224]    [16, 512, 7, 7]      --                   Partial\n",
       "│    └─Conv2d (0)                        [16, 3, 224, 224]    [16, 64, 224, 224]   (1,792)              False\n",
       "│    └─ReLU (1)                          [16, 64, 224, 224]   [16, 64, 224, 224]   --                   --\n",
       "│    └─Conv2d (2)                        [16, 64, 224, 224]   [16, 64, 224, 224]   (36,928)             False\n",
       "│    └─ReLU (3)                          [16, 64, 224, 224]   [16, 64, 224, 224]   --                   --\n",
       "│    └─MaxPool2d (4)                     [16, 64, 224, 224]   [16, 64, 112, 112]   --                   --\n",
       "│    └─Conv2d (5)                        [16, 64, 112, 112]   [16, 128, 112, 112]  (73,856)             False\n",
       "│    └─ReLU (6)                          [16, 128, 112, 112]  [16, 128, 112, 112]  --                   --\n",
       "│    └─Conv2d (7)                        [16, 128, 112, 112]  [16, 128, 112, 112]  (147,584)            False\n",
       "│    └─ReLU (8)                          [16, 128, 112, 112]  [16, 128, 112, 112]  --                   --\n",
       "│    └─MaxPool2d (9)                     [16, 128, 112, 112]  [16, 128, 56, 56]    --                   --\n",
       "│    └─Conv2d (10)                       [16, 128, 56, 56]    [16, 256, 56, 56]    (295,168)            False\n",
       "│    └─ReLU (11)                         [16, 256, 56, 56]    [16, 256, 56, 56]    --                   --\n",
       "│    └─Conv2d (12)                       [16, 256, 56, 56]    [16, 256, 56, 56]    (590,080)            False\n",
       "│    └─ReLU (13)                         [16, 256, 56, 56]    [16, 256, 56, 56]    --                   --\n",
       "│    └─Conv2d (14)                       [16, 256, 56, 56]    [16, 256, 56, 56]    (590,080)            False\n",
       "│    └─ReLU (15)                         [16, 256, 56, 56]    [16, 256, 56, 56]    --                   --\n",
       "│    └─MaxPool2d (16)                    [16, 256, 56, 56]    [16, 256, 28, 28]    --                   --\n",
       "│    └─Conv2d (17)                       [16, 256, 28, 28]    [16, 512, 28, 28]    (1,180,160)          False\n",
       "│    └─ReLU (18)                         [16, 512, 28, 28]    [16, 512, 28, 28]    --                   --\n",
       "│    └─Conv2d (19)                       [16, 512, 28, 28]    [16, 512, 28, 28]    (2,359,808)          False\n",
       "│    └─ReLU (20)                         [16, 512, 28, 28]    [16, 512, 28, 28]    --                   --\n",
       "│    └─Conv2d (21)                       [16, 512, 28, 28]    [16, 512, 28, 28]    (2,359,808)          False\n",
       "│    └─ReLU (22)                         [16, 512, 28, 28]    [16, 512, 28, 28]    --                   --\n",
       "│    └─MaxPool2d (23)                    [16, 512, 28, 28]    [16, 512, 14, 14]    --                   --\n",
       "│    └─Conv2d (24)                       [16, 512, 14, 14]    [16, 512, 14, 14]    (2,359,808)          False\n",
       "│    └─ReLU (25)                         [16, 512, 14, 14]    [16, 512, 14, 14]    --                   --\n",
       "│    └─Conv2d (26)                       [16, 512, 14, 14]    [16, 512, 14, 14]    (2,359,808)          False\n",
       "│    └─ReLU (27)                         [16, 512, 14, 14]    [16, 512, 14, 14]    --                   --\n",
       "│    └─Conv2d (28)                       [16, 512, 14, 14]    [16, 512, 14, 14]    2,359,808            True\n",
       "│    └─ReLU (29)                         [16, 512, 14, 14]    [16, 512, 14, 14]    --                   --\n",
       "│    └─MaxPool2d (30)                    [16, 512, 14, 14]    [16, 512, 7, 7]      --                   --\n",
       "├─AdaptiveAvgPool2d (avgpool)            [16, 512, 7, 7]      [16, 512, 1, 1]      --                   --\n",
       "├─Sequential (classifier)                [16, 512]            [16, 34]             --                   True\n",
       "│    └─Flatten (0)                       [16, 512]            [16, 512]            --                   --\n",
       "│    └─Linear (1)                        [16, 512]            [16, 128]            65,664               True\n",
       "│    └─ReLU (2)                          [16, 128]            [16, 128]            --                   --\n",
       "│    └─Dropout (3)                       [16, 128]            [16, 128]            --                   --\n",
       "│    └─Linear (4)                        [16, 128]            [16, 34]             4,386                True\n",
       "========================================================================================================================\n",
       "Total params: 14,784,738\n",
       "Trainable params: 2,429,858\n",
       "Non-trainable params: 12,354,880\n",
       "Total mult-adds (G): 245.76\n",
       "========================================================================================================================\n",
       "Input size (MB): 9.63\n",
       "Forward/backward pass size (MB): 1734.10\n",
       "Params size (MB): 59.14\n",
       "Estimated Total Size (MB): 1802.88\n",
       "========================================================================================================================"
      ]
     },
     "execution_count": 7,
     "metadata": {},
     "output_type": "execute_result"
    }
   ],
   "source": [
    "cnn = build_model(device=CFG.DEVICE)\n",
    "\n",
    "# View model summary\n",
    "summary(\n",
    "    model=cnn, \n",
    "    input_size=(CFG.BATCH_SIZE, CFG.CHANNELS, CFG.WIDTH, CFG.HEIGHT),\n",
    "    col_names=[\"input_size\", \"output_size\", \"num_params\", \"trainable\"],\n",
    "    col_width=20,\n",
    "    row_settings=[\"var_names\"]\n",
    ")"
   ]
  },
  {
   "cell_type": "code",
   "execution_count": 8,
   "id": "0e015d81",
   "metadata": {},
   "outputs": [],
   "source": [
    "# Define Loss Function\n",
    "loss_fn = nn.CrossEntropyLoss(\n",
    "    label_smoothing=0.1\n",
    ")\n",
    "\n",
    "# Define Optimizer\n",
    "optimizer = torch.optim.Adam(\n",
    "    cnn.parameters(),\n",
    "    lr=CFG.LR\n",
    ")"
   ]
  },
  {
   "cell_type": "code",
   "execution_count": null,
   "id": "a08a866c",
   "metadata": {},
   "outputs": [
    {
     "name": "stdout",
     "output_type": "stream",
     "text": [
      "\n",
      "Epoch 1/30\n"
     ]
    },
    {
     "data": {
      "application/vnd.jupyter.widget-view+json": {
       "model_id": "1dc43086b4ef435daf72b57952b86f99",
       "version_major": 2,
       "version_minor": 0
      },
      "text/plain": [
       "  0%|          | 0/466 [00:00<?, ?it/s]"
      ]
     },
     "metadata": {},
     "output_type": "display_data"
    },
    {
     "name": "stdout",
     "output_type": "stream",
     "text": [
      "loss: 2.4849 - top1: 0.3174 - top5: 0.7276 - eval_loss: 1.8994 - eval_top1: 0.5180 - eval_top5: 0.9006\n",
      "\n",
      "Epoch 2/30\n"
     ]
    },
    {
     "data": {
      "application/vnd.jupyter.widget-view+json": {
       "model_id": "bfb2f97c5f8d41d08b6314901110cb8d",
       "version_major": 2,
       "version_minor": 0
      },
      "text/plain": [
       "  0%|          | 0/466 [00:00<?, ?it/s]"
      ]
     },
     "metadata": {},
     "output_type": "display_data"
    },
    {
     "name": "stdout",
     "output_type": "stream",
     "text": [
      "loss: 1.9283 - top1: 0.5081 - top5: 0.9026 - eval_loss: 1.6940 - eval_top1: 0.5817 - eval_top5: 0.9399\n",
      "\n",
      "Epoch 3/30\n"
     ]
    },
    {
     "data": {
      "application/vnd.jupyter.widget-view+json": {
       "model_id": "1b9adc68f2e340b09f84270c66273aa0",
       "version_major": 2,
       "version_minor": 0
      },
      "text/plain": [
       "  0%|          | 0/466 [00:00<?, ?it/s]"
      ]
     },
     "metadata": {},
     "output_type": "display_data"
    },
    {
     "name": "stdout",
     "output_type": "stream",
     "text": [
      "loss: 1.7590 - top1: 0.5773 - top5: 0.9297 - eval_loss: 1.6042 - eval_top1: 0.6394 - eval_top5: 0.9471\n",
      "\n",
      "Epoch 4/30\n"
     ]
    },
    {
     "data": {
      "application/vnd.jupyter.widget-view+json": {
       "model_id": "6f76e351cf17480b8bc7ecdbe27d62e7",
       "version_major": 2,
       "version_minor": 0
      },
      "text/plain": [
       "  0%|          | 0/466 [00:00<?, ?it/s]"
      ]
     },
     "metadata": {},
     "output_type": "display_data"
    },
    {
     "name": "stdout",
     "output_type": "stream",
     "text": [
      "loss: 1.6522 - top1: 0.6200 - top5: 0.9442 - eval_loss: 1.5520 - eval_top1: 0.6611 - eval_top5: 0.9483\n",
      "\n",
      "Epoch 5/30\n"
     ]
    },
    {
     "data": {
      "application/vnd.jupyter.widget-view+json": {
       "model_id": "335d74dd11204d738ffbec7a322c19e3",
       "version_major": 2,
       "version_minor": 0
      },
      "text/plain": [
       "  0%|          | 0/466 [00:00<?, ?it/s]"
      ]
     },
     "metadata": {},
     "output_type": "display_data"
    },
    {
     "name": "stdout",
     "output_type": "stream",
     "text": [
      "loss: 1.5635 - top1: 0.6594 - top5: 0.9519 - eval_loss: 1.5214 - eval_top1: 0.6891 - eval_top5: 0.9519\n",
      "\n",
      "Epoch 6/30\n"
     ]
    },
    {
     "data": {
      "application/vnd.jupyter.widget-view+json": {
       "model_id": "9fd8bdaae81d49ec8f54a91ebc0c6078",
       "version_major": 2,
       "version_minor": 0
      },
      "text/plain": [
       "  0%|          | 0/466 [00:00<?, ?it/s]"
      ]
     },
     "metadata": {},
     "output_type": "display_data"
    },
    {
     "name": "stdout",
     "output_type": "stream",
     "text": [
      "loss: 1.4987 - top1: 0.6946 - top5: 0.9591 - eval_loss: 1.4859 - eval_top1: 0.6863 - eval_top5: 0.9555\n",
      "\n",
      "Epoch 7/30\n"
     ]
    },
    {
     "data": {
      "application/vnd.jupyter.widget-view+json": {
       "model_id": "1d4c7ad0eb2b4fa6989a3c23fd76c2db",
       "version_major": 2,
       "version_minor": 0
      },
      "text/plain": [
       "  0%|          | 0/466 [00:00<?, ?it/s]"
      ]
     },
     "metadata": {},
     "output_type": "display_data"
    },
    {
     "name": "stdout",
     "output_type": "stream",
     "text": [
      "loss: 1.4464 - top1: 0.7156 - top5: 0.9655 - eval_loss: 1.4325 - eval_top1: 0.6987 - eval_top5: 0.9639\n",
      "\n",
      "Epoch 8/30\n"
     ]
    },
    {
     "data": {
      "application/vnd.jupyter.widget-view+json": {
       "model_id": "d356340f7d5844d9b0d4f520dfff8e68",
       "version_major": 2,
       "version_minor": 0
      },
      "text/plain": [
       "  0%|          | 0/466 [00:00<?, ?it/s]"
      ]
     },
     "metadata": {},
     "output_type": "display_data"
    },
    {
     "name": "stdout",
     "output_type": "stream",
     "text": [
      "loss: 1.3938 - top1: 0.7411 - top5: 0.9706 - eval_loss: 1.4452 - eval_top1: 0.7071 - eval_top5: 0.9663\n",
      "\n",
      "Epoch 9/30\n"
     ]
    },
    {
     "data": {
      "application/vnd.jupyter.widget-view+json": {
       "model_id": "3e74d93463724030a03a3d663491d3a0",
       "version_major": 2,
       "version_minor": 0
      },
      "text/plain": [
       "  0%|          | 0/466 [00:00<?, ?it/s]"
      ]
     },
     "metadata": {},
     "output_type": "display_data"
    },
    {
     "name": "stdout",
     "output_type": "stream",
     "text": [
      "loss: 1.3443 - top1: 0.7641 - top5: 0.9728 - eval_loss: 1.4727 - eval_top1: 0.6831 - eval_top5: 0.9555\n",
      "\n",
      "Epoch 10/30\n"
     ]
    },
    {
     "data": {
      "application/vnd.jupyter.widget-view+json": {
       "model_id": "15fcc5d8c6d4483cbda8e981753e967d",
       "version_major": 2,
       "version_minor": 0
      },
      "text/plain": [
       "  0%|          | 0/466 [00:00<?, ?it/s]"
      ]
     },
     "metadata": {},
     "output_type": "display_data"
    }
   ],
   "source": [
    "writer = SummaryWriter(log_dir=\"runs/exp1_efficientnet\")\n",
    "\n",
    "session = train(\n",
    "    model=cnn,\n",
    "    train_dataloader=train_loader,\n",
    "    eval_dataloader=val_loader,\n",
    "    optimizer=optimizer,\n",
    "    loss_fn=loss_fn,\n",
    "    epochs=CFG.EPOCHS,\n",
    "    device=CFG.DEVICE,\n",
    "    writer=writer\n",
    ")\n",
    "\n",
    "writer.close()"
   ]
  },
  {
   "cell_type": "code",
   "execution_count": null,
   "id": "b6ee8121",
   "metadata": {},
   "outputs": [],
   "source": [
    "# Convert history dict to DataFrame\n",
    "session_history_df = pd.DataFrame(session)\n",
    "session_history_df"
   ]
  },
  {
   "cell_type": "code",
   "execution_count": null,
   "id": "00a5eda1",
   "metadata": {},
   "outputs": [],
   "source": [
    "from acc_loss_plot import plot_training_curves\n",
    "# Plot EfficientNet session training history \n",
    "plot_training_curves(session)"
   ]
  }
 ],
 "metadata": {
  "kernelspec": {
   "display_name": ".venv",
   "language": "python",
   "name": "python3"
  },
  "language_info": {
   "codemirror_mode": {
    "name": "ipython",
    "version": 3
   },
   "file_extension": ".py",
   "mimetype": "text/x-python",
   "name": "python",
   "nbconvert_exporter": "python",
   "pygments_lexer": "ipython3",
   "version": "3.10.12"
  }
 },
 "nbformat": 4,
 "nbformat_minor": 5
}
