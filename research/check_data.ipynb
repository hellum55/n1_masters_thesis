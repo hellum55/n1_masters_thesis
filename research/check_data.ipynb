{
 "cells": [
  {
   "cell_type": "code",
   "execution_count": 1,
   "id": "b62cbd7d",
   "metadata": {},
   "outputs": [],
   "source": [
    "import pandas as pd\n",
    "# Load the dataframe\n",
    "csv_path = \"/root/n1_masters_thesis/clean_data.csv\"\n",
    "df = pd.read_csv(csv_path)"
   ]
  },
  {
   "cell_type": "code",
   "execution_count": 2,
   "id": "965616c7",
   "metadata": {},
   "outputs": [],
   "source": [
    "df['label'] = df['label'].replace(['PK35', 'PK48'], 'PK')\n",
    "df['label'] = df['label'].replace(['Kabeldon KSIP463', 'Kabeldon KSIP483'], 'Kabeldon KSIP463/KSIP483')\n",
    "df['label'] = df['label'].replace(['Kabeldon CDC440', 'Kabeldon CDC460', 'Kabeldon CDC420'], 'Kabeldon CDC440/460/420')\n",
    "df['label'] = df['label'].replace(['KSE36', 'KSE45'], 'KSE36/45')"
   ]
  },
  {
   "cell_type": "code",
   "execution_count": 5,
   "id": "3a323bab",
   "metadata": {},
   "outputs": [
    {
     "name": "stdout",
     "output_type": "stream",
     "text": [
      "['BC' 'BC K.M.skab' 'CP1' 'CP3' 'CP4' 'CP6' 'Kabeldon CDC440/460/420'\n",
      " 'Kabeldon KSIP423' 'Kabeldon KSIP433' 'Kabeldon KSIP443'\n",
      " 'Kabeldon KSIP463/KSIP483' 'Kombimodul 2M' 'Kombimodul 3M'\n",
      " 'Kombimodul 4M' 'KSE09' 'KSE12' 'KSE15' 'KSE18' 'KSE21' 'KSE27'\n",
      " 'KSE36/45' 'MEL1' 'MEL2' 'MEL3' 'MEL4' 'NU' 'PK20' 'PK' 'SC']\n"
     ]
    }
   ],
   "source": [
    "#count unique values in the 'label' column\n",
    "unique_labels = df['label'].unique()\n",
    "print(unique_labels)"
   ]
  },
  {
   "cell_type": "code",
   "execution_count": 3,
   "id": "12e62c70",
   "metadata": {},
   "outputs": [],
   "source": [
    "#save csv to new file\n",
    "df.to_csv('/root/n1_masters_thesis/clean_data1.csv', index=False)"
   ]
  }
 ],
 "metadata": {
  "kernelspec": {
   "display_name": ".venv",
   "language": "python",
   "name": "python3"
  },
  "language_info": {
   "codemirror_mode": {
    "name": "ipython",
    "version": 3
   },
   "file_extension": ".py",
   "mimetype": "text/x-python",
   "name": "python",
   "nbconvert_exporter": "python",
   "pygments_lexer": "ipython3",
   "version": "3.10.12"
  }
 },
 "nbformat": 4,
 "nbformat_minor": 5
}
