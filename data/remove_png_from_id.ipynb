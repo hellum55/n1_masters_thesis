{
 "cells": [
  {
   "cell_type": "code",
   "execution_count": null,
   "id": "6e8dbb22",
   "metadata": {},
   "outputs": [],
   "source": [
    "import pandas as pd\n",
    "def remove_png_extension(csv_path, output_path=None, column_name=\"ImageName\"):\n",
    "    \"\"\"\n",
    "    Removes the '.png' extension from the specified column in a CSV file.\n",
    "\n",
    "    Args:\n",
    "        csv_path: Path to the input CSV file.\n",
    "        output_path: Path to save the cleaned CSV. If None, overwrites original.\n",
    "        column_name: The name of the column to clean.\n",
    "    \"\"\"\n",
    "    df = pd.read_csv(csv_path)\n",
    "\n",
    "    # Remove .png from the column\n",
    "    df[column_name] = df[column_name].astype(str).str.replace(\".png\", \"\", regex=False)\n",
    "\n",
    "    # Save to original or new path\n",
    "    output_path = output_path or csv_path\n",
    "    df.to_csv(output_path, index=False)\n",
    "\n",
    "    print(f\"✅ Cleaned '.png' from '{column_name}' and saved to: {output_path}\")"
   ]
  },
  {
   "cell_type": "code",
   "execution_count": null,
   "id": "51e2f2b4",
   "metadata": {},
   "outputs": [],
   "source": [
    "# Example usage\n",
    "if __name__ == \"__main__\":\n",
    "    csv_path = \"C:/Users/Christian/Desktop/N1_data/sampled_dataset.csv\"\n",
    "    remove_png_extension(csv_path)"
   ]
  }
 ],
 "metadata": {
  "language_info": {
   "name": "python"
  }
 },
 "nbformat": 4,
 "nbformat_minor": 5
}
