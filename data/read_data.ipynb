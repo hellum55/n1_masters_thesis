{
 "cells": [
  {
   "cell_type": "markdown",
   "id": "e8e9ca8f",
   "metadata": {},
   "source": [
    "Keep image ids that are present in the given image folder"
   ]
  },
  {
   "cell_type": "code",
   "execution_count": null,
   "id": "ec10ed19",
   "metadata": {},
   "outputs": [],
   "source": [
    "# Paths\n",
    "csv_file = \"C:/Users/Christian/Desktop/sampled_dataset.csv\"\n",
    "source_folder = \"C:/Users/Christian/Desktop/downloadet_pictures_2\"\n",
    "destination_folder = \"C:/Users/Christian/Desktop/image_data\"\n",
    "\n",
    "# Create destination folder if it doesn't exist\n",
    "os.makedirs(destination_folder, exist_ok=True)\n",
    "\n",
    "# Read image filenames from the \"ImageName\" column\n",
    "df = pd.read_csv(csv_file)\n",
    "image_names = df[\"ImageName\"].tolist()\n",
    "\n",
    "# Copy only the desired images\n",
    "copied = 0\n",
    "for image_name in image_names:\n",
    "    source_path = os.path.join(source_folder, image_name)\n",
    "    if os.path.exists(source_path):\n",
    "        shutil.copy(source_path, destination_folder)\n",
    "        copied += 1\n",
    "    else:\n",
    "        print(f\"❌ Image not found: {image_name}\")\n",
    "\n",
    "print(f\"✅ Done. {copied} images copied to {destination_folder}\")"
   ]
  },
  {
   "cell_type": "code",
   "execution_count": null,
   "id": "573db0f8",
   "metadata": {},
   "outputs": [],
   "source": [
    "# Filter rows where the image file exists in the source folder\n",
    "df_filtered = df[df[\"ImageName\"].apply(lambda img: os.path.exists(os.path.join(source_folder, img)))]\n",
    "\n",
    "# Save the filtered DataFrame back to the CSV file\n",
    "df_filtered.to_csv(csv_file, index=False)\n",
    "\n",
    "print(f\"✅ Updated CSV file saved with {len(df_filtered)} rows.\")"
   ]
  }
 ],
 "metadata": {
  "language_info": {
   "name": "python"
  }
 },
 "nbformat": 4,
 "nbformat_minor": 5
}
