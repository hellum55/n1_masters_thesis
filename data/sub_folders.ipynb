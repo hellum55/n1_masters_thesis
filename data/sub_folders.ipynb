{
 "cells": [
  {
   "cell_type": "code",
   "execution_count": null,
   "id": "c217bbd0",
   "metadata": {},
   "outputs": [],
   "source": [
    "import os\n",
    "import shutil\n",
    "import pandas as pd"
   ]
  },
  {
   "cell_type": "markdown",
   "id": "e3710a67",
   "metadata": {},
   "source": [
    "Organize the images into different subfolders based on their labels"
   ]
  },
  {
   "cell_type": "code",
   "execution_count": null,
   "id": "012809a2",
   "metadata": {},
   "outputs": [],
   "source": [
    "import os\n",
    "import shutil\n",
    "import pandas as pd\n",
    "from tqdm import tqdm\n",
    "\n",
    "def organize_images_by_label(csv_path, image_folder, output_folder, id_column=\"file_name\", label_column=\"label\", image_extension=\".png\"):\n",
    "    \"\"\"\n",
    "    Organizes images into subfolders by label based on a CSV file.\n",
    "\n",
    "    Args:\n",
    "        csv_path: Path to the CSV file containing image IDs and labels\n",
    "        image_folder: Path to the folder with all image files\n",
    "        output_folder: Where to create subfolders and copy the images\n",
    "        id_column: Column in the CSV with image IDs (without extension)\n",
    "        label_column: Column with label names\n",
    "        image_extension: Extension of image files (e.g. '.png', '.jpg')\n",
    "    \"\"\"\n",
    "\n",
    "    # Load the CSV\n",
    "    df = pd.read_csv(csv_path)\n",
    "    df[id_column] = df[id_column].astype(str)\n",
    "\n",
    "    # Create the output folder if it doesn't exist\n",
    "    os.makedirs(output_folder, exist_ok=True)\n",
    "\n",
    "    # Iterate through the rows\n",
    "    for _, row in tqdm(df.iterrows(), total=len(df)):\n",
    "        image_id = row[id_column]\n",
    "        label = row[label_column]\n",
    "\n",
    "        src_path = os.path.join(image_folder, image_id + image_extension)\n",
    "        label_folder = os.path.join(output_folder, str(label))\n",
    "        dst_path = os.path.join(label_folder, image_id + image_extension)\n",
    "\n",
    "        # Create label folder if it doesn't exist\n",
    "        os.makedirs(label_folder, exist_ok=True)\n",
    "\n",
    "        # Copy image if it exists\n",
    "        if os.path.exists(src_path):\n",
    "            shutil.copy2(src_path, dst_path)\n",
    "        else:\n",
    "            print(f\"[⚠️] Missing image: {src_path}\")\n",
    "\n",
    "    print(f\"\\n✅ Done organizing images by label into: {output_folder}\")\n",
    "\n",
    "# Example usage\n",
    "if __name__ == \"__main__\":\n",
    "    csv_path = \"C:/Users/Christian/Desktop/N1_data/clean_data.csv\"\n",
    "    image_folder = \"C:/Users/Christian/Desktop/N1_data/image_data\"\n",
    "    output_folder = \"C:/Users/Christian/Desktop/N1_data/sorted_images\"\n",
    "\n",
    "    organize_images_by_label(csv_path, image_folder, output_folder)"
   ]
  }
 ],
 "metadata": {
  "language_info": {
   "name": "python"
  }
 },
 "nbformat": 4,
 "nbformat_minor": 5
}
