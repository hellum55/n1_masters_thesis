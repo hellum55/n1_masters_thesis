{
 "cells": [
  {
   "cell_type": "code",
   "execution_count": 76,
   "id": "a832a46f",
   "metadata": {
    "vscode": {
     "languageId": "markdown"
    }
   },
   "outputs": [
    {
     "data": {
      "text/html": [
       "<div>\n",
       "<style scoped>\n",
       "    .dataframe tbody tr th:only-of-type {\n",
       "        vertical-align: middle;\n",
       "    }\n",
       "\n",
       "    .dataframe tbody tr th {\n",
       "        vertical-align: top;\n",
       "    }\n",
       "\n",
       "    .dataframe thead th {\n",
       "        text-align: right;\n",
       "    }\n",
       "</style>\n",
       "<table border=\"1\" class=\"dataframe\">\n",
       "  <thead>\n",
       "    <tr style=\"text-align: right;\">\n",
       "      <th></th>\n",
       "      <th>file_name</th>\n",
       "      <th>label</th>\n",
       "    </tr>\n",
       "  </thead>\n",
       "  <tbody>\n",
       "    <tr>\n",
       "      <th>0</th>\n",
       "      <td>8bd9027e-6269-4a1a-b047-b0f779a08d31</td>\n",
       "      <td>BC</td>\n",
       "    </tr>\n",
       "    <tr>\n",
       "      <th>1</th>\n",
       "      <td>9bb3a046-486b-4559-8bac-df771ce3682a</td>\n",
       "      <td>BC</td>\n",
       "    </tr>\n",
       "    <tr>\n",
       "      <th>2</th>\n",
       "      <td>f1269315-1237-4058-b0c5-498bfc49859a</td>\n",
       "      <td>BC</td>\n",
       "    </tr>\n",
       "    <tr>\n",
       "      <th>3</th>\n",
       "      <td>cb0b2742-a475-4ad5-8c2c-8438c54d4091</td>\n",
       "      <td>BC</td>\n",
       "    </tr>\n",
       "    <tr>\n",
       "      <th>4</th>\n",
       "      <td>25eeb3cb-4367-499e-b639-dc801436e02e</td>\n",
       "      <td>BC</td>\n",
       "    </tr>\n",
       "  </tbody>\n",
       "</table>\n",
       "</div>"
      ],
      "text/plain": [
       "                              file_name label\n",
       "0  8bd9027e-6269-4a1a-b047-b0f779a08d31    BC\n",
       "1  9bb3a046-486b-4559-8bac-df771ce3682a    BC\n",
       "2  f1269315-1237-4058-b0c5-498bfc49859a    BC\n",
       "3  cb0b2742-a475-4ad5-8c2c-8438c54d4091    BC\n",
       "4  25eeb3cb-4367-499e-b639-dc801436e02e    BC"
      ]
     },
     "execution_count": 76,
     "metadata": {},
     "output_type": "execute_result"
    }
   ],
   "source": [
    "import pandas as pd\n",
    "\n",
    "# Replace 'your_file.csv' with the path to your CSV file\n",
    "df = pd.read_csv('../data/df_true.csv')\n",
    "\n",
    "# Display the first few rows of the dataframe\n",
    "df.head()"
   ]
  },
  {
   "cell_type": "code",
   "execution_count": 68,
   "id": "8deb219c",
   "metadata": {
    "vscode": {
     "languageId": "markdown"
    }
   },
   "outputs": [
    {
     "data": {
      "text/plain": [
       "Index(['file_name', 'label'], dtype='object')"
      ]
     },
     "execution_count": 68,
     "metadata": {},
     "output_type": "execute_result"
    }
   ],
   "source": [
    "df.columns"
   ]
  },
  {
   "cell_type": "code",
   "execution_count": 69,
   "id": "51bc3f5a",
   "metadata": {},
   "outputs": [
    {
     "data": {
      "text/plain": [
       "(8441, 2)"
      ]
     },
     "execution_count": 69,
     "metadata": {},
     "output_type": "execute_result"
    }
   ],
   "source": [
    "df.shape"
   ]
  },
  {
   "cell_type": "code",
   "execution_count": 77,
   "id": "98e5da84",
   "metadata": {},
   "outputs": [
    {
     "name": "stdout",
     "output_type": "stream",
     "text": [
      "\n",
      "Missing images: 9\n",
      "87e105e3-a850-44b8-8056-9c3b96934b0d.png\n",
      "5c9dc452-38e2-46e1-a67d-cef350df08e6.png\n",
      "2e12b1a5-c07a-4200-bb21-9da3b76120d9.png\n",
      "80e3ba53-4736-43c4-b47a-29eed74e53a7.png\n",
      "5f221aea-4f4c-4bf3-bed8-1c20e9ca9e72.png\n",
      "281a552f-edf2-4d7e-8b4e-a234914fab16.png\n",
      "0c011cd2-6490-4b9d-8a17-381c93d08549.png\n",
      "77fc3be4-e77b-4168-8fc6-8880497e6f8f.png\n",
      "0976adfb-69e3-4a90-926e-d678dbb749c7.png\n"
     ]
    }
   ],
   "source": [
    "import pandas as pd\n",
    "import os\n",
    "\n",
    "# === Paths ===\n",
    "csv_file = '../data/df_true.csv'\n",
    "image_folder = 'C:/Users/Christian/Desktop/N1_data/image_data'\n",
    "\n",
    "# === Load image names from CSV ===\n",
    "df = pd.read_csv(csv_file)\n",
    "\n",
    "# Normalize: strip, lowercase, ensure .png extension\n",
    "csv_image_names = df['file_name'].astype(str).str.strip().str.lower()\n",
    "csv_image_names = csv_image_names.apply(lambda x: x if x.endswith('.png') else f\"{x}.png\")\n",
    "\n",
    "# === Load actual image filenames from folder ===\n",
    "folder_image_names = {f.strip().lower() for f in os.listdir(image_folder)}\n",
    "\n",
    "# === Find missing images ===\n",
    "missing_images = [name for name in csv_image_names if name not in folder_image_names]\n",
    "\n",
    "# === Print results ===\n",
    "print(f\"\\nMissing images: {len(missing_images)}\")\n",
    "for img in missing_images:\n",
    "    print(img)\n",
    "\n",
    "# === Optional: Save to CSV ===\n",
    "pd.Series(missing_images).to_csv('missing_images.csv', index=False, header=False)"
   ]
  },
  {
   "cell_type": "code",
   "execution_count": 78,
   "id": "2d634fcd",
   "metadata": {},
   "outputs": [],
   "source": [
    "# List of file names to remove\n",
    "file_names_to_remove = [\n",
    "    '87e105e3-a850-44b8-8056-9c3b96934b0d',\n",
    "    '5c9dc452-38e2-46e1-a67d-cef350df08e6',\n",
    "    '2e12b1a5-c07a-4200-bb21-9da3b76120d9',\n",
    "    '80e3ba53-4736-43c4-b47a-29eed74e53a7',\n",
    "    '5f221aea-4f4c-4bf3-bed8-1c20e9ca9e72',\n",
    "    '281a552f-edf2-4d7e-8b4e-a234914fab16',\n",
    "    '0c011cd2-6490-4b9d-8a17-381c93d08549',\n",
    "    '77fc3be4-e77b-4168-8fc6-8880497e6f8f',\n",
    "    '0976adfb-69e3-4a90-926e-d678dbb749c7'\n",
    "]\n",
    "\n",
    "# Remove rows where file_name is in the list\n",
    "df = df[~df['file_name'].isin(file_names_to_remove)]"
   ]
  },
  {
   "cell_type": "code",
   "execution_count": 79,
   "id": "be6e8635",
   "metadata": {},
   "outputs": [
    {
     "data": {
      "text/plain": [
       "(8432, 2)"
      ]
     },
     "execution_count": 79,
     "metadata": {},
     "output_type": "execute_result"
    }
   ],
   "source": [
    "df.shape"
   ]
  },
  {
   "cell_type": "code",
   "execution_count": 82,
   "id": "32951c00",
   "metadata": {},
   "outputs": [
    {
     "data": {
      "text/plain": [
       "0    8bd9027e-6269-4a1a-b047-b0f779a08d31.png\n",
       "1    9bb3a046-486b-4559-8bac-df771ce3682a.png\n",
       "2    f1269315-1237-4058-b0c5-498bfc49859a.png\n",
       "3    cb0b2742-a475-4ad5-8c2c-8438c54d4091.png\n",
       "4    25eeb3cb-4367-499e-b639-dc801436e02e.png\n",
       "5    c4705ce7-51ea-4ea1-94bf-4bdd6c8ea787.png\n",
       "6    f0c0058f-0351-44ef-a790-f65ad844b870.png\n",
       "7    e2a22d70-46e6-426c-a067-23faaac7c4cd.png\n",
       "8    4b1454cc-5dd4-46d8-b767-380bd396de0d.png\n",
       "9    c999db20-1076-487d-9a69-edb2b148ba7b.png\n",
       "Name: file_name, dtype: object"
      ]
     },
     "execution_count": 82,
     "metadata": {},
     "output_type": "execute_result"
    }
   ],
   "source": [
    "#add '.png' after all file names in the column 'file_name'\n",
    "df['file_name'] = df['file_name'].astype(str).str.strip().str.lower()\n",
    "df['file_name'] = df['file_name'].apply(lambda x: x if x.endswith('.png') else f\"{x}.png\")\n",
    "df['file_name'].head(10)"
   ]
  },
  {
   "cell_type": "code",
   "execution_count": 83,
   "id": "1d50f20f",
   "metadata": {},
   "outputs": [
    {
     "data": {
      "text/html": [
       "<div>\n",
       "<style scoped>\n",
       "    .dataframe tbody tr th:only-of-type {\n",
       "        vertical-align: middle;\n",
       "    }\n",
       "\n",
       "    .dataframe tbody tr th {\n",
       "        vertical-align: top;\n",
       "    }\n",
       "\n",
       "    .dataframe thead th {\n",
       "        text-align: right;\n",
       "    }\n",
       "</style>\n",
       "<table border=\"1\" class=\"dataframe\">\n",
       "  <thead>\n",
       "    <tr style=\"text-align: right;\">\n",
       "      <th></th>\n",
       "      <th>file_name</th>\n",
       "      <th>label</th>\n",
       "    </tr>\n",
       "  </thead>\n",
       "  <tbody>\n",
       "    <tr>\n",
       "      <th>0</th>\n",
       "      <td>8bd9027e-6269-4a1a-b047-b0f779a08d31.png</td>\n",
       "      <td>BC</td>\n",
       "    </tr>\n",
       "    <tr>\n",
       "      <th>1</th>\n",
       "      <td>9bb3a046-486b-4559-8bac-df771ce3682a.png</td>\n",
       "      <td>BC</td>\n",
       "    </tr>\n",
       "    <tr>\n",
       "      <th>2</th>\n",
       "      <td>f1269315-1237-4058-b0c5-498bfc49859a.png</td>\n",
       "      <td>BC</td>\n",
       "    </tr>\n",
       "    <tr>\n",
       "      <th>3</th>\n",
       "      <td>cb0b2742-a475-4ad5-8c2c-8438c54d4091.png</td>\n",
       "      <td>BC</td>\n",
       "    </tr>\n",
       "    <tr>\n",
       "      <th>4</th>\n",
       "      <td>25eeb3cb-4367-499e-b639-dc801436e02e.png</td>\n",
       "      <td>BC</td>\n",
       "    </tr>\n",
       "  </tbody>\n",
       "</table>\n",
       "</div>"
      ],
      "text/plain": [
       "                                  file_name label\n",
       "0  8bd9027e-6269-4a1a-b047-b0f779a08d31.png    BC\n",
       "1  9bb3a046-486b-4559-8bac-df771ce3682a.png    BC\n",
       "2  f1269315-1237-4058-b0c5-498bfc49859a.png    BC\n",
       "3  cb0b2742-a475-4ad5-8c2c-8438c54d4091.png    BC\n",
       "4  25eeb3cb-4367-499e-b639-dc801436e02e.png    BC"
      ]
     },
     "execution_count": 83,
     "metadata": {},
     "output_type": "execute_result"
    }
   ],
   "source": [
    "df.head()"
   ]
  },
  {
   "cell_type": "code",
   "execution_count": 84,
   "id": "4c5bd258",
   "metadata": {},
   "outputs": [],
   "source": [
    "#save df to csv with name df_true.csv\n",
    "df.to_csv('../data/df_true2.csv', index=False)"
   ]
  },
  {
   "cell_type": "code",
   "execution_count": 85,
   "id": "0502a92f",
   "metadata": {},
   "outputs": [],
   "source": [
    "csv_file = '../data/df_true2.csv'\n",
    "df = pd.read_csv(csv_file)"
   ]
  },
  {
   "cell_type": "code",
   "execution_count": 86,
   "id": "a66fb43e",
   "metadata": {},
   "outputs": [
    {
     "data": {
      "text/plain": [
       "(8432, 2)"
      ]
     },
     "execution_count": 86,
     "metadata": {},
     "output_type": "execute_result"
    }
   ],
   "source": [
    "df.shape"
   ]
  },
  {
   "cell_type": "code",
   "execution_count": 88,
   "id": "15c29230",
   "metadata": {},
   "outputs": [
    {
     "data": {
      "text/plain": [
       "array(['BC', 'BC K.M.skab', 'CP1', 'CP3', 'CP4', 'CP6', 'Kabeldon CDC420',\n",
       "       'Kabeldon CDC440', 'Kabeldon CDC460', 'Kabeldon KSIP423',\n",
       "       'Kabeldon KSIP433', 'Kabeldon KSIP443', 'Kabeldon KSIP463',\n",
       "       'Kabeldon KSIP483', 'Kombimodul 2M', 'Kombimodul 3M',\n",
       "       'Kombimodul 4M', 'KSE09', 'KSE12', 'KSE15', 'KSE18', 'KSE21',\n",
       "       'KSE27', 'KSE36', 'KSE45', 'MEL1', 'MEL2', 'MEL3', 'MEL4', 'NU',\n",
       "       'PK20', 'PK35', 'PK48', 'SC'], dtype=object)"
      ]
     },
     "execution_count": 88,
     "metadata": {},
     "output_type": "execute_result"
    }
   ],
   "source": [
    "#count unique values in column label:\n",
    "df['label'].unique()"
   ]
  }
 ],
 "metadata": {
  "kernelspec": {
   "display_name": ".venv",
   "language": "python",
   "name": "python3"
  },
  "language_info": {
   "codemirror_mode": {
    "name": "ipython",
    "version": 3
   },
   "file_extension": ".py",
   "mimetype": "text/x-python",
   "name": "python",
   "nbconvert_exporter": "python",
   "pygments_lexer": "ipython3",
   "version": "3.12.0"
  }
 },
 "nbformat": 4,
 "nbformat_minor": 5
}
