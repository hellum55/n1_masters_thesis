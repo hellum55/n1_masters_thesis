{
 "cells": [
  {
   "cell_type": "code",
   "execution_count": 1,
   "id": "6563241b",
   "metadata": {},
   "outputs": [
    {
     "name": "stdout",
     "output_type": "stream",
     "text": [
      "✅ Filtered CSV: kept 7930 of 9414 rows.\n",
      "📝 Overwritten: C:/Users/Christian/Desktop/N1_data/clean_data.csv\n"
     ]
    }
   ],
   "source": [
    "import os\n",
    "import pandas as pd\n",
    "\n",
    "def delete_unmatched_rows(csv_path, image_folder, id_column=\"ImageName\"):\n",
    "    \"\"\"\n",
    "    Deletes rows from a CSV file if their image ID doesn't match a file in the image folder.\n",
    "    Compares only the base ID (no extension).\n",
    "\n",
    "    Args:\n",
    "        csv_path: Path to the CSV file to clean (will overwrite)\n",
    "        image_folder: Path to the folder containing image files\n",
    "        id_column: Column in the CSV containing image IDs (no extension)\n",
    "    \"\"\"\n",
    "\n",
    "    # Load CSV\n",
    "    df = pd.read_csv(csv_path)\n",
    "    df[id_column] = df[id_column].astype(str)\n",
    "\n",
    "    # Get all image IDs from the folder (remove extensions)\n",
    "    folder_ids = {\n",
    "        os.path.splitext(f)[0]\n",
    "        for f in os.listdir(image_folder)\n",
    "        if os.path.isfile(os.path.join(image_folder, f))\n",
    "    }\n",
    "\n",
    "    # Filter the DataFrame\n",
    "    filtered_df = df[df[id_column].isin(folder_ids)]\n",
    "    filtered_df = filtered_df.drop_duplicates(subset=['ImageName'])\n",
    "    #keep only column ImageName and ValidatedType\n",
    "    filtered_df = filtered_df[['ImageName', 'ValidatedType']]\n",
    "    #rename ImageName to file_name and ValidatedType to label\n",
    "    filtered_df = filtered_df.rename(columns={'ImageName': 'file_name', 'ValidatedType': 'label'})\n",
    "\n",
    "    # Overwrite original CSV\n",
    "    filtered_df.to_csv(\"C:/Users/Christian/Desktop/N1_data/clean_data.csv\", index=False)\n",
    "\n",
    "    print(f\"✅ Filtered CSV: kept {len(filtered_df)} of {len(df)} rows.\")\n",
    "    print(f\"📝 Overwritten: {\"C:/Users/Christian/Desktop/N1_data/clean_data.csv\"}\")\n",
    "\n",
    "# Example usage\n",
    "if __name__ == \"__main__\":\n",
    "    csv_path = \"C:/Users/Christian/Desktop/N1_data/sampled_dataset.csv\"\n",
    "    image_folder = \"C:/Users/Christian/Desktop/N1_data/image_data/\"\n",
    "\n",
    "    delete_unmatched_rows(csv_path, image_folder)"
   ]
  }
 ],
 "metadata": {
  "kernelspec": {
   "display_name": ".venv",
   "language": "python",
   "name": "python3"
  },
  "language_info": {
   "codemirror_mode": {
    "name": "ipython",
    "version": 3
   },
   "file_extension": ".py",
   "mimetype": "text/x-python",
   "name": "python",
   "nbconvert_exporter": "python",
   "pygments_lexer": "ipython3",
   "version": "3.12.0"
  }
 },
 "nbformat": 4,
 "nbformat_minor": 5
}
