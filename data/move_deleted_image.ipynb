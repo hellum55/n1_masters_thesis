{
 "cells": [
  {
   "cell_type": "code",
   "execution_count": null,
   "id": "6782adbb",
   "metadata": {},
   "outputs": [],
   "source": [
    "import pandas as pd\n",
    "import os\n",
    "import shutil\n",
    "\n",
    "# Set your paths\n",
    "excel_file = 'C:/Users/Christian/Desktop/N1_data/deleted_images.xlsx'  # replace with your actual file name\n",
    "image_folder = 'C:/Users/Christian/Desktop/N1_data/image_data'\n",
    "deleted_folder = 'C:/Users/Christian/Desktop/N1_data/deleted_images'\n",
    "\n",
    "# Create deleted_images folder if it doesn't exist\n",
    "os.makedirs(deleted_folder, exist_ok=True)\n",
    "\n",
    "# Load the image IDs (assuming there's a column called 'image_id')\n",
    "df = pd.read_excel(excel_file)\n",
    "image_ids = df['id'].tolist()\n",
    "\n",
    "# Move each image\n",
    "for image_id in image_ids:\n",
    "    image_name = f\"{image_id}.png\"\n",
    "    source_path = os.path.join(image_folder, image_name)\n",
    "    destination_path = os.path.join(deleted_folder, image_name)\n",
    "\n",
    "    if os.path.exists(source_path):\n",
    "        shutil.move(source_path, destination_path)\n",
    "        print(f\"Moved: {image_name}\")\n",
    "    else:\n",
    "        print(f\"File not found: {image_name}\")"
   ]
  },
  {
   "cell_type": "markdown",
   "id": "23cbe60f",
   "metadata": {},
   "source": [
    "Find the missing images ids in the image folder compared with the csv file with deleted images"
   ]
  },
  {
   "cell_type": "code",
   "execution_count": null,
   "id": "923f6bf7",
   "metadata": {},
   "outputs": [],
   "source": [
    "import os\n",
    "import pandas as pd\n",
    "\n",
    "def find_missing_images(excel_path, image_folder, id_column=\"id\", image_extension=\"\"):\n",
    "    \"\"\"\n",
    "    Compares image IDs from an Excel file with files in a folder, and prints missing files.\n",
    "\n",
    "    Args:\n",
    "        excel_path: Path to the Excel file\n",
    "        image_folder: Folder where image files are stored\n",
    "        id_column: Name of the column in the Excel file with image IDs (no extension)\n",
    "        image_extension: Image file extension to check (e.g., .png, .jpg)\n",
    "    \"\"\"\n",
    "\n",
    "    # Load image IDs from Excel\n",
    "    df = pd.read_excel(excel_path)\n",
    "    excel_ids = set(df[id_column].astype(str))\n",
    "\n",
    "    # Get image IDs from the folder (remove .png extension)\n",
    "    folder_files = [f for f in os.listdir(image_folder) if f.endswith(image_extension)]\n",
    "    folder_ids = set(os.path.splitext(f)[0] for f in folder_files)\n",
    "\n",
    "    # Find which IDs are in the Excel but not in the folder\n",
    "    missing_ids = excel_ids - folder_ids\n",
    "\n",
    "    if missing_ids:\n",
    "        print(f\"Missing {len(missing_ids)} images:\")\n",
    "        for mid in sorted(missing_ids):\n",
    "            print(f\"{mid}{image_extension}\")\n",
    "    else:\n",
    "        print(\"✅ All image files from Excel are present in the folder.\")\n",
    "\n",
    "# Example usage\n",
    "if __name__ == \"__main__\":\n",
    "    excel_path = \"C:/Users/Christian/Desktop/N1_data/deleted_images.xlsx\"\n",
    "    image_folder = \"C:/Users/Christian/Desktop/N1_data/deleted_images\"\n",
    "\n",
    "    find_missing_images(excel_path, image_folder)"
   ]
  },
  {
   "cell_type": "markdown",
   "id": "24649723",
   "metadata": {},
   "source": [
    "Find duplicates"
   ]
  },
  {
   "cell_type": "code",
   "execution_count": null,
   "id": "2b2e2b37",
   "metadata": {},
   "outputs": [],
   "source": [
    "# Load the CSV file\n",
    "df = pd.read_excel(\"C:/Users/Christian/Desktop/N1_data/deleted_images.xlsx\")\n",
    "\n",
    "# Find duplicates based on the \"ImageName\" column\n",
    "duplicates = df[df.duplicated(subset=[\"id\"], keep=False)]\n",
    "\n",
    "if not duplicates.empty:\n",
    "    print(f\"Found {len(duplicates)} duplicate rows based on column 'id':\")\n",
    "    print(duplicates)\n",
    "else:\n",
    "    print(f\"No duplicates found in column 'id'.\")"
   ]
  }
 ],
 "metadata": {
  "language_info": {
   "name": "python"
  }
 },
 "nbformat": 4,
 "nbformat_minor": 5
}
